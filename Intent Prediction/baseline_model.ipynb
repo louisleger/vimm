{
  "cells": [
    {
      "cell_type": "code",
      "execution_count": 22,
      "metadata": {
        "id": "5-9HkXSqo8uw"
      },
      "outputs": [],
      "source": [
        "import tensorflow as tf\n",
        "from tensorflow.keras.models import Sequential\n",
        "from tensorflow.keras.layers import Conv2D, MaxPooling2D, Flatten, Dense\n",
        "from tensorflow.keras.preprocessing.image import ImageDataGenerator\n",
        "from tensorflow.keras.models import load_model\n",
        "import numpy as np\n",
        "from tensorflow.keras.preprocessing import image\n",
        "import os\n",
        "import cv2\n",
        "import numpy as np"
      ]
    },
    {
      "cell_type": "code",
      "execution_count": 23,
      "metadata": {
        "colab": {
          "base_uri": "https://localhost:8080/"
        },
        "id": "gnWjMtoHoRSi",
        "outputId": "0c12a707-5d0b-429f-a054-bf74d5265741"
      },
      "outputs": [
        {
          "output_type": "stream",
          "name": "stdout",
          "text": [
            "Drive already mounted at /content/drive; to attempt to forcibly remount, call drive.mount(\"/content/drive\", force_remount=True).\n"
          ]
        }
      ],
      "source": [
        "from google.colab import drive\n",
        "drive.mount('/content/drive')"
      ]
    },
    {
      "cell_type": "code",
      "execution_count": 17,
      "metadata": {
        "colab": {
          "base_uri": "https://localhost:8080/"
        },
        "id": "0-fYqN4zoSkJ",
        "outputId": "ce15e770-43db-4f95-c70b-b8ee0f3847b9"
      },
      "outputs": [
        {
          "output_type": "stream",
          "name": "stdout",
          "text": [
            "/content/drive/MyDrive/final_vimm\n"
          ]
        }
      ],
      "source": [
        "%cd /content/drive/MyDrive/final_vimm/"
      ]
    },
    {
      "cell_type": "code",
      "source": [
        "!unzip train_all.zip"
      ],
      "metadata": {
        "id": "64w25jxxvv0t"
      },
      "execution_count": null,
      "outputs": []
    },
    {
      "cell_type": "code",
      "source": [
        "!unzip test_all.zip"
      ],
      "metadata": {
        "id": "4lhzQ35Lvez6"
      },
      "execution_count": null,
      "outputs": []
    },
    {
      "cell_type": "code",
      "source": [
        "gpus = tf.config.list_physical_devices('GPU')\n",
        "if gpus:\n",
        "    try:\n",
        "        for gpu in gpus:\n",
        "            tf.config.experimental.set_memory_growth(gpu, True)\n",
        "        logical_gpus = tf.config.experimental.list_logical_devices('GPU')\n",
        "        print(len(gpus), \"Physical GPUs,\", len(logical_gpus), \"Logical GPUs\")\n",
        "    except RuntimeError as e:\n",
        "        print(e)"
      ],
      "metadata": {
        "id": "ISIL-YGf-7A2",
        "colab": {
          "base_uri": "https://localhost:8080/"
        },
        "outputId": "c20a918b-3dc3-4529-cdda-2b78878b1c46"
      },
      "execution_count": 18,
      "outputs": [
        {
          "output_type": "stream",
          "name": "stdout",
          "text": [
            "1 Physical GPUs, 1 Logical GPUs\n"
          ]
        }
      ]
    },
    {
      "cell_type": "markdown",
      "source": [
        "# **DATA PREPARATION**"
      ],
      "metadata": {
        "id": "m_IXwZq_KLWE"
      }
    },
    {
      "cell_type": "code",
      "execution_count": null,
      "metadata": {
        "id": "329s6Yd7n9Hp"
      },
      "outputs": [],
      "source": [
        "def extract_and_label_frames(videos_without_guns_path, videos_with_guns_path, labels_path, output_path, time_window=5, fps=24):\n",
        "    if not os.path.exists(output_path):\n",
        "        os.makedirs(output_path)\n",
        "\n",
        "    gun_appear_dir = os.path.join(output_path, 'gun_will_appear')\n",
        "    no_gun_dir = os.path.join(output_path, 'no_gun')\n",
        "\n",
        "    if not os.path.exists(gun_appear_dir):\n",
        "        os.makedirs(gun_appear_dir)\n",
        "\n",
        "    if not os.path.exists(no_gun_dir):\n",
        "        os.makedirs(no_gun_dir)\n",
        "\n",
        "    for video_file in os.listdir(videos_without_guns_path):\n",
        "        video_path = os.path.join(videos_without_guns_path, video_file)\n",
        "        cap = cv2.VideoCapture(video_path)\n",
        "        frame_count = int(cap.get(cv2.CAP_PROP_FRAME_COUNT))\n",
        "        for i in range(frame_count):\n",
        "            ret, frame = cap.read()\n",
        "            if not ret:\n",
        "                break\n",
        "            frame_path = os.path.join(no_gun_dir, f'{os.path.splitext(video_file)[0]}_frame_{i}.jpg')\n",
        "            cv2.imwrite(frame_path, frame)\n",
        "        cap.release()\n",
        "\n",
        "    for video_file in os.listdir(videos_with_guns_path):\n",
        "        video_path = os.path.join(videos_with_guns_path, video_file)\n",
        "        label_file = os.path.join(labels_path, f'{os.path.splitext(video_file)[0]}labels.txt')\n",
        "\n",
        "        if not os.path.exists(label_file):\n",
        "            continue\n",
        "\n",
        "        with open(label_file, 'r') as lf:\n",
        "            try:\n",
        "                gun_appearance_time = int(lf.readline().strip())\n",
        "            except:\n",
        "                continue\n",
        "\n",
        "        gun_appearance_frame = gun_appearance_time * fps\n",
        "        start_frame = max(0, gun_appearance_frame - time_window * fps)\n",
        "        print(start_frame)\n",
        "\n",
        "        cap = cv2.VideoCapture(video_path)\n",
        "        cap.set(cv2.CAP_PROP_POS_FRAMES, start_frame)\n",
        "        for i in range(start_frame, min(gun_appearance_frame, int(cap.get(cv2.CAP_PROP_FRAME_COUNT)))):\n",
        "            ret, frame = cap.read()\n",
        "            if not ret:\n",
        "                break\n",
        "            frame_path = os.path.join(gun_appear_dir, f'{os.path.splitext(video_file)[0]}_frame_{i}.jpg')\n",
        "            cv2.imwrite(frame_path, frame)\n",
        "        cap.release()\n",
        "\n",
        "videos_without_guns_path = 'videos_without_guns'\n",
        "videos_with_guns_path = 'videos_with_guns_and_labels/videos'\n",
        "labels_path = 'videos_with_guns_and_labels/labels'\n",
        "output_path = 'datos_viejos2'\n",
        "\n",
        "extract_and_label_frames(videos_without_guns_path, videos_with_guns_path, labels_path, output_path)\n"
      ]
    },
    {
      "cell_type": "code",
      "source": [
        "# THIS IS FOR THE OTHER DATA PROCESSING\n",
        "\n",
        "# import os\n",
        "# import cv2\n",
        "\n",
        "# def extract_and_label_frames(videos_without_guns_path, videos_with_guns_path, labels_file_path, output_path, time_window=5, fps=24):\n",
        "#     if not os.path.exists(output_path):\n",
        "#         os.makedirs(output_path)\n",
        "\n",
        "#     gun_appear_dir = os.path.join(output_path, 'gun_will_appear')\n",
        "#     no_gun_dir = os.path.join(output_path, 'no_gun')\n",
        "\n",
        "#     if not os.path.exists(gun_appear_dir):\n",
        "#         os.makedirs(gun_appear_dir)\n",
        "\n",
        "#     if not os.path.exists(no_gun_dir):\n",
        "#         os.makedirs(no_gun_dir)\n",
        "\n",
        "#     # Parse the labels file\n",
        "#     labels = {}\n",
        "#     with open(labels_file_path, 'r') as lf:\n",
        "#         for line in lf:\n",
        "#             if line.startswith('#') or not line.strip():\n",
        "#                 continue\n",
        "#             video_file, time_str = line.strip().split(', ')\n",
        "#             minutes, seconds = map(int, time_str.split(':'))\n",
        "#             total_seconds = minutes * 60 + seconds\n",
        "#             labels[video_file] = total_seconds\n",
        "\n",
        "#     # Process videos without guns\n",
        "#     for video_file in os.listdir(videos_without_guns_path):\n",
        "#         video_path = os.path.join(videos_without_guns_path, video_file)\n",
        "#         cap = cv2.VideoCapture(video_path)\n",
        "#         frame_count = int(cap.get(cv2.CAP_PROP_FRAME_COUNT))\n",
        "#         for i in range(frame_count):\n",
        "#             ret, frame = cap.read()\n",
        "#             if not ret:\n",
        "#                 break\n",
        "#             frame_path = os.path.join(no_gun_dir, f'{os.path.splitext(video_file)[0]}_frame_{i}.jpg')\n",
        "#             cv2.imwrite(frame_path, frame)\n",
        "#         cap.release()\n",
        "\n",
        "#     # Process videos with guns\n",
        "#     for video_file in os.listdir(videos_with_guns_path):\n",
        "#         video_path = os.path.join(videos_with_guns_path, video_file)\n",
        "\n",
        "#         if video_file not in labels:\n",
        "#             continue\n",
        "\n",
        "#         gun_appearance_time = labels[video_file]\n",
        "#         gun_appearance_frame = gun_appearance_time * fps\n",
        "#         start_frame = max(0, gun_appearance_frame - time_window * fps)\n",
        "\n",
        "#         cap = cv2.VideoCapture(video_path)\n",
        "#         cap.set(cv2.CAP_PROP_POS_FRAMES, start_frame)\n",
        "#         for i in range(start_frame, min(gun_appearance_frame, int(cap.get(cv2.CAP_PROP_FRAME_COUNT)))):\n",
        "#             ret, frame = cap.read()\n",
        "#             if not ret:\n",
        "#                 break\n",
        "#             frame_path = os.path.join(gun_appear_dir, f'{os.path.splitext(video_file)[0]}_frame_{i}.jpg')\n",
        "#             cv2.imwrite(frame_path, frame)\n",
        "#         cap.release()\n",
        "\n",
        "# videos_without_guns_path = 'empty_folder'\n",
        "# videos_with_guns_path = 'dataset_part_2/Videos'\n",
        "# labels_path = 'dataset_part_2/Labels/labels.txt'\n",
        "# output_path = 'gun_videos_part_2'\n",
        "\n",
        "# extract_and_label_frames(videos_without_guns_path, videos_with_guns_path, labels_path, output_path)\n"
      ],
      "metadata": {
        "id": "GiOdci95slmM"
      },
      "execution_count": null,
      "outputs": []
    },
    {
      "cell_type": "markdown",
      "metadata": {
        "id": "2Drd2XfAFIjS"
      },
      "source": [
        "## Baseline Model ##"
      ]
    },
    {
      "cell_type": "code",
      "execution_count": null,
      "metadata": {
        "id": "6tOxdwbTFROm"
      },
      "outputs": [],
      "source": [
        "base_path = '/content/drive/MyDrive/final_vimm/'"
      ]
    },
    {
      "cell_type": "code",
      "execution_count": null,
      "metadata": {
        "id": "MrQM5Jt3Eski"
      },
      "outputs": [],
      "source": [
        "gun_will_appear_path = 'datos_viejos2/gun_will_appear'\n",
        "no_gun_path = 'datos_viejos2/no_gun'"
      ]
    },
    {
      "cell_type": "code",
      "execution_count": null,
      "metadata": {
        "id": "43QD4C3UE55Y"
      },
      "outputs": [],
      "source": [
        "no_gun_videos = list(set([f.split('_')[0] for f in os.listdir(no_gun_path)]))\n",
        "gun_videos = list(set([f.split('_')[0] for f in os.listdir(gun_will_appear_path)]))"
      ]
    },
    {
      "cell_type": "code",
      "execution_count": null,
      "metadata": {
        "colab": {
          "base_uri": "https://localhost:8080/"
        },
        "id": "_O1G631-Rv50",
        "outputId": "744a5f04-36e8-46ef-d461-473c125dbd58"
      },
      "outputs": [
        {
          "output_type": "execute_result",
          "data": {
            "text/plain": [
              "['1', '7', '2', '6', '8', '10', '5', '9', '4', '3']"
            ]
          },
          "metadata": {},
          "execution_count": 10
        }
      ],
      "source": [
        "no_gun_videos"
      ]
    },
    {
      "cell_type": "code",
      "execution_count": null,
      "metadata": {
        "colab": {
          "base_uri": "https://localhost:8080/"
        },
        "id": "IEMpZlvWRyoW",
        "outputId": "0c7107ae-9a27-4a36-9704-59af2f79d7d9"
      },
      "outputs": [
        {
          "output_type": "execute_result",
          "data": {
            "text/plain": [
              "[]"
            ]
          },
          "metadata": {},
          "execution_count": 12
        }
      ],
      "source": [
        "gun_videos"
      ]
    },
    {
      "cell_type": "code",
      "execution_count": null,
      "metadata": {
        "id": "FaiK80GXSUz_"
      },
      "outputs": [],
      "source": [
        "from sklearn.model_selection import train_test_split"
      ]
    },
    {
      "cell_type": "code",
      "execution_count": null,
      "metadata": {
        "id": "sXHEmhMPFCma"
      },
      "outputs": [],
      "source": [
        "train_gun, test_gun = train_test_split(gun_videos, test_size=0.2, random_state=42)"
      ]
    },
    {
      "cell_type": "code",
      "source": [
        "train_no_gun, test_no_gun = train_test_split(no_gun_videos, test_size=0.2, random_state=42)"
      ],
      "metadata": {
        "id": "KAEsfyZU0Z9U"
      },
      "execution_count": null,
      "outputs": []
    },
    {
      "cell_type": "code",
      "execution_count": null,
      "metadata": {
        "id": "hodRn6qQSYW0"
      },
      "outputs": [],
      "source": [
        "import shutil"
      ]
    },
    {
      "cell_type": "code",
      "execution_count": null,
      "metadata": {
        "id": "rd3_G3nfFN6i"
      },
      "outputs": [],
      "source": [
        "def copy_files(video_list, source_path, destination_path):\n",
        "    if not os.path.exists(destination_path):\n",
        "        os.makedirs(destination_path)\n",
        "    for video in video_list:\n",
        "        for file in os.listdir(source_path):\n",
        "            if file.startswith(video):\n",
        "                shutil.copy(os.path.join(source_path, file), destination_path)"
      ]
    },
    {
      "cell_type": "code",
      "execution_count": null,
      "metadata": {
        "id": "lr-_qlWiFQeY"
      },
      "outputs": [],
      "source": [
        "train_path = os.path.join(base_path, 'train4')\n",
        "test_path = os.path.join(base_path, 'test4')"
      ]
    },
    {
      "cell_type": "code",
      "execution_count": null,
      "metadata": {
        "id": "fW_BIvPgFmq_"
      },
      "outputs": [],
      "source": [
        "copy_files(train_no_gun, no_gun_path, os.path.join(train_path, 'no_gun'))\n",
        "copy_files(test_no_gun, no_gun_path, os.path.join(test_path, 'no_gun'))\n",
        "copy_files(train_gun, gun_will_appear_path, os.path.join('train4', 'gun_will_appear'))\n",
        "copy_files(test_gun, gun_will_appear_path, os.path.join('test4', 'gun_will_appear'))"
      ]
    },
    {
      "cell_type": "code",
      "source": [
        "train_source_dirs = ['train2', 'train4']\n",
        "test_source_dirs = ['test2', 'test4']\n",
        "\n",
        "train_target_dir = 'train_all'\n",
        "test_target_dir = 'test_all'\n",
        "\n",
        "os.makedirs(os.path.join(train_target_dir, 'no_gun'), exist_ok=True)\n",
        "os.makedirs(os.path.join(train_target_dir, 'gun_will_appear'), exist_ok=True)\n",
        "os.makedirs(os.path.join(test_target_dir, 'no_gun'), exist_ok=True)\n",
        "os.makedirs(os.path.join(test_target_dir, 'gun_will_appear'), exist_ok=True)\n",
        "\n",
        "def move_files(source_dirs, target_dir):\n",
        "    for source_dir in source_dirs:\n",
        "        for subdir in ['no_gun', 'gun_will_appear']:\n",
        "            source_path = os.path.join(source_dir, subdir)\n",
        "            target_path = os.path.join(target_dir, subdir)\n",
        "            if os.path.exists(source_path):\n",
        "                for file_name in os.listdir(source_path):\n",
        "                    full_file_name = os.path.join(source_path, file_name)\n",
        "                    if os.path.isfile(full_file_name):\n",
        "                        shutil.move(full_file_name, target_path)\n",
        "\n",
        "\n",
        "move_files(train_source_dirs, train_target_dir)\n",
        "move_files(test_source_dirs, test_target_dir)"
      ],
      "metadata": {
        "id": "MsYXFtlz25zt"
      },
      "execution_count": null,
      "outputs": []
    },
    {
      "cell_type": "code",
      "source": [
        "import os\n",
        "\n",
        "def count_files(directory):\n",
        "    total_files = 0\n",
        "    subdir_file_counts = {}\n",
        "    for subdir, _, files in os.walk(directory):\n",
        "        num_files = len(files)\n",
        "        total_files += num_files\n",
        "        subdir_name = os.path.relpath(subdir, directory)\n",
        "        subdir_file_counts[subdir_name] = num_files\n",
        "    return total_files, subdir_file_counts\n",
        "\n",
        "\n",
        "train_target_dir = 'train_all'\n",
        "test_target_dir = 'test_all'\n",
        "\n",
        "train_total_files, train_subdir_file_counts = count_files(train_target_dir)\n",
        "print(f'Total files in {train_target_dir}: {train_total_files}')\n",
        "for subdir, count in train_subdir_file_counts.items():\n",
        "    print(f'Files in {os.path.join(train_target_dir, subdir)}: {count}')\n",
        "\n",
        "test_total_files, test_subdir_file_counts = count_files(test_target_dir)\n",
        "print(f'Total files in {test_target_dir}: {test_total_files}')\n",
        "for subdir, count in test_subdir_file_counts.items():\n",
        "    print(f'Files in {os.path.join(test_target_dir, subdir)}: {count}')"
      ],
      "metadata": {
        "colab": {
          "base_uri": "https://localhost:8080/"
        },
        "id": "v24YLvkv6DIV",
        "outputId": "699d330b-3df1-427a-df04-53f2c727127f"
      },
      "execution_count": 24,
      "outputs": [
        {
          "output_type": "stream",
          "name": "stdout",
          "text": [
            "Total files in train_all: 14495\n",
            "Files in train_all/.: 0\n",
            "Files in train_all/no_gun: 9678\n",
            "Files in train_all/gun_will_appear: 4817\n",
            "Total files in test_all: 3073\n",
            "Files in test_all/.: 0\n",
            "Files in test_all/no_gun: 1434\n",
            "Files in test_all/gun_will_appear: 1639\n"
          ]
        }
      ]
    },
    {
      "cell_type": "code",
      "execution_count": null,
      "metadata": {
        "colab": {
          "base_uri": "https://localhost:8080/"
        },
        "id": "yjgoKCH_Ybf7",
        "outputId": "74f56a77-7912-400b-bf01-997e53b5a4b1"
      },
      "outputs": [
        {
          "output_type": "stream",
          "name": "stdout",
          "text": [
            "Total number of files in train directory: 4543\n",
            "Total number of files in test directory: 1710\n"
          ]
        }
      ],
      "source": [
        "def count_files(directory):\n",
        "    total_files = 0\n",
        "    for root, dirs, files in os.walk(directory):\n",
        "        total_files += len(files)\n",
        "    return total_files\n",
        "\n",
        "train_path = os.path.join(base_path, 'train3')\n",
        "test_path = os.path.join(base_path, 'test3')\n",
        "\n",
        "num_train_files = count_files(train_path)\n",
        "num_test_files = count_files(test_path)\n",
        "\n",
        "print(f\"Total number of files in train directory: {num_train_files}\")\n",
        "print(f\"Total number of files in test directory: {num_test_files}\")"
      ]
    },
    {
      "cell_type": "code",
      "execution_count": null,
      "metadata": {
        "colab": {
          "base_uri": "https://localhost:8080/"
        },
        "id": "4i5BqosJZNuM",
        "outputId": "29c70083-282a-4976-c232-7e5ce0a66430"
      },
      "outputs": [
        {
          "name": "stdout",
          "output_type": "stream",
          "text": [
            "train/no_gun/3_frame_0.jpg\n",
            "test/no_gun/5_frame_0.jpg\n",
            "train/gun_will_appear/Terrifying armed home invasion attempt caught on camera [voTsJAi_SHw]_frame_960.jpg\n",
            "test/gun_will_appear/Victim opens fire on would-be robbers in shootout at Compton store [qbDrZNQTyIk]_frame_0.jpg\n"
          ]
        }
      ],
      "source": [
        "# def print_file_names(base_path):\n",
        "#     for root, dirs, files in os.walk(base_path):\n",
        "#         for file in files:\n",
        "#             file_path = os.path.join(root, file)\n",
        "#             print(file_path)\n",
        "#             break\n",
        "\n",
        "\n",
        "# print_file_names('train/no_gun')\n",
        "# print_file_names('test/no_gun')\n",
        "# print_file_names('train/gun_will_appear')\n",
        "# print_file_names('test/gun_will_appear')"
      ]
    },
    {
      "cell_type": "code",
      "execution_count": null,
      "metadata": {
        "id": "GDamdjz_hEMm"
      },
      "outputs": [],
      "source": [
        "# old VERSION\n",
        "\n",
        "# import os\n",
        "# import numpy as np\n",
        "# import tensorflow as tf\n",
        "# from tensorflow.keras.preprocessing.image import img_to_array, load_img\n",
        "# from tensorflow.keras.utils import to_categorical\n",
        "# from collections import defaultdict\n",
        "\n",
        "# class VideoFrameGenerator(tf.keras.utils.Sequence):\n",
        "#     def __init__(self, base_path, categories, img_size=(64, 64), batch_size=1):\n",
        "#         self.base_path = base_path\n",
        "#         self.categories = categories\n",
        "#         self.img_size = img_size\n",
        "#         self.batch_size = batch_size\n",
        "#         self.data = []\n",
        "#         self.labels = []\n",
        "#         self.max_sequence_length = 0\n",
        "\n",
        "#         # Load data paths and labels\n",
        "#         for category in categories:\n",
        "#             path = os.path.join(base_path, category)\n",
        "#             class_num = categories.index(category)\n",
        "\n",
        "#             # Group frames by video using a dictionary\n",
        "#             video_frames = defaultdict(list)\n",
        "#             for frame in sorted(os.listdir(path)):  # Ensure frames are in correct order\n",
        "#                 video_id = \"_\".join(frame.split('_')[:-1])\n",
        "#                 video_frames[video_id].append(frame)\n",
        "\n",
        "#             for video_id, frames in video_frames.items():\n",
        "#                 self.data.append((category, frames))\n",
        "#                 self.labels.append(class_num)\n",
        "#                 self.max_sequence_length = max(self.max_sequence_length, len(frames))\n",
        "\n",
        "#         self.labels = to_categorical(self.labels, num_classes=len(categories))\n",
        "\n",
        "#     def __len__(self):\n",
        "#         return int(np.ceil(len(self.data) / self.batch_size))\n",
        "\n",
        "#     def __getitem__(self, idx):\n",
        "#         batch_data = self.data[idx * self.batch_size:(idx + 1) * self.batch_size]\n",
        "#         batch_labels = self.labels[idx * self.batch_size:(idx + 1) * self.batch_size]\n",
        "\n",
        "#         X_batch = []\n",
        "#         for category, frames in batch_data:\n",
        "#             video_data = []\n",
        "#             for frame in frames:\n",
        "#                 img_path = os.path.join(self.base_path, category, frame)\n",
        "#                 img = load_img(img_path, target_size=self.img_size)\n",
        "#                 img_array = img_to_array(img) / 255.0  # Normalize here\n",
        "#                 video_data.append(img_array)\n",
        "#             padded_video_data = tf.keras.preprocessing.sequence.pad_sequences(\n",
        "#                 [video_data], maxlen=self.max_sequence_length, padding='post', dtype='float32')[0]\n",
        "#             X_batch.append(padded_video_data)\n",
        "\n",
        "#         return np.array(X_batch), np.array(batch_labels)\n",
        "\n",
        "# # Paths to train and test datasets\n",
        "# train_path = 'train'\n",
        "# test_path = 'test'\n",
        "# categories = ['no_gun', 'gun_will_appear'] # Replace with your actual categories\n",
        "# batch_size = 8  # Adjust based on your GPU/CPU memory\n",
        "\n",
        "# train_generator = VideoFrameGenerator(train_path, categories, batch_size=batch_size)\n",
        "# test_generator = VideoFrameGenerator(test_path, categories, batch_size=batch_size)\n"
      ]
    },
    {
      "cell_type": "code",
      "execution_count": 47,
      "metadata": {
        "id": "y16UYSfr5k4U"
      },
      "outputs": [],
      "source": [
        "train_path = 'train_all'\n",
        "test_path = 'test_all'\n",
        "categories = ['no_gun', 'gun_will_appear']\n",
        "batch_size = 8"
      ]
    },
    {
      "cell_type": "code",
      "execution_count": 26,
      "metadata": {
        "id": "2GsQEs3BiBCS"
      },
      "outputs": [],
      "source": [
        "from collections import defaultdict\n",
        "def compute_max_sequence_length(base_path, categories):\n",
        "    max_sequence_length = 0\n",
        "\n",
        "    for category in categories:\n",
        "        path = os.path.join(base_path, category)\n",
        "\n",
        "        # Group frames by video using a dictionary\n",
        "        video_frames = defaultdict(list)\n",
        "        for frame in sorted(os.listdir(path)):  # Ensure frames are in correct order\n",
        "            video_id = \"_\".join(frame.split('_')[:-1])\n",
        "            video_frames[video_id].append(frame)\n",
        "\n",
        "        for video_id, frames in video_frames.items():\n",
        "            max_sequence_length = max(max_sequence_length, len(frames))\n",
        "\n",
        "    return max_sequence_length\n",
        "\n",
        "max_sequence_length_train = compute_max_sequence_length(train_path, categories)\n",
        "max_sequence_length_test = compute_max_sequence_length(test_path, categories)\n",
        "max_sequence_length = max(max_sequence_length_train, max_sequence_length_test)\n"
      ]
    },
    {
      "cell_type": "code",
      "execution_count": 27,
      "metadata": {
        "colab": {
          "base_uri": "https://localhost:8080/"
        },
        "id": "HL7pBP-llE1W",
        "outputId": "810b9ef4-90e8-4362-d20c-2704a59b226a"
      },
      "outputs": [
        {
          "output_type": "execute_result",
          "data": {
            "text/plain": [
              "2282"
            ]
          },
          "metadata": {},
          "execution_count": 27
        }
      ],
      "source": [
        "max_sequence_length"
      ]
    },
    {
      "cell_type": "code",
      "execution_count": null,
      "metadata": {
        "id": "gi6pGGT8mi-w"
      },
      "outputs": [],
      "source": [
        "# import os\n",
        "# import numpy as np\n",
        "# import tensorflow as tf\n",
        "# from tensorflow.keras.preprocessing.image import img_to_array, load_img\n",
        "# from tensorflow.keras.utils import to_categorical\n",
        "# from collections import defaultdict\n",
        "\n",
        "# # Define the VideoFrameGenerator class with NaN checks\n",
        "# class VideoFrameGenerator(tf.keras.utils.Sequence):\n",
        "#     def __init__(self, base_path, categories, img_size=(64, 64), batch_size=1):\n",
        "#         self.base_path = base_path\n",
        "#         self.categories = categories\n",
        "#         self.img_size = img_size\n",
        "#         self.batch_size = batch_size\n",
        "#         self.data = []\n",
        "#         self.labels = []\n",
        "#         self.max_sequence_length = 0\n",
        "\n",
        "#         # Load data paths and labels\n",
        "#         for category in categories:\n",
        "#             path = os.path.join(base_path, category)\n",
        "#             class_num = categories.index(category)\n",
        "\n",
        "#             # Group frames by video using a dictionary\n",
        "#             video_frames = defaultdict(list)\n",
        "#             for frame in sorted(os.listdir(path)):  # Ensure frames are in correct order\n",
        "#                 video_id = \"_\".join(frame.split('_')[:-1])\n",
        "#                 video_frames[video_id].append(frame)\n",
        "\n",
        "#             for video_id, frames in video_frames.items():\n",
        "#                 self.data.append((category, frames))\n",
        "#                 self.labels.append(class_num)\n",
        "#                 self.max_sequence_length = max(self.max_sequence_length, len(frames))\n",
        "\n",
        "#         self.labels = to_categorical(self.labels, num_classes=len(categories))\n",
        "\n",
        "#     def __len__(self):\n",
        "#         return int(np.ceil(len(self.data) / self.batch_size))\n",
        "\n",
        "#     def __getitem__(self, idx):\n",
        "#         batch_data = self.data[idx * self.batch_size:(idx + 1) * self.batch_size]\n",
        "#         batch_labels = self.labels[idx * self.batch_size:(idx + 1) * self.batch_size]\n",
        "\n",
        "#         X_batch = []\n",
        "#         for category, frames in batch_data:\n",
        "#             video_data = []\n",
        "#             for frame in frames:\n",
        "#                 img_path = os.path.join(self.base_path, category, frame)\n",
        "#                 img = load_img(img_path, target_size=self.img_size)\n",
        "#                 img_array = img_to_array(img)\n",
        "#                 if np.isnan(img_array).any() or np.isinf(img_array).any():\n",
        "#                     raise ValueError(\"NaNs or Infs found in image data\")\n",
        "#                 img_array = img_array.astype('float32') / 255.0  # Normalize here\n",
        "#                 video_data.append(img_array)\n",
        "#             padded_video_data = tf.keras.preprocessing.sequence.pad_sequences(\n",
        "#                 [video_data], maxlen=self.max_sequence_length, padding='post', dtype='float32')[0]\n",
        "#             X_batch.append(padded_video_data)\n",
        "\n",
        "#         return np.array(X_batch), np.array(batch_labels)\n",
        "\n",
        "\n",
        "# # Compute maximum sequence length from both train and test datasets\n",
        "# max_sequence_length_train = compute_max_sequence_length(train_path, categories)\n",
        "# max_sequence_length_test = compute_max_sequence_length(test_path, categories)\n",
        "# max_sequence_length = max(max_sequence_length_train, max_sequence_length_test)\n",
        "\n",
        "# print(\"Maximum sequence length:\", max_sequence_length)\n",
        "\n",
        "# # Define the model\n",
        "# from tensorflow.keras.models import Sequential\n",
        "# from tensorflow.keras.layers import Conv2D, MaxPooling2D, Flatten, TimeDistributed, LSTM, Dense\n",
        "# from tensorflow.keras.optimizers import Adam\n",
        "\n",
        "# def create_model(sequence_length, img_size=(64, 64, 3)):\n",
        "#     model = Sequential()\n",
        "#     model.add(TimeDistributed(Conv2D(16, (3, 3), activation='relu'), input_shape=(sequence_length,) + img_size))\n",
        "#     model.add(TimeDistributed(MaxPooling2D((2, 2))))\n",
        "#     model.add(TimeDistributed(Conv2D(32, (3, 3), activation='relu')))\n",
        "#     model.add(TimeDistributed(MaxPooling2D((2, 2))))\n",
        "#     model.add(TimeDistributed(Flatten()))\n",
        "#     model.add(LSTM(20, activation='relu'))\n",
        "#     model.add(Dense(len(categories), activation='softmax'))  # Adjust number of classes\n",
        "#     model.compile(optimizer=Adam(learning_rate=1e-4), loss='categorical_crossentropy', metrics=['accuracy'])\n",
        "#     return model\n",
        "\n",
        "\n",
        "# model = create_model(max_sequence_length)\n",
        "# model.summary()\n",
        "\n",
        "\n",
        "# # Train the model\n",
        "# train_generator = VideoFrameGenerator(train_path, categories, batch_size=1)\n",
        "# test_generator = VideoFrameGenerator(test_path, categories, batch_size=1)\n",
        "\n",
        "# history = model.fit(train_generator, epochs=2, validation_data=test_generator)\n",
        "\n",
        "# # Save the model\n",
        "# model_save_path = 'model_malena2'\n",
        "# model.save(model_save_path)\n",
        "# print(f\"Model saved to {model_save_path}\")\n",
        "\n",
        "# # Print the training metrics\n",
        "# print(\"\\nTraining Metrics:\")\n",
        "# for key, values in history.history.items():\n",
        "#     print(f\"{key}: {values}\")\n",
        "\n",
        "# # Print final metrics after training\n",
        "# print(\"\\nFinal Training Accuracy:\", history.history['accuracy'][-1])\n",
        "# print(\"Final Validation Accuracy:\", history.history['val_accuracy'][-1])\n",
        "# print(\"Final Training Loss:\", history.history['loss'][-1])\n",
        "# print(\"Final Validation Loss:\", history.history['val_loss'][-1])\n"
      ]
    },
    {
      "cell_type": "code",
      "execution_count": 28,
      "metadata": {
        "id": "x1cnCFhXk733"
      },
      "outputs": [],
      "source": [
        "from tensorflow.keras.callbacks import Callback\n",
        "import numpy as np\n",
        "\n",
        "class StepwiseMetricsCallback(Callback):\n",
        "    def on_train_begin(self, logs=None):\n",
        "        self.step_metrics = {'accuracy': [], 'loss': []}\n",
        "\n",
        "    def on_batch_end(self, batch, logs=None):\n",
        "        self.step_metrics['accuracy'].append(logs.get('accuracy'))\n",
        "        self.step_metrics['loss'].append(logs.get('loss'))\n",
        "\n",
        "stepwise_metrics_callback = StepwiseMetricsCallback()"
      ]
    },
    {
      "cell_type": "code",
      "execution_count": null,
      "metadata": {
        "colab": {
          "background_save": true,
          "base_uri": "https://localhost:8080/"
        },
        "id": "_CyqL9p7TVUJ",
        "outputId": "7a3f778a-c2fc-48bc-f78a-b7600af5d132"
      },
      "outputs": [
        {
          "name": "stderr",
          "output_type": "stream",
          "text": [
            "WARNING:tensorflow:Layer lstm_2 will not use cuDNN kernels since it doesn't meet the criteria. It will use a generic GPU kernel as fallback when running on GPU.\n"
          ]
        },
        {
          "name": "stdout",
          "output_type": "stream",
          "text": [
            "Maximum sequence length: 150\n",
            "Model: \"sequential_2\"\n",
            "_________________________________________________________________\n",
            " Layer (type)                Output Shape              Param #   \n",
            "=================================================================\n",
            " time_distributed_10 (TimeD  (None, 150, 62, 62, 16)   448       \n",
            " istributed)                                                     \n",
            "                                                                 \n",
            " time_distributed_11 (TimeD  (None, 150, 31, 31, 16)   0         \n",
            " istributed)                                                     \n",
            "                                                                 \n",
            " time_distributed_12 (TimeD  (None, 150, 29, 29, 32)   4640      \n",
            " istributed)                                                     \n",
            "                                                                 \n",
            " time_distributed_13 (TimeD  (None, 150, 14, 14, 32)   0         \n",
            " istributed)                                                     \n",
            "                                                                 \n",
            " time_distributed_14 (TimeD  (None, 150, 6272)         0         \n",
            " istributed)                                                     \n",
            "                                                                 \n",
            " lstm_2 (LSTM)               (None, 20)                503440    \n",
            "                                                                 \n",
            " dense_2 (Dense)             (None, 2)                 42        \n",
            "                                                                 \n",
            "=================================================================\n",
            "Total params: 508570 (1.94 MB)\n",
            "Trainable params: 508570 (1.94 MB)\n",
            "Non-trainable params: 0 (0.00 Byte)\n",
            "_________________________________________________________________\n",
            "Epoch 1/3\n",
            "29/29 [==============================] - 33s 1s/step - loss: 0.6104 - accuracy: 0.7241 - val_loss: 0.7319 - val_accuracy: 0.6667\n",
            "Epoch 2/3\n",
            "29/29 [==============================] - 30s 1s/step - loss: 0.5656 - accuracy: 0.7586 - val_loss: 0.6403 - val_accuracy: 0.6667\n",
            "Epoch 3/3\n",
            "29/29 [==============================] - 30s 1s/step - loss: 0.5727 - accuracy: 0.8276 - val_loss: 0.6579 - val_accuracy: 0.6667\n",
            "Model saved to model_malena3\n",
            "\n",
            "Training Metrics:\n",
            "loss: [0.6104087829589844, 0.565550684928894, 0.5727025270462036]\n",
            "accuracy: [0.7241379022598267, 0.7586206793785095, 0.8275862336158752]\n",
            "val_loss: [0.7319036722183228, 0.6403380036354065, 0.6579129695892334]\n",
            "val_accuracy: [0.6666666865348816, 0.6666666865348816, 0.6666666865348816]\n",
            "\n",
            "Final Training Accuracy: 0.8275862336158752\n",
            "Final Validation Accuracy: 0.6666666865348816\n",
            "Final Training Loss: 0.5727025270462036\n",
            "Final Validation Loss: 0.6579129695892334\n"
          ]
        }
      ],
      "source": [
        "import os\n",
        "import numpy as np\n",
        "import tensorflow as tf\n",
        "from tensorflow.keras.preprocessing.image import img_to_array, load_img\n",
        "from tensorflow.keras.utils import to_categorical\n",
        "from collections import defaultdict\n",
        "\n",
        "class VideoFrameGenerator(tf.keras.utils.Sequence):\n",
        "    def __init__(self, base_path, categories, img_size=(64, 64), batch_size=1, max_duration=5, frame_rate=24):\n",
        "        self.base_path = base_path\n",
        "        self.categories = categories\n",
        "        self.img_size = img_size\n",
        "        self.batch_size = batch_size\n",
        "        self.data = []\n",
        "        self.labels = []\n",
        "        self.max_sequence_length = min(max_duration * frame_rate, max_sequence_length)\n",
        "\n",
        "        for category in categories:\n",
        "            path = os.path.join(base_path, category)\n",
        "            class_num = categories.index(category)\n",
        "\n",
        "            video_frames = defaultdict(list)\n",
        "            for frame in sorted(os.listdir(path)):\n",
        "                video_id = \"_\".join(frame.split('_')[:-1])\n",
        "                video_frames[video_id].append(frame)\n",
        "\n",
        "            for video_id, frames in video_frames.items():\n",
        "                if len(frames) > self.max_sequence_length:\n",
        "                    frames = frames[:self.max_sequence_length]\n",
        "                self.data.append((category, frames))\n",
        "                self.labels.append(class_num)\n",
        "                self.max_sequence_length = max(self.max_sequence_length, len(frames))\n",
        "\n",
        "        self.labels = to_categorical(self.labels, num_classes=len(categories))\n",
        "\n",
        "    def __len__(self):\n",
        "        return int(np.ceil(len(self.data) / self.batch_size))\n",
        "\n",
        "    def __getitem__(self, idx):\n",
        "        batch_data = self.data[idx * self.batch_size:(idx + 1) * self.batch_size]\n",
        "        batch_labels = self.labels[idx * self.batch_size:(idx + 1) * self.batch_size]\n",
        "\n",
        "        X_batch = []\n",
        "        for category, frames in batch_data:\n",
        "            video_data = []\n",
        "            for frame in frames:\n",
        "                img_path = os.path.join(self.base_path, category, frame)\n",
        "                img = load_img(img_path, target_size=self.img_size)\n",
        "                img_array = img_to_array(img)\n",
        "                if np.isnan(img_array).any() or np.isinf(img_array).any():\n",
        "                    raise ValueError(\"NaNs or Infs found in image data\")\n",
        "                img_array = img_array.astype('float32') / 255.0  # Normalize here\n",
        "                video_data.append(img_array)\n",
        "            padded_video_data = tf.keras.preprocessing.sequence.pad_sequences(\n",
        "                [video_data], maxlen=self.max_sequence_length, padding='post', dtype='float32')[0]\n",
        "            X_batch.append(padded_video_data)\n",
        "\n",
        "        return np.array(X_batch), np.array(batch_labels)\n",
        "\n",
        "\n",
        "def compute_max_sequence_length(base_path, categories, max_duration=5, frame_rate=30):\n",
        "    max_sequence_length = max_duration * frame_rate\n",
        "    return max_sequence_length\n",
        "\n",
        "max_sequence_length_train = compute_max_sequence_length(train_path, categories)\n",
        "max_sequence_length_test = compute_max_sequence_length(test_path, categories)\n",
        "max_sequence_length = max(max_sequence_length_train, max_sequence_length_test)\n",
        "\n",
        "print(\"Maximum sequence length:\", max_sequence_length)\n",
        "\n",
        "# Define the model\n",
        "from tensorflow.keras.models import Sequential\n",
        "from tensorflow.keras.layers import Conv2D, MaxPooling2D, Flatten, TimeDistributed, LSTM, Dense\n",
        "from tensorflow.keras.optimizers import Adam\n",
        "\n",
        "def create_model(sequence_length, img_size=(64, 64, 3)):\n",
        "    model = Sequential()\n",
        "    model.add(TimeDistributed(Conv2D(16, (3, 3), activation='relu'), input_shape=(sequence_length,) + img_size))\n",
        "    model.add(TimeDistributed(MaxPooling2D((2, 2))))\n",
        "    model.add(TimeDistributed(Conv2D(32, (3, 3), activation='relu')))\n",
        "    model.add(TimeDistributed(MaxPooling2D((2, 2))))\n",
        "    model.add(TimeDistributed(Flatten()))\n",
        "    model.add(LSTM(20, activation='relu'))\n",
        "    model.add(Dense(len(categories), activation='softmax'))  # Adjust number of classes\n",
        "    model.compile(optimizer=Adam(learning_rate=1e-4), loss='categorical_crossentropy', metrics=['accuracy'])\n",
        "    return model\n",
        "\n",
        "model = create_model(max_sequence_length)\n",
        "model.summary()\n",
        "\n",
        "train_generator = VideoFrameGenerator(train_path, categories, batch_size=1)\n",
        "test_generator = VideoFrameGenerator(test_path, categories, batch_size=1)\n",
        "\n",
        "\n",
        "history = model.fit(train_generator, epochs=3, validation_data=test_generator, callbacks=[stepwise_metrics_callback])\n",
        "\n",
        "\n",
        "# Save the model\n",
        "model_save_path = 'model_malena3'\n",
        "model.save(model_save_path)\n",
        "print(f\"Model saved to {model_save_path}\")\n",
        "\n",
        "# Print the training metrics\n",
        "print(\"\\nTraining Metrics:\")\n",
        "for key, values in history.history.items():\n",
        "    print(f\"{key}: {values}\")\n",
        "\n",
        "# Print final metrics after training\n",
        "print(\"\\nFinal Training Accuracy:\", history.history['accuracy'][-1])\n",
        "print(\"Final Validation Accuracy:\", history.history['val_accuracy'][-1])\n",
        "print(\"Final Training Loss:\", history.history['loss'][-1])\n",
        "print(\"Final Validation Loss:\", history.history['val_loss'][-1])\n"
      ]
    },
    {
      "cell_type": "code",
      "source": [
        "import os\n",
        "import numpy as np\n",
        "import tensorflow as tf\n",
        "from tensorflow.keras.preprocessing.image import img_to_array, load_img\n",
        "from tensorflow.keras.utils import to_categorical\n",
        "from collections import defaultdict\n",
        "\n",
        "class VideoFrameGenerator(tf.keras.utils.Sequence):\n",
        "    def __init__(self, base_path, categories, img_size=(64, 64), batch_size=1, max_duration=5, frame_rate=24):\n",
        "        self.base_path = base_path\n",
        "        self.categories = categories\n",
        "        self.img_size = img_size\n",
        "        self.batch_size = batch_size\n",
        "        self.data = []\n",
        "        self.labels = []\n",
        "        self.max_sequence_length = min(max_duration * frame_rate, max_sequence_length)\n",
        "\n",
        "        for category in categories:\n",
        "            path = os.path.join(base_path, category)\n",
        "            class_num = categories.index(category)\n",
        "\n",
        "            video_frames = defaultdict(list)\n",
        "            for frame in sorted(os.listdir(path)):\n",
        "                video_id = \"_\".join(frame.split('_')[:-1])\n",
        "                video_frames[video_id].append(frame)\n",
        "\n",
        "            for video_id, frames in video_frames.items():\n",
        "                if len(frames) > self.max_sequence_length:\n",
        "                    frames = frames[:self.max_sequence_length]\n",
        "                self.data.append((category, frames))\n",
        "                self.labels.append(class_num)\n",
        "                self.max_sequence_length = max(self.max_sequence_length, len(frames))\n",
        "\n",
        "        self.labels = to_categorical(self.labels, num_classes=len(categories))\n",
        "\n",
        "    def __len__(self):\n",
        "        return int(np.ceil(len(self.data) / self.batch_size))\n",
        "\n",
        "    def __getitem__(self, idx):\n",
        "        batch_data = self.data[idx * self.batch_size:(idx + 1) * self.batch_size]\n",
        "        batch_labels = self.labels[idx * self.batch_size:(idx + 1) * self.batch_size]\n",
        "\n",
        "        X_batch = []\n",
        "        for category, frames in batch_data:\n",
        "            video_data = []\n",
        "            for frame in frames:\n",
        "                img_path = os.path.join(self.base_path, category, frame)\n",
        "                img = load_img(img_path, target_size=self.img_size)\n",
        "                img_array = img_to_array(img)\n",
        "                if np.isnan(img_array).any() or np.isinf(img_array).any():\n",
        "                    raise ValueError(\"NaNs or Infs found in image data\")\n",
        "                img_array = img_array.astype('float32') / 255.0  # Normalize here\n",
        "                video_data.append(img_array)\n",
        "            padded_video_data = tf.keras.preprocessing.sequence.pad_sequences(\n",
        "                [video_data], maxlen=self.max_sequence_length, padding='post', dtype='float32')[0]\n",
        "            X_batch.append(padded_video_data)\n",
        "\n",
        "        return np.array(X_batch), np.array(batch_labels)\n",
        "\n",
        "\n",
        "def compute_max_sequence_length(base_path, categories, max_duration=5, frame_rate=30):\n",
        "    max_sequence_length = max_duration * frame_rate\n",
        "    return max_sequence_length\n",
        "\n",
        "max_sequence_length_train = compute_max_sequence_length(train_path, categories)\n",
        "max_sequence_length_test = compute_max_sequence_length(test_path, categories)\n",
        "max_sequence_length = max(max_sequence_length_train, max_sequence_length_test)\n",
        "\n",
        "print(\"Maximum sequence length:\", max_sequence_length)\n",
        "\n",
        "# Define the model\n",
        "from tensorflow.keras.models import Sequential\n",
        "from tensorflow.keras.layers import Conv2D, MaxPooling2D, Flatten, TimeDistributed, LSTM, Dense\n",
        "from tensorflow.keras.optimizers import Adam\n",
        "\n",
        "def create_model(sequence_length, img_size=(64, 64, 3)):\n",
        "    model = Sequential()\n",
        "    model.add(TimeDistributed(Conv2D(16, (3, 3), activation='relu'), input_shape=(sequence_length,) + img_size))\n",
        "    model.add(TimeDistributed(MaxPooling2D((2, 2))))\n",
        "    model.add(TimeDistributed(Conv2D(32, (3, 3), activation='relu')))\n",
        "    model.add(TimeDistributed(MaxPooling2D((2, 2))))\n",
        "    model.add(TimeDistributed(Flatten()))\n",
        "    model.add(LSTM(20, activation='relu'))\n",
        "    model.add(Dense(len(categories), activation='softmax'))  # Adjust number of classes\n",
        "    model.compile(optimizer=Adam(learning_rate=1e-4), loss='categorical_crossentropy', metrics=['accuracy'])\n",
        "    return model\n",
        "\n",
        "model = create_model(max_sequence_length)\n",
        "model.summary()\n",
        "\n",
        "train_path = 'train_all'\n",
        "test_path = 'test_all'\n",
        "\n",
        "train_generator = VideoFrameGenerator(train_path, categories, batch_size=1)\n",
        "test_generator = VideoFrameGenerator(test_path, categories, batch_size=1)\n",
        "\n",
        "\n",
        "history = model.fit(train_generator, epochs=15, validation_data=test_generator, callbacks=[stepwise_metrics_callback])\n",
        "\n",
        "\n",
        "model_save_path = 'model_trial'\n",
        "model.save(model_save_path)\n",
        "print(f\"Model saved to {model_save_path}\")\n",
        "\n",
        "print(\"\\nTraining Metrics:\")\n",
        "for key, values in history.history.items():\n",
        "    print(f\"{key}: {values}\")\n",
        "\n",
        "print(\"\\nFinal Training Accuracy:\", history.history['accuracy'][-1])\n",
        "print(\"Final Validation Accuracy:\", history.history['val_accuracy'][-1])\n",
        "print(\"Final Training Loss:\", history.history['loss'][-1])\n",
        "print(\"Final Validation Loss:\", history.history['val_loss'][-1])"
      ],
      "metadata": {
        "colab": {
          "base_uri": "https://localhost:8080/"
        },
        "id": "dIhx9ll1LM8w",
        "outputId": "03dbd794-192e-40e4-f9e2-2f9bfc42e3ce"
      },
      "execution_count": 59,
      "outputs": [
        {
          "output_type": "stream",
          "name": "stderr",
          "text": [
            "WARNING:tensorflow:Layer lstm_11 will not use cuDNN kernels since it doesn't meet the criteria. It will use a generic GPU kernel as fallback when running on GPU.\n"
          ]
        },
        {
          "output_type": "stream",
          "name": "stdout",
          "text": [
            "Maximum sequence length: 150\n",
            "Model: \"sequential_11\"\n",
            "_________________________________________________________________\n",
            " Layer (type)                Output Shape              Param #   \n",
            "=================================================================\n",
            " time_distributed_55 (TimeD  (None, 150, 62, 62, 16)   448       \n",
            " istributed)                                                     \n",
            "                                                                 \n",
            " time_distributed_56 (TimeD  (None, 150, 31, 31, 16)   0         \n",
            " istributed)                                                     \n",
            "                                                                 \n",
            " time_distributed_57 (TimeD  (None, 150, 29, 29, 32)   4640      \n",
            " istributed)                                                     \n",
            "                                                                 \n",
            " time_distributed_58 (TimeD  (None, 150, 14, 14, 32)   0         \n",
            " istributed)                                                     \n",
            "                                                                 \n",
            " time_distributed_59 (TimeD  (None, 150, 6272)         0         \n",
            " istributed)                                                     \n",
            "                                                                 \n",
            " lstm_11 (LSTM)              (None, 20)                503440    \n",
            "                                                                 \n",
            " dense_11 (Dense)            (None, 2)                 42        \n",
            "                                                                 \n",
            "=================================================================\n",
            "Total params: 508570 (1.94 MB)\n",
            "Trainable params: 508570 (1.94 MB)\n",
            "Non-trainable params: 0 (0.00 Byte)\n",
            "_________________________________________________________________\n",
            "Epoch 1/15\n",
            "41/41 [==============================] - 45s 1s/step - loss: 0.6275 - accuracy: 0.8049 - val_loss: 0.5239 - val_accuracy: 0.8182\n",
            "Epoch 2/15\n",
            "41/41 [==============================] - 42s 1s/step - loss: 0.5565 - accuracy: 0.8049 - val_loss: 0.4996 - val_accuracy: 0.8182\n",
            "Epoch 3/15\n",
            "41/41 [==============================] - 42s 1s/step - loss: 0.4400 - accuracy: 0.8049 - val_loss: 0.6166 - val_accuracy: 0.8182\n",
            "Epoch 4/15\n",
            "41/41 [==============================] - 42s 1s/step - loss: 0.4078 - accuracy: 0.8049 - val_loss: 0.3571 - val_accuracy: 0.8182\n",
            "Epoch 5/15\n",
            "41/41 [==============================] - 42s 1s/step - loss: 0.7653 - accuracy: 0.8537 - val_loss: 0.4416 - val_accuracy: 0.8182\n",
            "Epoch 6/15\n",
            "41/41 [==============================] - 42s 1s/step - loss: 0.3237 - accuracy: 0.8049 - val_loss: 0.3812 - val_accuracy: 0.8182\n",
            "Epoch 7/15\n",
            "41/41 [==============================] - 42s 1s/step - loss: 0.2706 - accuracy: 0.8049 - val_loss: 0.3578 - val_accuracy: 0.8182\n",
            "Epoch 8/15\n",
            "41/41 [==============================] - 41s 1s/step - loss: 0.2424 - accuracy: 0.8049 - val_loss: 0.3339 - val_accuracy: 0.8182\n",
            "Epoch 9/15\n",
            "41/41 [==============================] - 41s 1s/step - loss: 0.6465 - accuracy: 0.7805 - val_loss: 0.8136 - val_accuracy: 0.8182\n",
            "Epoch 10/15\n",
            "41/41 [==============================] - 42s 1s/step - loss: 0.4840 - accuracy: 0.8049 - val_loss: 0.6179 - val_accuracy: 0.8182\n",
            "Epoch 11/15\n",
            "41/41 [==============================] - 41s 1s/step - loss: 0.3907 - accuracy: 0.8049 - val_loss: 0.5454 - val_accuracy: 0.8182\n",
            "Epoch 12/15\n",
            "41/41 [==============================] - 42s 1s/step - loss: 0.3287 - accuracy: 0.8049 - val_loss: 0.4869 - val_accuracy: 0.8182\n",
            "Epoch 13/15\n",
            "41/41 [==============================] - 42s 1s/step - loss: 0.2619 - accuracy: 0.8293 - val_loss: 0.4410 - val_accuracy: 0.7273\n",
            "Epoch 14/15\n",
            "41/41 [==============================] - 42s 1s/step - loss: 0.2205 - accuracy: 0.9268 - val_loss: 0.4313 - val_accuracy: 0.7273\n",
            "Epoch 15/15\n",
            "41/41 [==============================] - 42s 1s/step - loss: 0.1806 - accuracy: 0.9512 - val_loss: 0.4370 - val_accuracy: 0.6364\n",
            "Model saved to model_trial\n",
            "\n",
            "Training Metrics:\n",
            "loss: [0.6275472044944763, 0.5565288066864014, 0.44003501534461975, 0.4078109562397003, 0.7653383612632751, 0.32373449206352234, 0.2705725431442261, 0.24240612983703613, 0.6465162634849548, 0.483989953994751, 0.39071521162986755, 0.328737735748291, 0.26190850138664246, 0.22049440443515778, 0.18060064315795898]\n",
            "accuracy: [0.8048780560493469, 0.8048780560493469, 0.8048780560493469, 0.8048780560493469, 0.8536585569381714, 0.8048780560493469, 0.8048780560493469, 0.8048780560493469, 0.7804877758026123, 0.8048780560493469, 0.8048780560493469, 0.8048780560493469, 0.8292682766914368, 0.9268292784690857, 0.9512194991111755]\n",
            "val_loss: [0.5239207744598389, 0.49955958127975464, 0.6165515780448914, 0.35713207721710205, 0.44163474440574646, 0.3812115788459778, 0.35783231258392334, 0.3338778614997864, 0.813607394695282, 0.6179336905479431, 0.5454277992248535, 0.4868623912334442, 0.44098928570747375, 0.43134135007858276, 0.4370124936103821]\n",
            "val_accuracy: [0.8181818127632141, 0.8181818127632141, 0.8181818127632141, 0.8181818127632141, 0.8181818127632141, 0.8181818127632141, 0.8181818127632141, 0.8181818127632141, 0.8181818127632141, 0.8181818127632141, 0.8181818127632141, 0.8181818127632141, 0.7272727489471436, 0.7272727489471436, 0.6363636255264282]\n",
            "\n",
            "Final Training Accuracy: 0.9512194991111755\n",
            "Final Validation Accuracy: 0.6363636255264282\n",
            "Final Training Loss: 0.18060064315795898\n",
            "Final Validation Loss: 0.4370124936103821\n"
          ]
        }
      ]
    },
    {
      "cell_type": "code",
      "source": [
        "import matplotlib.pyplot as plt\n",
        "\n",
        "plt.figure(figsize=(12, 4))\n",
        "\n",
        "plt.subplot(1, 2, 1)\n",
        "plt.plot(history.history['accuracy'], label='Train Accuracy')\n",
        "plt.plot(history.history['val_accuracy'], label='Validation Accuracy')\n",
        "plt.title('Model Accuracy')\n",
        "plt.ylabel('Accuracy')\n",
        "plt.xlabel('Epoch')\n",
        "plt.legend(loc='upper left')\n",
        "\n",
        "plt.subplot(1, 2, 2)\n",
        "plt.plot(history.history['loss'], label='Train Loss')\n",
        "plt.plot(history.history['val_loss'], label='Validation Loss')\n",
        "plt.title('Model Loss')\n",
        "plt.ylabel('Loss')\n",
        "plt.xlabel('Epoch')\n",
        "plt.legend(loc='upper left')\n",
        "\n",
        "plt.show()"
      ],
      "metadata": {
        "colab": {
          "base_uri": "https://localhost:8080/",
          "height": 410
        },
        "id": "PGPUwfYqPIVv",
        "outputId": "8142c1fc-dfcc-4e8e-ea69-dc12855f40c6"
      },
      "execution_count": 60,
      "outputs": [
        {
          "output_type": "display_data",
          "data": {
            "text/plain": [
              "<Figure size 1200x400 with 2 Axes>"
            ],
            "image/png": "[encoded data removed]"
          },
          "metadata": {}
        }
      ]
    },
    {
      "cell_type": "code",
      "execution_count": 61,
      "metadata": {
        "colab": {
          "base_uri": "https://localhost:8080/"
        },
        "id": "4wYv1GlriiTR",
        "outputId": "48026b53-7b81-4848-e275-32b703a90de4"
      },
      "outputs": [
        {
          "output_type": "stream",
          "name": "stdout",
          "text": [
            "\n",
            "Training Metrics:\n",
            "loss: [0.6275472044944763, 0.5565288066864014, 0.44003501534461975, 0.4078109562397003, 0.7653383612632751, 0.32373449206352234, 0.2705725431442261, 0.24240612983703613, 0.6465162634849548, 0.483989953994751, 0.39071521162986755, 0.328737735748291, 0.26190850138664246, 0.22049440443515778, 0.18060064315795898]\n",
            "accuracy: [0.8048780560493469, 0.8048780560493469, 0.8048780560493469, 0.8048780560493469, 0.8536585569381714, 0.8048780560493469, 0.8048780560493469, 0.8048780560493469, 0.7804877758026123, 0.8048780560493469, 0.8048780560493469, 0.8048780560493469, 0.8292682766914368, 0.9268292784690857, 0.9512194991111755]\n",
            "val_loss: [0.5239207744598389, 0.49955958127975464, 0.6165515780448914, 0.35713207721710205, 0.44163474440574646, 0.3812115788459778, 0.35783231258392334, 0.3338778614997864, 0.813607394695282, 0.6179336905479431, 0.5454277992248535, 0.4868623912334442, 0.44098928570747375, 0.43134135007858276, 0.4370124936103821]\n",
            "val_accuracy: [0.8181818127632141, 0.8181818127632141, 0.8181818127632141, 0.8181818127632141, 0.8181818127632141, 0.8181818127632141, 0.8181818127632141, 0.8181818127632141, 0.8181818127632141, 0.8181818127632141, 0.8181818127632141, 0.8181818127632141, 0.7272727489471436, 0.7272727489471436, 0.6363636255264282]\n",
            "\n",
            "Final Training Accuracy: 0.9512194991111755\n",
            "Final Validation Accuracy: 0.6363636255264282\n",
            "Final Training Loss: 0.18060064315795898\n",
            "Final Validation Loss: 0.4370124936103821\n"
          ]
        }
      ],
      "source": [
        "print(\"\\nTraining Metrics:\")\n",
        "for key, values in history.history.items():\n",
        "    print(f\"{key}: {values}\")\n",
        "\n",
        "# Print final metrics after training\n",
        "print(\"\\nFinal Training Accuracy:\", history.history['accuracy'][-1])\n",
        "print(\"Final Validation Accuracy:\", history.history['val_accuracy'][-1])\n",
        "print(\"Final Training Loss:\", history.history['loss'][-1])\n",
        "print(\"Final Validation Loss:\", history.history['val_loss'][-1])"
      ]
    },
    {
      "cell_type": "code",
      "execution_count": null,
      "metadata": {
        "id": "Vd2xo_BYib50"
      },
      "outputs": [],
      "source": [
        "import os\n",
        "\n",
        "def get_video_names(folder_path):\n",
        "    video_names = set()\n",
        "    for filename in os.listdir(folder_path):\n",
        "        if filename.endswith(\".jpg\"):\n",
        "            video_name = filename.rsplit('_', 2)[0]\n",
        "            video_names.add(video_name)\n",
        "    return video_names\n",
        "\n",
        "\n",
        "folders = {\n",
        "    \"train_no_gun\": 'train_all/no_gun',\n",
        "    \"train_gun_will_appear\":'train_all/gun_will_appear',\n",
        "    \"test_no_gun\": 'test_all/no_gun',\n",
        "    \"test_gun_will_appear\":'test_all/gun_will_appear'\n",
        "}\n",
        "\n",
        "video_names = {folder: get_video_names(path) for folder, path in folders.items()}\n",
        "\n",
        "for folder, names in video_names.items():\n",
        "    print(f\"{folder}:\")\n",
        "    for name in names:\n",
        "        print(name)\n",
        "    print()"
      ]
    },
    {
      "cell_type": "code",
      "execution_count": null,
      "metadata": {
        "id": "AQIcRT2zjg4G"
      },
      "outputs": [],
      "source": [
        "common_train = video_names[\"train_no_gun\"].intersection(video_names[\"train_gun_will_appear\"])\n",
        "common_test = video_names[\"test_no_gun\"].intersection(video_names[\"test_gun_will_appear\"])\n",
        "common_train_test = video_names[\"train_no_gun\"].intersection(video_names[\"test_no_gun\"])\n",
        "common_gun_appear = video_names[\"train_gun_will_appear\"].intersection(video_names[\"test_gun_will_appear\"])\n",
        "\n",
        "print(\"Common video names in train_no_gun and train_gun_will_appear:\")\n",
        "for name in common_train:\n",
        "    print(name)\n",
        "\n",
        "print(\"\\nCommon video names in test_no_gun and test_gun_will_appear:\")\n",
        "for name in common_test:\n",
        "    print(name)\n",
        "\n",
        "print(\"\\nCommon video names in train_no_gun and test_no_gun:\")\n",
        "for name in common_train_test:\n",
        "    print(name)\n",
        "\n",
        "print(\"\\nCommon video names in train_gun_will_appear and test_gun_will_appear:\")\n",
        "for name in common_gun_appear:\n",
        "    print(name)"
      ]
    },
    {
      "cell_type": "code",
      "source": [
        "from tensorflow.keras.models import Sequential\n",
        "from tensorflow.keras.layers import Conv2D, MaxPooling2D, Flatten, TimeDistributed, LSTM, Dense\n",
        "from tensorflow.keras.optimizers import Adam\n",
        "\n",
        "def create_model(sequence_length, img_size=(64, 64, 3)):\n",
        "    model = Sequential()\n",
        "    model.add(TimeDistributed(Conv2D(16, (3, 3), activation='relu'), input_shape=(sequence_length,) + img_size))\n",
        "    model.add(TimeDistributed(MaxPooling2D((2, 2))))\n",
        "    model.add(TimeDistributed(Conv2D(32, (3, 3), activation='relu')))\n",
        "    model.add(TimeDistributed(MaxPooling2D((2, 2))))\n",
        "    model.add(TimeDistributed(Flatten()))\n",
        "    model.add(LSTM(20, activation='relu'))\n",
        "    model.add(Dense(len(categories), activation='softmax'))  # Adjust number of classes\n",
        "    model.compile(optimizer=Adam(learning_rate=1e-4), loss='categorical_crossentropy', metrics=['accuracy'])\n",
        "    return model\n",
        "\n",
        "model = create_model(max_sequence_length)\n",
        "model.summary()"
      ],
      "metadata": {
        "colab": {
          "base_uri": "https://localhost:8080/"
        },
        "id": "5F13sl9S0At5",
        "outputId": "6cb590c4-e65d-4881-9206-91bf37875471"
      },
      "execution_count": 38,
      "outputs": [
        {
          "output_type": "stream",
          "name": "stderr",
          "text": [
            "WARNING:tensorflow:Layer lstm_1 will not use cuDNN kernels since it doesn't meet the criteria. It will use a generic GPU kernel as fallback when running on GPU.\n"
          ]
        },
        {
          "output_type": "stream",
          "name": "stdout",
          "text": [
            "Model: \"sequential_1\"\n",
            "_________________________________________________________________\n",
            " Layer (type)                Output Shape              Param #   \n",
            "=================================================================\n",
            " time_distributed_5 (TimeDi  (None, 2282, 62, 62, 16   448       \n",
            " stributed)                  )                                   \n",
            "                                                                 \n",
            " time_distributed_6 (TimeDi  (None, 2282, 31, 31, 16   0         \n",
            " stributed)                  )                                   \n",
            "                                                                 \n",
            " time_distributed_7 (TimeDi  (None, 2282, 29, 29, 32   4640      \n",
            " stributed)                  )                                   \n",
            "                                                                 \n",
            " time_distributed_8 (TimeDi  (None, 2282, 14, 14, 32   0         \n",
            " stributed)                  )                                   \n",
            "                                                                 \n",
            " time_distributed_9 (TimeDi  (None, 2282, 6272)        0         \n",
            " stributed)                                                      \n",
            "                                                                 \n",
            " lstm_1 (LSTM)               (None, 20)                503440    \n",
            "                                                                 \n",
            " dense_1 (Dense)             (None, 2)                 42        \n",
            "                                                                 \n",
            "=================================================================\n",
            "Total params: 508570 (1.94 MB)\n",
            "Trainable params: 508570 (1.94 MB)\n",
            "Non-trainable params: 0 (0.00 Byte)\n",
            "_________________________________________________________________\n"
          ]
        }
      ]
    },
    {
      "cell_type": "code",
      "source": [
        "import tensorflow as tf\n",
        "\n",
        "class CustomF1Score(tf.keras.metrics.Metric):\n",
        "    def __init__(self, name='f1_score', **kwargs):\n",
        "        super(CustomF1Score, self).__init__(name=name, **kwargs)\n",
        "        self.tp = self.add_weight(name='tp', initializer='zeros')\n",
        "        self.fp = self.add_weight(name='fp', initializer='zeros')\n",
        "        self.fn = self.add_weight(name='fn', initializer='zeros')\n",
        "\n",
        "    def update_state(self, y_true, y_pred, sample_weight=None):\n",
        "        y_pred = tf.argmax(y_pred, axis=1)\n",
        "        y_true = tf.argmax(y_true, axis=1)\n",
        "        y_true = tf.cast(y_true, 'float32')\n",
        "        y_pred = tf.cast(y_pred, 'float32')\n",
        "\n",
        "        tp = tf.math.reduce_sum(tf.cast(y_true * y_pred, 'float32'))\n",
        "        fp = tf.math.reduce_sum(tf.cast((1 - y_true) * y_pred, 'float32'))\n",
        "        fn = tf.math.reduce_sum(tf.cast(y_true * (1 - y_pred), 'float32'))\n",
        "\n",
        "        self.tp.assign_add(tp)\n",
        "        self.fp.assign_add(fp)\n",
        "        self.fn.assign_add(fn)\n",
        "\n",
        "    def result(self):\n",
        "        precision = self.tp / (self.tp + self.fp + tf.keras.backend.epsilon())\n",
        "        recall = self.tp / (self.tp + self.fn + tf.keras.backend.epsilon())\n",
        "        return 2 * ((precision * recall) / (precision + recall + tf.keras.backend.epsilon()))\n",
        "\n",
        "    def reset_states(self):\n",
        "        for var in self.variables:\n",
        "            var.assign(0)"
      ],
      "metadata": {
        "id": "bx5hISD8BTBC"
      },
      "execution_count": 55,
      "outputs": []
    },
    {
      "cell_type": "code",
      "source": [
        "import os\n",
        "import numpy as np\n",
        "import tensorflow as tf\n",
        "from tensorflow.keras.preprocessing.image import img_to_array, load_img\n",
        "from tensorflow.keras.utils import to_categorical\n",
        "from collections import defaultdict\n",
        "\n",
        "\n",
        "class VideoFrameGenerator(tf.keras.utils.Sequence):\n",
        "    def __init__(self, base_path, categories, img_size=(64, 64), batch_size=1, max_duration=5, frame_rate=24):\n",
        "        self.base_path = base_path\n",
        "        self.categories = categories\n",
        "        self.img_size = img_size\n",
        "        self.batch_size = batch_size\n",
        "        self.data = []\n",
        "        self.labels = []\n",
        "        self.max_sequence_length = min(max_duration * frame_rate, max_sequence_length)\n",
        "\n",
        "        for category in categories:\n",
        "            path = os.path.join(base_path, category)\n",
        "            class_num = categories.index(category)\n",
        "\n",
        "            video_frames = defaultdict(list)\n",
        "            for frame in sorted(os.listdir(path)):\n",
        "                video_id = \"_\".join(frame.split('_')[:-1])\n",
        "                video_frames[video_id].append(frame)\n",
        "\n",
        "            for video_id, frames in video_frames.items():\n",
        "                if len(frames) > self.max_sequence_length:\n",
        "                    frames = frames[:self.max_sequence_length]\n",
        "                self.data.append((category, frames))\n",
        "                self.labels.append(class_num)\n",
        "                self.max_sequence_length = max(self.max_sequence_length, len(frames))\n",
        "\n",
        "        self.labels = to_categorical(self.labels, num_classes=len(categories))\n",
        "\n",
        "    def __len__(self):\n",
        "        return int(np.ceil(len(self.data) / self.batch_size))\n",
        "\n",
        "    def __getitem__(self, idx):\n",
        "        batch_data = self.data[idx * self.batch_size:(idx + 1) * self.batch_size]\n",
        "        batch_labels = self.labels[idx * self.batch_size:(idx + 1) * self.batch_size]\n",
        "\n",
        "        X_batch = []\n",
        "        for category, frames in batch_data:\n",
        "            video_data = []\n",
        "            for frame in frames:\n",
        "                img_path = os.path.join(self.base_path, category, frame)\n",
        "                img = load_img(img_path, target_size=self.img_size)\n",
        "                img_array = img_to_array(img)\n",
        "                if np.isnan(img_array).any() or np.isinf(img_array).any():\n",
        "                    raise ValueError(\"NaNs or Infs found in image data\") # was giving an error\n",
        "                img_array = img_array.astype('float32') / 255.0\n",
        "                video_data.append(img_array)\n",
        "            padded_video_data = tf.keras.preprocessing.sequence.pad_sequences(\n",
        "                [video_data], maxlen=self.max_sequence_length, padding='post', dtype='float32')[0]\n",
        "            X_batch.append(padded_video_data)\n",
        "\n",
        "        return np.array(X_batch), np.array(batch_labels)\n",
        "\n",
        "def compute_max_sequence_length(base_path, categories, max_duration=5, frame_rate=30):\n",
        "    max_sequence_length = max_duration * frame_rate\n",
        "    return max_sequence_length\n",
        "\n",
        "max_sequence_length_train = compute_max_sequence_length(train_path, categories)\n",
        "max_sequence_length_test = compute_max_sequence_length(test_path, categories)\n",
        "max_sequence_length = max(max_sequence_length_train, max_sequence_length_test)\n",
        "\n",
        "print(\"Maximum sequence length:\", max_sequence_length)\n",
        "\n",
        "\n",
        "from tensorflow.keras.models import Sequential\n",
        "from tensorflow.keras.layers import Conv2D, MaxPooling2D, Flatten, TimeDistributed, LSTM, Dense\n",
        "from tensorflow.keras.optimizers import Adam\n",
        "\n",
        "def create_model(sequence_length, img_size=(64, 64, 3)):\n",
        "    model = Sequential()\n",
        "    model.add(TimeDistributed(Conv2D(16, (3, 3), activation='relu'), input_shape=(sequence_length,) + img_size))\n",
        "    model.add(TimeDistributed(MaxPooling2D((2, 2))))\n",
        "    model.add(TimeDistributed(Conv2D(32, (3, 3), activation='relu')))\n",
        "    model.add(TimeDistributed(MaxPooling2D((2, 2))))\n",
        "    model.add(TimeDistributed(Flatten()))\n",
        "    model.add(LSTM(20, activation='relu'))\n",
        "    model.add(Dense(len(categories), activation='softmax'))\n",
        "    model.compile(optimizer=Adam(learning_rate=1e-4), loss='categorical_crossentropy', metrics=['accuracy'])\n",
        "    return model\n",
        "\n",
        "model = create_model(max_sequence_length)\n",
        "model.summary()\n",
        "\n",
        "\n",
        "train_generator = VideoFrameGenerator(train_path, categories, batch_size=1)\n",
        "test_generator = VideoFrameGenerator(test_path, categories, batch_size=1)\n",
        "\n",
        "model.compile(optimizer=tf.keras.optimizers.Adam(learning_rate=1e-4),\n",
        "              loss='categorical_crossentropy',\n",
        "              metrics=[CustomF1Score(), tf.keras.metrics.BinaryAccuracy()])\n",
        "\n",
        "history = model.fit(train_generator, epochs=20, validation_data=test_generator, callbacks=[stepwise_metrics_callback])\n",
        "\n",
        "\n",
        "model_save_path = 'baseline_model15'\n",
        "model.save(model_save_path)\n",
        "print(f\"Model saved to {model_save_path}\")\n",
        "\n",
        "print(\"\\nTraining Metrics:\")\n",
        "for key, values in history.history.items():\n",
        "    print(f\"{key}: {values}\")"
      ],
      "metadata": {
        "colab": {
          "base_uri": "https://localhost:8080/"
        },
        "id": "u4sjf8pX2qG9",
        "outputId": "ab78dbe4-aa29-49f2-f6b1-33f71165adc4"
      },
      "execution_count": 56,
      "outputs": [
        {
          "output_type": "stream",
          "name": "stderr",
          "text": [
            "WARNING:tensorflow:Layer lstm_9 will not use cuDNN kernels since it doesn't meet the criteria. It will use a generic GPU kernel as fallback when running on GPU.\n"
          ]
        },
        {
          "output_type": "stream",
          "name": "stdout",
          "text": [
            "Maximum sequence length: 150\n",
            "Model: \"sequential_9\"\n",
            "_________________________________________________________________\n",
            " Layer (type)                Output Shape              Param #   \n",
            "=================================================================\n",
            " time_distributed_45 (TimeD  (None, 150, 62, 62, 16)   448       \n",
            " istributed)                                                     \n",
            "                                                                 \n",
            " time_distributed_46 (TimeD  (None, 150, 31, 31, 16)   0         \n",
            " istributed)                                                     \n",
            "                                                                 \n",
            " time_distributed_47 (TimeD  (None, 150, 29, 29, 32)   4640      \n",
            " istributed)                                                     \n",
            "                                                                 \n",
            " time_distributed_48 (TimeD  (None, 150, 14, 14, 32)   0         \n",
            " istributed)                                                     \n",
            "                                                                 \n",
            " time_distributed_49 (TimeD  (None, 150, 6272)         0         \n",
            " istributed)                                                     \n",
            "                                                                 \n",
            " lstm_9 (LSTM)               (None, 20)                503440    \n",
            "                                                                 \n",
            " dense_9 (Dense)             (None, 2)                 42        \n",
            "                                                                 \n",
            "=================================================================\n",
            "Total params: 508570 (1.94 MB)\n",
            "Trainable params: 508570 (1.94 MB)\n",
            "Non-trainable params: 0 (0.00 Byte)\n",
            "_________________________________________________________________\n",
            "Epoch 1/20\n",
            "41/41 [==============================] - 138s 1s/step - loss: 0.6433 - f1_score: 0.8919 - binary_accuracy: 0.8049 - val_loss: 0.5500 - val_f1_score: 0.9000 - val_binary_accuracy: 0.8182\n",
            "Epoch 2/20\n",
            "41/41 [==============================] - 42s 1s/step - loss: 0.5725 - f1_score: 0.8919 - binary_accuracy: 0.8049 - val_loss: 0.5159 - val_f1_score: 0.9000 - val_binary_accuracy: 0.8182\n",
            "Epoch 3/20\n",
            "41/41 [==============================] - 42s 1s/step - loss: 710.0139 - f1_score: 0.8571 - binary_accuracy: 0.7561 - val_loss: 0.9762 - val_f1_score: 0.8889 - val_binary_accuracy: 0.8182\n",
            "Epoch 4/20\n",
            "41/41 [==============================] - 41s 1s/step - loss: 0.9183 - f1_score: 0.8286 - binary_accuracy: 0.7073 - val_loss: 0.9876 - val_f1_score: 0.9000 - val_binary_accuracy: 0.8182\n",
            "Epoch 5/20\n",
            "41/41 [==============================] - 41s 1s/step - loss: 0.7813 - f1_score: 0.8451 - binary_accuracy: 0.7317 - val_loss: 0.8384 - val_f1_score: 0.9000 - val_binary_accuracy: 0.8182\n",
            "Epoch 6/20\n",
            "41/41 [==============================] - 42s 1s/step - loss: 0.8054 - f1_score: 0.8286 - binary_accuracy: 0.7073 - val_loss: 0.6603 - val_f1_score: 0.8421 - val_binary_accuracy: 0.7273\n",
            "Epoch 7/20\n",
            "41/41 [==============================] - 42s 1s/step - loss: 0.6578 - f1_score: 0.8767 - binary_accuracy: 0.7805 - val_loss: 0.6062 - val_f1_score: 0.9000 - val_binary_accuracy: 0.8182\n",
            "Epoch 8/20\n",
            "41/41 [==============================] - 42s 1s/step - loss: 0.6191 - f1_score: 0.8611 - binary_accuracy: 0.7561 - val_loss: 0.7401 - val_f1_score: 0.9000 - val_binary_accuracy: 0.8182\n",
            "Epoch 9/20\n",
            "41/41 [==============================] - 42s 1s/step - loss: 0.5754 - f1_score: 0.8767 - binary_accuracy: 0.7805 - val_loss: 0.6879 - val_f1_score: 0.9000 - val_binary_accuracy: 0.8182\n",
            "Epoch 10/20\n",
            "41/41 [==============================] - 42s 1s/step - loss: 0.5515 - f1_score: 0.8767 - binary_accuracy: 0.7805 - val_loss: 0.8132 - val_f1_score: 0.9000 - val_binary_accuracy: 0.8182\n",
            "Epoch 11/20\n",
            "41/41 [==============================] - 41s 1s/step - loss: 0.5184 - f1_score: 0.8767 - binary_accuracy: 0.7805 - val_loss: 0.8013 - val_f1_score: 0.9000 - val_binary_accuracy: 0.8182\n",
            "Epoch 12/20\n",
            "41/41 [==============================] - 41s 1s/step - loss: 0.5186 - f1_score: 0.8767 - binary_accuracy: 0.7805 - val_loss: 0.7082 - val_f1_score: 0.9000 - val_binary_accuracy: 0.8182\n",
            "Epoch 13/20\n",
            "41/41 [==============================] - 42s 1s/step - loss: 0.4919 - f1_score: 0.8919 - binary_accuracy: 0.8049 - val_loss: 0.7975 - val_f1_score: 0.9000 - val_binary_accuracy: 0.8182\n",
            "Epoch 14/20\n",
            "41/41 [==============================] - 42s 1s/step - loss: 0.4416 - f1_score: 0.8767 - binary_accuracy: 0.7805 - val_loss: 0.7997 - val_f1_score: 0.9000 - val_binary_accuracy: 0.8182\n",
            "Epoch 15/20\n",
            "41/41 [==============================] - 42s 1s/step - loss: 0.4019 - f1_score: 0.8919 - binary_accuracy: 0.8049 - val_loss: 0.7962 - val_f1_score: 0.9000 - val_binary_accuracy: 0.8182\n",
            "Epoch 16/20\n",
            "41/41 [==============================] - 42s 1s/step - loss: 0.3804 - f1_score: 0.8919 - binary_accuracy: 0.8049 - val_loss: 0.8274 - val_f1_score: 0.9000 - val_binary_accuracy: 0.8182\n",
            "Epoch 17/20\n",
            "41/41 [==============================] - 42s 1s/step - loss: 0.3399 - f1_score: 0.8919 - binary_accuracy: 0.8049 - val_loss: 0.8371 - val_f1_score: 0.9000 - val_binary_accuracy: 0.8182\n",
            "Epoch 18/20\n",
            "41/41 [==============================] - 42s 1s/step - loss: 0.3213 - f1_score: 0.8919 - binary_accuracy: 0.8049 - val_loss: 0.8138 - val_f1_score: 0.9000 - val_binary_accuracy: 0.8182\n",
            "Epoch 19/20\n",
            "41/41 [==============================] - 42s 1s/step - loss: 0.3027 - f1_score: 0.8919 - binary_accuracy: 0.8049 - val_loss: 0.8176 - val_f1_score: 0.9000 - val_binary_accuracy: 0.8182\n",
            "Epoch 20/20\n",
            "41/41 [==============================] - 41s 1s/step - loss: 0.2926 - f1_score: 0.8919 - binary_accuracy: 0.8049 - val_loss: 0.8154 - val_f1_score: 0.9000 - val_binary_accuracy: 0.8182\n",
            "Model saved to baseline_model15\n",
            "\n",
            "Training Metrics:\n",
            "loss: [0.6433014273643494, 0.572521448135376, 710.013916015625, 0.9182727932929993, 0.7812886834144592, 0.8054293394088745, 0.6577823162078857, 0.6190675497055054, 0.5753803849220276, 0.5514714121818542, 0.5184401869773865, 0.5186300277709961, 0.4919230341911316, 0.44162020087242126, 0.40194013714790344, 0.38039684295654297, 0.33987680077552795, 0.3212859034538269, 0.30269062519073486, 0.292573481798172]\n",
            "f1_score: [0.8918918371200562, 0.8918918371200562, 0.8571428060531616, 0.8285713791847229, 0.8450704216957092, 0.8285713791847229, 0.8767123222351074, 0.861111044883728, 0.8767123222351074, 0.8767123222351074, 0.8767123222351074, 0.8767123222351074, 0.8918918371200562, 0.8767123222351074, 0.8918918371200562, 0.8918918371200562, 0.8918918371200562, 0.8918918371200562, 0.8918918371200562, 0.8918918371200562]\n",
            "binary_accuracy: [0.8048780560493469, 0.8048780560493469, 0.7560975551605225, 0.707317054271698, 0.7317073345184326, 0.707317054271698, 0.7804877758026123, 0.7560975551605225, 0.7804877758026123, 0.7804877758026123, 0.7804877758026123, 0.7804877758026123, 0.8048780560493469, 0.7804877758026123, 0.8048780560493469, 0.8048780560493469, 0.8048780560493469, 0.8048780560493469, 0.8048780560493469, 0.8048780560493469]\n",
            "val_loss: [0.5500340461730957, 0.5159178972244263, 0.9761747717857361, 0.9876172542572021, 0.838397741317749, 0.660297155380249, 0.6062331795692444, 0.7401447296142578, 0.6879189014434814, 0.813220739364624, 0.801322340965271, 0.7081570625305176, 0.7975025773048401, 0.7996824383735657, 0.79617840051651, 0.8274229168891907, 0.8370949029922485, 0.8137544989585876, 0.817648708820343, 0.8154296278953552]\n",
            "val_f1_score: [0.8999999761581421, 0.8999999761581421, 0.8888888359069824, 0.8999999761581421, 0.8999999761581421, 0.8421052098274231, 0.8999999761581421, 0.8999999761581421, 0.8999999761581421, 0.8999999761581421, 0.8999999761581421, 0.8999999761581421, 0.8999999761581421, 0.8999999761581421, 0.8999999761581421, 0.8999999761581421, 0.8999999761581421, 0.8999999761581421, 0.8999999761581421, 0.8999999761581421]\n",
            "val_binary_accuracy: [0.8181818127632141, 0.8181818127632141, 0.8181818127632141, 0.8181818127632141, 0.8181818127632141, 0.7272727489471436, 0.8181818127632141, 0.8181818127632141, 0.8181818127632141, 0.8181818127632141, 0.8181818127632141, 0.8181818127632141, 0.8181818127632141, 0.8181818127632141, 0.8181818127632141, 0.8181818127632141, 0.8181818127632141, 0.8181818127632141, 0.8181818127632141, 0.8181818127632141]\n"
          ]
        }
      ]
    }
  ],
  "metadata": {
    "accelerator": "GPU",
    "colab": {
      "gpuType": "A100",
      "machine_shape": "hm",
      "provenance": []
    },
    "kernelspec": {
      "display_name": "Python 3",
      "name": "python3"
    },
    "language_info": {
      "name": "python"
    }
  },
  "nbformat": 4,
  "nbformat_minor": 0
}