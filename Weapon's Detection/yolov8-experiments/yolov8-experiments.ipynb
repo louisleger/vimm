{
 "cells": [
  {
   "cell_type": "markdown",
   "metadata": {},
   "source": [
    "## Gun detection and tracking"
   ]
  },
  {
   "cell_type": "code",
   "execution_count": 1,
   "metadata": {},
   "outputs": [],
   "source": [
    "import ultralytics\n",
    "from scripts.utils import *"
   ]
  },
  {
   "cell_type": "code",
   "execution_count": 9,
   "metadata": {},
   "outputs": [],
   "source": [
    "#import os\n",
    "#\n",
    "#directory = 'datasets/gun-fights/images/train/'\n",
    "#\n",
    "#\n",
    "## Iterate over each file in the directory\n",
    "#for fdx, filename in enumerate(os.listdir(directory)):\n",
    "#    # Construct the full file path\n",
    "#    file_path = os.path.join(directory, filename)\n",
    "#    \n",
    "#    # Rename the file\n",
    "#    os.rename(file_path, f\"frame_{fdx:06}.png\")\n",
    "    \n"
   ]
  },
  {
   "cell_type": "code",
   "execution_count": 2,
   "metadata": {},
   "outputs": [],
   "source": [
    "model = ultralytics.YOLO('runs/detect/train42/weights/best.pt')"
   ]
  },
  {
   "cell_type": "code",
   "execution_count": null,
   "metadata": {},
   "outputs": [],
   "source": [
    "model.track(source= \"/home/maxine/Documents/louis/Imaging-updated/vimm/datasets/gun-fights/videos/gunfight-1.mp4\")"
   ]
  },
  {
   "cell_type": "code",
   "execution_count": 6,
   "metadata": {},
   "outputs": [
    {
     "name": "stdout",
     "output_type": "stream",
     "text": [
      "Ultralytics YOLOv8.2.11 🚀 Python-3.10.14 torch-2.2.2 CUDA:0 (NVIDIA RTX A5000, 24248MiB)\n",
      "\u001b[34m\u001b[1mengine/trainer: \u001b[0mtask=detect, mode=train, model=runs/detect/train42/weights/best.pt, data=data.yaml, epochs=100, time=None, patience=100, batch=16, imgsz=640, save=True, save_period=-1, cache=False, device=None, workers=8, project=None, name=train11, exist_ok=False, pretrained=True, optimizer=auto, verbose=True, seed=0, deterministic=True, single_cls=False, rect=False, cos_lr=False, close_mosaic=10, resume=False, amp=True, fraction=1.0, profile=False, freeze=None, multi_scale=False, overlap_mask=True, mask_ratio=4, dropout=0.0, val=True, split=val, save_json=False, save_hybrid=False, conf=None, iou=0.7, max_det=300, half=False, dnn=False, plots=True, source=None, vid_stride=1, stream_buffer=False, visualize=False, augment=False, agnostic_nms=False, classes=None, retina_masks=False, embed=None, show=False, save_frames=False, save_txt=False, save_conf=False, save_crop=False, show_labels=True, show_conf=True, show_boxes=True, line_width=None, format=torchscript, keras=False, optimize=False, int8=False, dynamic=False, simplify=False, opset=None, workspace=4, nms=False, lr0=0.01, lrf=0.01, momentum=0.937, weight_decay=0.0005, warmup_epochs=3.0, warmup_momentum=0.8, warmup_bias_lr=0.1, box=7.5, cls=0.5, dfl=1.5, pose=12.0, kobj=1.0, label_smoothing=0.0, nbs=64, hsv_h=0.015, hsv_s=0.7, hsv_v=0.4, degrees=0.0, translate=0.1, scale=0.5, shear=0.0, perspective=0.0, flipud=0.0, fliplr=0.5, bgr=0.0, mosaic=1.0, mixup=0.0, copy_paste=0.0, auto_augment=randaugment, erasing=0.4, crop_fraction=1.0, cfg=None, tracker=botsort.yaml, save_dir=runs/detect/train11\n",
      "Overriding model.yaml nc=2 with nc=1\n",
      "\n",
      "                   from  n    params  module                                       arguments                     \n",
      "  0                  -1  1       464  ultralytics.nn.modules.conv.Conv             [3, 16, 3, 2]                 \n",
      "  1                  -1  1      4672  ultralytics.nn.modules.conv.Conv             [16, 32, 3, 2]                \n",
      "  2                  -1  1      7360  ultralytics.nn.modules.block.C2f             [32, 32, 1, True]             \n",
      "  3                  -1  1     18560  ultralytics.nn.modules.conv.Conv             [32, 64, 3, 2]                \n",
      "  4                  -1  2     49664  ultralytics.nn.modules.block.C2f             [64, 64, 2, True]             \n",
      "  5                  -1  1     73984  ultralytics.nn.modules.conv.Conv             [64, 128, 3, 2]               \n",
      "  6                  -1  2    197632  ultralytics.nn.modules.block.C2f             [128, 128, 2, True]           \n",
      "  7                  -1  1    295424  ultralytics.nn.modules.conv.Conv             [128, 256, 3, 2]              \n",
      "  8                  -1  1    460288  ultralytics.nn.modules.block.C2f             [256, 256, 1, True]           \n",
      "  9                  -1  1    164608  ultralytics.nn.modules.block.SPPF            [256, 256, 5]                 \n",
      " 10                  -1  1         0  torch.nn.modules.upsampling.Upsample         [None, 2, 'nearest']          \n",
      " 11             [-1, 6]  1         0  ultralytics.nn.modules.conv.Concat           [1]                           \n",
      " 12                  -1  1    148224  ultralytics.nn.modules.block.C2f             [384, 128, 1]                 \n",
      " 13                  -1  1         0  torch.nn.modules.upsampling.Upsample         [None, 2, 'nearest']          \n",
      " 14             [-1, 4]  1         0  ultralytics.nn.modules.conv.Concat           [1]                           \n",
      " 15                  -1  1     37248  ultralytics.nn.modules.block.C2f             [192, 64, 1]                  \n",
      " 16                  -1  1     36992  ultralytics.nn.modules.conv.Conv             [64, 64, 3, 2]                \n",
      " 17            [-1, 12]  1         0  ultralytics.nn.modules.conv.Concat           [1]                           \n",
      " 18                  -1  1    123648  ultralytics.nn.modules.block.C2f             [192, 128, 1]                 \n",
      " 19                  -1  1    147712  ultralytics.nn.modules.conv.Conv             [128, 128, 3, 2]              \n",
      " 20             [-1, 9]  1         0  ultralytics.nn.modules.conv.Concat           [1]                           \n",
      " 21                  -1  1    493056  ultralytics.nn.modules.block.C2f             [384, 256, 1]                 \n",
      " 22        [15, 18, 21]  1    751507  ultralytics.nn.modules.head.Detect           [1, [64, 128, 256]]           \n",
      "Model summary: 225 layers, 3011043 parameters, 3011027 gradients, 8.2 GFLOPs\n",
      "\n",
      "Transferred 349/355 items from pretrained weights\n",
      "Freezing layer 'model.22.dfl.conv.weight'\n",
      "\u001b[34m\u001b[1mAMP: \u001b[0mrunning Automatic Mixed Precision (AMP) checks with YOLOv8n...\n",
      "\u001b[34m\u001b[1mAMP: \u001b[0mchecks passed ✅\n"
     ]
    },
    {
     "name": "stderr",
     "output_type": "stream",
     "text": [
      "\u001b[34m\u001b[1mtrain: \u001b[0mScanning /home/maxine/Documents/louis/Imaging-updated/vimm/datasets/gun-fights/labels/train.cache... 111 images, 49 backgrounds, 0 corrupt: 100%|██████████| 111/111 [00:00<?, ?it/s]\n",
      "\u001b[34m\u001b[1mval: \u001b[0mScanning /home/maxine/Documents/louis/Imaging-updated/vimm/datasets/gun-fights/labels/train.cache... 111 images, 49 backgrounds, 0 corrupt: 100%|██████████| 111/111 [00:00<?, ?it/s]\n"
     ]
    },
    {
     "name": "stdout",
     "output_type": "stream",
     "text": [
      "Plotting labels to runs/detect/train11/labels.jpg... \n",
      "\u001b[34m\u001b[1moptimizer:\u001b[0m 'optimizer=auto' found, ignoring 'lr0=0.01' and 'momentum=0.937' and determining best 'optimizer', 'lr0' and 'momentum' automatically... \n",
      "\u001b[34m\u001b[1moptimizer:\u001b[0m AdamW(lr=0.002, momentum=0.9) with parameter groups 57 weight(decay=0.0), 64 weight(decay=0.0005), 63 bias(decay=0.0)\n",
      "Image sizes 640 train, 640 val\n",
      "Using 8 dataloader workers\n",
      "Logging results to \u001b[1mruns/detect/train11\u001b[0m\n",
      "Starting training for 100 epochs...\n",
      "\n",
      "      Epoch    GPU_mem   box_loss   cls_loss   dfl_loss  Instances       Size\n"
     ]
    },
    {
     "name": "stderr",
     "output_type": "stream",
     "text": [
      "      1/100      2.26G      4.755      14.91      2.875         29        640: 100%|██████████| 7/7 [00:00<00:00, 13.25it/s]\n",
      "                 Class     Images  Instances      Box(P          R      mAP50  mAP50-95): 100%|██████████| 4/4 [00:39<00:00,  9.84s/it]"
     ]
    },
    {
     "name": "stdout",
     "output_type": "stream",
     "text": [
      "                   all        111         89      3e-05     0.0112   1.54e-05   1.54e-06\n"
     ]
    },
    {
     "name": "stderr",
     "output_type": "stream",
     "text": [
      "\n"
     ]
    },
    {
     "name": "stdout",
     "output_type": "stream",
     "text": [
      "\n",
      "      Epoch    GPU_mem   box_loss   cls_loss   dfl_loss  Instances       Size\n"
     ]
    },
    {
     "name": "stderr",
     "output_type": "stream",
     "text": [
      "      2/100      2.08G       4.25      11.53      2.227         20        640: 100%|██████████| 7/7 [00:00<00:00, 13.58it/s]\n",
      "                 Class     Images  Instances      Box(P          R      mAP50  mAP50-95): 100%|██████████| 4/4 [00:00<00:00, 13.76it/s]"
     ]
    },
    {
     "name": "stdout",
     "output_type": "stream",
     "text": [
      "                   all        111         89   9.01e-05     0.0337   4.66e-05   9.25e-06\n"
     ]
    },
    {
     "name": "stderr",
     "output_type": "stream",
     "text": [
      "\n"
     ]
    },
    {
     "name": "stdout",
     "output_type": "stream",
     "text": [
      "\n",
      "      Epoch    GPU_mem   box_loss   cls_loss   dfl_loss  Instances       Size\n"
     ]
    },
    {
     "name": "stderr",
     "output_type": "stream",
     "text": [
      "      3/100      2.08G      3.586      8.913      1.794         17        640: 100%|██████████| 7/7 [00:00<00:00, 14.04it/s]\n",
      "                 Class     Images  Instances      Box(P          R      mAP50  mAP50-95): 100%|██████████| 4/4 [00:00<00:00, 13.94it/s]"
     ]
    },
    {
     "name": "stdout",
     "output_type": "stream",
     "text": [
      "                   all        111         89    0.00018     0.0674    9.8e-05   1.77e-05\n"
     ]
    },
    {
     "name": "stderr",
     "output_type": "stream",
     "text": [
      "\n"
     ]
    },
    {
     "name": "stdout",
     "output_type": "stream",
     "text": [
      "\n",
      "      Epoch    GPU_mem   box_loss   cls_loss   dfl_loss  Instances       Size\n"
     ]
    },
    {
     "name": "stderr",
     "output_type": "stream",
     "text": [
      "      4/100      2.08G      3.515      8.512      1.728         12        640: 100%|██████████| 7/7 [00:00<00:00, 16.02it/s]\n",
      "                 Class     Images  Instances      Box(P          R      mAP50  mAP50-95): 100%|██████████| 4/4 [00:00<00:00, 17.02it/s]"
     ]
    },
    {
     "name": "stdout",
     "output_type": "stream",
     "text": [
      "                   all        111         89   0.000691      0.258   0.000439   0.000104\n"
     ]
    },
    {
     "name": "stderr",
     "output_type": "stream",
     "text": [
      "\n"
     ]
    },
    {
     "name": "stdout",
     "output_type": "stream",
     "text": [
      "\n",
      "      Epoch    GPU_mem   box_loss   cls_loss   dfl_loss  Instances       Size\n"
     ]
    },
    {
     "name": "stderr",
     "output_type": "stream",
     "text": [
      "      5/100      2.11G      3.065      7.463      1.508         16        640: 100%|██████████| 7/7 [00:00<00:00, 14.90it/s]\n",
      "                 Class     Images  Instances      Box(P          R      mAP50  mAP50-95): 100%|██████████| 4/4 [00:00<00:00, 15.71it/s]"
     ]
    },
    {
     "name": "stdout",
     "output_type": "stream",
     "text": [
      "                   all        111         89    0.00018     0.0674    9.8e-05   3.89e-05\n"
     ]
    },
    {
     "name": "stderr",
     "output_type": "stream",
     "text": [
      "\n"
     ]
    },
    {
     "name": "stdout",
     "output_type": "stream",
     "text": [
      "\n",
      "      Epoch    GPU_mem   box_loss   cls_loss   dfl_loss  Instances       Size\n"
     ]
    },
    {
     "name": "stderr",
     "output_type": "stream",
     "text": [
      "      6/100      2.08G       3.05      7.105      1.505         16        640: 100%|██████████| 7/7 [00:00<00:00, 15.51it/s]\n",
      "                 Class     Images  Instances      Box(P          R      mAP50  mAP50-95): 100%|██████████| 4/4 [00:00<00:00, 16.48it/s]"
     ]
    },
    {
     "name": "stdout",
     "output_type": "stream",
     "text": [
      "                   all        111         89    0.00024     0.0899   0.000132    3.2e-05\n"
     ]
    },
    {
     "name": "stderr",
     "output_type": "stream",
     "text": [
      "\n"
     ]
    },
    {
     "name": "stdout",
     "output_type": "stream",
     "text": [
      "\n",
      "      Epoch    GPU_mem   box_loss   cls_loss   dfl_loss  Instances       Size\n"
     ]
    },
    {
     "name": "stderr",
     "output_type": "stream",
     "text": [
      "      7/100      2.11G      3.118      6.965      1.465         23        640: 100%|██████████| 7/7 [00:00<00:00, 15.64it/s]\n",
      "                 Class     Images  Instances      Box(P          R      mAP50  mAP50-95): 100%|██████████| 4/4 [00:00<00:00, 15.40it/s]"
     ]
    },
    {
     "name": "stdout",
     "output_type": "stream",
     "text": [
      "                   all        111         89    0.00012     0.0449   6.29e-05   1.24e-05\n"
     ]
    },
    {
     "name": "stderr",
     "output_type": "stream",
     "text": [
      "\n"
     ]
    },
    {
     "name": "stdout",
     "output_type": "stream",
     "text": [
      "\n",
      "      Epoch    GPU_mem   box_loss   cls_loss   dfl_loss  Instances       Size\n"
     ]
    },
    {
     "name": "stderr",
     "output_type": "stream",
     "text": [
      "      8/100      2.08G       3.05      6.442      1.462         17        640: 100%|██████████| 7/7 [00:00<00:00, 16.41it/s]\n",
      "                 Class     Images  Instances      Box(P          R      mAP50  mAP50-95): 100%|██████████| 4/4 [00:00<00:00, 17.51it/s]"
     ]
    },
    {
     "name": "stdout",
     "output_type": "stream",
     "text": [
      "                   all        111         89   6.01e-05     0.0225   3.15e-05   6.24e-06\n"
     ]
    },
    {
     "name": "stderr",
     "output_type": "stream",
     "text": [
      "\n"
     ]
    },
    {
     "name": "stdout",
     "output_type": "stream",
     "text": [
      "\n",
      "      Epoch    GPU_mem   box_loss   cls_loss   dfl_loss  Instances       Size\n"
     ]
    },
    {
     "name": "stderr",
     "output_type": "stream",
     "text": [
      "      9/100      2.08G      3.048      5.781      1.507         18        640: 100%|██████████| 7/7 [00:00<00:00, 16.16it/s]\n",
      "                 Class     Images  Instances      Box(P          R      mAP50  mAP50-95): 100%|██████████| 4/4 [00:00<00:00, 17.61it/s]"
     ]
    },
    {
     "name": "stdout",
     "output_type": "stream",
     "text": [
      "                   all        111         89   0.000661      0.247   0.000452   0.000131\n"
     ]
    },
    {
     "name": "stderr",
     "output_type": "stream",
     "text": [
      "\n"
     ]
    },
    {
     "name": "stdout",
     "output_type": "stream",
     "text": [
      "\n",
      "      Epoch    GPU_mem   box_loss   cls_loss   dfl_loss  Instances       Size\n"
     ]
    },
    {
     "name": "stderr",
     "output_type": "stream",
     "text": [
      "     10/100      2.08G      3.098      5.554      1.434         19        640: 100%|██████████| 7/7 [00:00<00:00, 16.52it/s]\n",
      "                 Class     Images  Instances      Box(P          R      mAP50  mAP50-95): 100%|██████████| 4/4 [00:00<00:00, 17.62it/s]"
     ]
    },
    {
     "name": "stdout",
     "output_type": "stream",
     "text": [
      "                   all        111         89    0.00108      0.404    0.00242    0.00074\n"
     ]
    },
    {
     "name": "stderr",
     "output_type": "stream",
     "text": [
      "\n"
     ]
    },
    {
     "name": "stdout",
     "output_type": "stream",
     "text": [
      "\n",
      "      Epoch    GPU_mem   box_loss   cls_loss   dfl_loss  Instances       Size\n"
     ]
    },
    {
     "name": "stderr",
     "output_type": "stream",
     "text": [
      "     11/100      2.11G      2.872       5.89      1.433         14        640: 100%|██████████| 7/7 [00:00<00:00, 16.61it/s]\n",
      "                 Class     Images  Instances      Box(P          R      mAP50  mAP50-95): 100%|██████████| 4/4 [00:00<00:00, 15.11it/s]"
     ]
    },
    {
     "name": "stdout",
     "output_type": "stream",
     "text": [
      "                   all        111         89   0.000991      0.371    0.00275    0.00108\n"
     ]
    },
    {
     "name": "stderr",
     "output_type": "stream",
     "text": [
      "\n"
     ]
    },
    {
     "name": "stdout",
     "output_type": "stream",
     "text": [
      "\n",
      "      Epoch    GPU_mem   box_loss   cls_loss   dfl_loss  Instances       Size\n"
     ]
    },
    {
     "name": "stderr",
     "output_type": "stream",
     "text": [
      "     12/100      2.08G      3.109      5.147      1.469         27        640: 100%|██████████| 7/7 [00:00<00:00, 16.07it/s]\n",
      "                 Class     Images  Instances      Box(P          R      mAP50  mAP50-95): 100%|██████████| 4/4 [00:00<00:00, 15.65it/s]"
     ]
    },
    {
     "name": "stdout",
     "output_type": "stream",
     "text": [
      "                   all        111         89   0.000813      0.303    0.00161   0.000469\n"
     ]
    },
    {
     "name": "stderr",
     "output_type": "stream",
     "text": [
      "\n"
     ]
    },
    {
     "name": "stdout",
     "output_type": "stream",
     "text": [
      "\n",
      "      Epoch    GPU_mem   box_loss   cls_loss   dfl_loss  Instances       Size\n"
     ]
    },
    {
     "name": "stderr",
     "output_type": "stream",
     "text": [
      "     13/100      2.08G      2.963      5.406      1.466         11        640: 100%|██████████| 7/7 [00:00<00:00, 17.08it/s]\n",
      "                 Class     Images  Instances      Box(P          R      mAP50  mAP50-95): 100%|██████████| 4/4 [00:00<00:00, 18.32it/s]"
     ]
    },
    {
     "name": "stdout",
     "output_type": "stream",
     "text": [
      "                   all        111         89   0.000874      0.326    0.00329   0.000822\n"
     ]
    },
    {
     "name": "stderr",
     "output_type": "stream",
     "text": [
      "\n"
     ]
    },
    {
     "name": "stdout",
     "output_type": "stream",
     "text": [
      "\n",
      "      Epoch    GPU_mem   box_loss   cls_loss   dfl_loss  Instances       Size\n"
     ]
    },
    {
     "name": "stderr",
     "output_type": "stream",
     "text": [
      "     14/100      2.08G      2.789       5.04      1.366         17        640: 100%|██████████| 7/7 [00:00<00:00, 16.49it/s]\n",
      "                 Class     Images  Instances      Box(P          R      mAP50  mAP50-95): 100%|██████████| 4/4 [00:00<00:00, 18.72it/s]"
     ]
    },
    {
     "name": "stdout",
     "output_type": "stream",
     "text": [
      "                   all        111         89    0.00108      0.404   0.000806   0.000223\n"
     ]
    },
    {
     "name": "stderr",
     "output_type": "stream",
     "text": [
      "\n"
     ]
    },
    {
     "name": "stdout",
     "output_type": "stream",
     "text": [
      "\n",
      "      Epoch    GPU_mem   box_loss   cls_loss   dfl_loss  Instances       Size\n"
     ]
    },
    {
     "name": "stderr",
     "output_type": "stream",
     "text": [
      "     15/100      2.08G      2.807       4.81      1.382         18        640: 100%|██████████| 7/7 [00:00<00:00, 16.44it/s]\n",
      "                 Class     Images  Instances      Box(P          R      mAP50  mAP50-95): 100%|██████████| 4/4 [00:00<00:00, 18.78it/s]"
     ]
    },
    {
     "name": "stdout",
     "output_type": "stream",
     "text": [
      "                   all        111         89   0.000751      0.281    0.00249    0.00102\n"
     ]
    },
    {
     "name": "stderr",
     "output_type": "stream",
     "text": [
      "\n"
     ]
    },
    {
     "name": "stdout",
     "output_type": "stream",
     "text": [
      "\n",
      "      Epoch    GPU_mem   box_loss   cls_loss   dfl_loss  Instances       Size\n"
     ]
    },
    {
     "name": "stderr",
     "output_type": "stream",
     "text": [
      "     16/100      2.11G      2.934      4.699      1.426         25        640: 100%|██████████| 7/7 [00:00<00:00, 16.56it/s]\n",
      "                 Class     Images  Instances      Box(P          R      mAP50  mAP50-95): 100%|██████████| 4/4 [00:00<00:00, 18.62it/s]"
     ]
    },
    {
     "name": "stdout",
     "output_type": "stream",
     "text": [
      "                   all        111         89     0.0169      0.124    0.00497    0.00164\n"
     ]
    },
    {
     "name": "stderr",
     "output_type": "stream",
     "text": [
      "\n"
     ]
    },
    {
     "name": "stdout",
     "output_type": "stream",
     "text": [
      "\n",
      "      Epoch    GPU_mem   box_loss   cls_loss   dfl_loss  Instances       Size\n"
     ]
    },
    {
     "name": "stderr",
     "output_type": "stream",
     "text": [
      "     17/100      2.08G      2.914      4.814      1.466         16        640: 100%|██████████| 7/7 [00:00<00:00, 17.11it/s]\n",
      "                 Class     Images  Instances      Box(P          R      mAP50  mAP50-95): 100%|██████████| 4/4 [00:00<00:00, 18.50it/s]"
     ]
    },
    {
     "name": "stdout",
     "output_type": "stream",
     "text": [
      "                   all        111         89     0.0157      0.124    0.00576     0.0019\n"
     ]
    },
    {
     "name": "stderr",
     "output_type": "stream",
     "text": [
      "\n"
     ]
    },
    {
     "name": "stdout",
     "output_type": "stream",
     "text": [
      "\n",
      "      Epoch    GPU_mem   box_loss   cls_loss   dfl_loss  Instances       Size\n"
     ]
    },
    {
     "name": "stderr",
     "output_type": "stream",
     "text": [
      "     18/100      2.08G       2.74      4.577      1.358         23        640: 100%|██████████| 7/7 [00:00<00:00, 16.68it/s]\n",
      "                 Class     Images  Instances      Box(P          R      mAP50  mAP50-95): 100%|██████████| 4/4 [00:00<00:00, 18.74it/s]"
     ]
    },
    {
     "name": "stdout",
     "output_type": "stream",
     "text": [
      "                   all        111         89    0.00132      0.494    0.00512    0.00184\n"
     ]
    },
    {
     "name": "stderr",
     "output_type": "stream",
     "text": [
      "\n"
     ]
    },
    {
     "name": "stdout",
     "output_type": "stream",
     "text": [
      "\n",
      "      Epoch    GPU_mem   box_loss   cls_loss   dfl_loss  Instances       Size\n"
     ]
    },
    {
     "name": "stderr",
     "output_type": "stream",
     "text": [
      "     19/100      2.08G      2.654      4.408      1.365         27        640: 100%|██████████| 7/7 [00:00<00:00, 16.63it/s]\n",
      "                 Class     Images  Instances      Box(P          R      mAP50  mAP50-95): 100%|██████████| 4/4 [00:00<00:00, 18.38it/s]"
     ]
    },
    {
     "name": "stdout",
     "output_type": "stream",
     "text": [
      "                   all        111         89    0.00138      0.517    0.00589    0.00176\n"
     ]
    },
    {
     "name": "stderr",
     "output_type": "stream",
     "text": [
      "\n"
     ]
    },
    {
     "name": "stdout",
     "output_type": "stream",
     "text": [
      "\n",
      "      Epoch    GPU_mem   box_loss   cls_loss   dfl_loss  Instances       Size\n"
     ]
    },
    {
     "name": "stderr",
     "output_type": "stream",
     "text": [
      "     20/100      2.11G      2.662      4.297      1.362         19        640: 100%|██████████| 7/7 [00:00<00:00, 15.52it/s]\n",
      "                 Class     Images  Instances      Box(P          R      mAP50  mAP50-95): 100%|██████████| 4/4 [00:00<00:00, 16.38it/s]"
     ]
    },
    {
     "name": "stdout",
     "output_type": "stream",
     "text": [
      "                   all        111         89     0.0184      0.135    0.00951    0.00289\n"
     ]
    },
    {
     "name": "stderr",
     "output_type": "stream",
     "text": [
      "\n"
     ]
    },
    {
     "name": "stdout",
     "output_type": "stream",
     "text": [
      "\n",
      "      Epoch    GPU_mem   box_loss   cls_loss   dfl_loss  Instances       Size\n"
     ]
    },
    {
     "name": "stderr",
     "output_type": "stream",
     "text": [
      "     21/100      2.08G      2.857       4.45      1.487         13        640: 100%|██████████| 7/7 [00:00<00:00, 16.43it/s]\n",
      "                 Class     Images  Instances      Box(P          R      mAP50  mAP50-95): 100%|██████████| 4/4 [00:00<00:00, 18.57it/s]"
     ]
    },
    {
     "name": "stdout",
     "output_type": "stream",
     "text": [
      "                   all        111         89    0.00168      0.629    0.00999    0.00335\n"
     ]
    },
    {
     "name": "stderr",
     "output_type": "stream",
     "text": [
      "\n"
     ]
    },
    {
     "name": "stdout",
     "output_type": "stream",
     "text": [
      "\n",
      "      Epoch    GPU_mem   box_loss   cls_loss   dfl_loss  Instances       Size\n"
     ]
    },
    {
     "name": "stderr",
     "output_type": "stream",
     "text": [
      "     22/100      2.08G      2.613      4.354      1.349         14        640: 100%|██████████| 7/7 [00:00<00:00, 16.65it/s]\n",
      "                 Class     Images  Instances      Box(P          R      mAP50  mAP50-95): 100%|██████████| 4/4 [00:00<00:00, 18.90it/s]"
     ]
    },
    {
     "name": "stdout",
     "output_type": "stream",
     "text": [
      "                   all        111         89    0.00162      0.607     0.0152    0.00508\n"
     ]
    },
    {
     "name": "stderr",
     "output_type": "stream",
     "text": [
      "\n"
     ]
    },
    {
     "name": "stdout",
     "output_type": "stream",
     "text": [
      "\n",
      "      Epoch    GPU_mem   box_loss   cls_loss   dfl_loss  Instances       Size\n"
     ]
    },
    {
     "name": "stderr",
     "output_type": "stream",
     "text": [
      "     23/100      2.08G      2.622       4.18      1.322         24        640: 100%|██████████| 7/7 [00:00<00:00, 16.49it/s]\n",
      "                 Class     Images  Instances      Box(P          R      mAP50  mAP50-95): 100%|██████████| 4/4 [00:00<00:00, 19.05it/s]"
     ]
    },
    {
     "name": "stdout",
     "output_type": "stream",
     "text": [
      "                   all        111         89    0.00132      0.494     0.0195    0.00544\n"
     ]
    },
    {
     "name": "stderr",
     "output_type": "stream",
     "text": [
      "\n"
     ]
    },
    {
     "name": "stdout",
     "output_type": "stream",
     "text": [
      "\n",
      "      Epoch    GPU_mem   box_loss   cls_loss   dfl_loss  Instances       Size\n"
     ]
    },
    {
     "name": "stderr",
     "output_type": "stream",
     "text": [
      "     24/100      2.11G      2.609       4.13      1.323         20        640: 100%|██████████| 7/7 [00:00<00:00, 16.57it/s]\n",
      "                 Class     Images  Instances      Box(P          R      mAP50  mAP50-95): 100%|██████████| 4/4 [00:00<00:00, 18.88it/s]"
     ]
    },
    {
     "name": "stdout",
     "output_type": "stream",
     "text": [
      "                   all        111         89     0.0208      0.124     0.0238    0.00622\n"
     ]
    },
    {
     "name": "stderr",
     "output_type": "stream",
     "text": [
      "\n"
     ]
    },
    {
     "name": "stdout",
     "output_type": "stream",
     "text": [
      "\n",
      "      Epoch    GPU_mem   box_loss   cls_loss   dfl_loss  Instances       Size\n"
     ]
    },
    {
     "name": "stderr",
     "output_type": "stream",
     "text": [
      "     25/100      2.08G      2.593      4.293      1.382         13        640: 100%|██████████| 7/7 [00:00<00:00, 16.21it/s]\n",
      "                 Class     Images  Instances      Box(P          R      mAP50  mAP50-95): 100%|██████████| 4/4 [00:00<00:00, 18.37it/s]"
     ]
    },
    {
     "name": "stdout",
     "output_type": "stream",
     "text": [
      "                   all        111         89    0.00153      0.573     0.0371     0.0111\n"
     ]
    },
    {
     "name": "stderr",
     "output_type": "stream",
     "text": [
      "\n"
     ]
    },
    {
     "name": "stdout",
     "output_type": "stream",
     "text": [
      "\n",
      "      Epoch    GPU_mem   box_loss   cls_loss   dfl_loss  Instances       Size\n"
     ]
    },
    {
     "name": "stderr",
     "output_type": "stream",
     "text": [
      "     26/100      2.08G      2.592      4.083      1.381         29        640: 100%|██████████| 7/7 [00:00<00:00, 16.21it/s]\n",
      "                 Class     Images  Instances      Box(P          R      mAP50  mAP50-95): 100%|██████████| 4/4 [00:00<00:00, 18.80it/s]"
     ]
    },
    {
     "name": "stdout",
     "output_type": "stream",
     "text": [
      "                   all        111         89    0.00171       0.64     0.0351     0.0169\n"
     ]
    },
    {
     "name": "stderr",
     "output_type": "stream",
     "text": [
      "\n"
     ]
    },
    {
     "name": "stdout",
     "output_type": "stream",
     "text": [
      "\n",
      "      Epoch    GPU_mem   box_loss   cls_loss   dfl_loss  Instances       Size\n"
     ]
    },
    {
     "name": "stderr",
     "output_type": "stream",
     "text": [
      "     27/100      2.08G      2.604      4.019      1.353         18        640: 100%|██████████| 7/7 [00:00<00:00, 16.45it/s]\n",
      "                 Class     Images  Instances      Box(P          R      mAP50  mAP50-95): 100%|██████████| 4/4 [00:00<00:00, 16.47it/s]"
     ]
    },
    {
     "name": "stdout",
     "output_type": "stream",
     "text": [
      "                   all        111         89     0.0213      0.225     0.0169    0.00706\n"
     ]
    },
    {
     "name": "stderr",
     "output_type": "stream",
     "text": [
      "\n"
     ]
    },
    {
     "name": "stdout",
     "output_type": "stream",
     "text": [
      "\n",
      "      Epoch    GPU_mem   box_loss   cls_loss   dfl_loss  Instances       Size\n"
     ]
    },
    {
     "name": "stderr",
     "output_type": "stream",
     "text": [
      "     28/100      2.11G      2.573      4.108      1.372         14        640: 100%|██████████| 7/7 [00:00<00:00, 16.58it/s]\n",
      "                 Class     Images  Instances      Box(P          R      mAP50  mAP50-95): 100%|██████████| 4/4 [00:00<00:00, 18.65it/s]"
     ]
    },
    {
     "name": "stdout",
     "output_type": "stream",
     "text": [
      "                   all        111         89     0.0195      0.135     0.0154    0.00679\n"
     ]
    },
    {
     "name": "stderr",
     "output_type": "stream",
     "text": [
      "\n"
     ]
    },
    {
     "name": "stdout",
     "output_type": "stream",
     "text": [
      "\n",
      "      Epoch    GPU_mem   box_loss   cls_loss   dfl_loss  Instances       Size\n"
     ]
    },
    {
     "name": "stderr",
     "output_type": "stream",
     "text": [
      "     29/100      2.08G      2.562      3.892      1.342         18        640: 100%|██████████| 7/7 [00:00<00:00, 16.42it/s]\n",
      "                 Class     Images  Instances      Box(P          R      mAP50  mAP50-95): 100%|██████████| 4/4 [00:00<00:00, 18.81it/s]"
     ]
    },
    {
     "name": "stdout",
     "output_type": "stream",
     "text": [
      "                   all        111         89    0.00947      0.382     0.0161    0.00735\n"
     ]
    },
    {
     "name": "stderr",
     "output_type": "stream",
     "text": [
      "\n"
     ]
    },
    {
     "name": "stdout",
     "output_type": "stream",
     "text": [
      "\n",
      "      Epoch    GPU_mem   box_loss   cls_loss   dfl_loss  Instances       Size\n"
     ]
    },
    {
     "name": "stderr",
     "output_type": "stream",
     "text": [
      "     30/100      2.08G      2.717      3.859      1.437         18        640: 100%|██████████| 7/7 [00:00<00:00, 16.53it/s]\n",
      "                 Class     Images  Instances      Box(P          R      mAP50  mAP50-95): 100%|██████████| 4/4 [00:00<00:00, 18.92it/s]"
     ]
    },
    {
     "name": "stdout",
     "output_type": "stream",
     "text": [
      "                   all        111         89     0.0113      0.337     0.0176    0.00836\n"
     ]
    },
    {
     "name": "stderr",
     "output_type": "stream",
     "text": [
      "\n"
     ]
    },
    {
     "name": "stdout",
     "output_type": "stream",
     "text": [
      "\n",
      "      Epoch    GPU_mem   box_loss   cls_loss   dfl_loss  Instances       Size\n"
     ]
    },
    {
     "name": "stderr",
     "output_type": "stream",
     "text": [
      "     31/100      2.08G      2.609      3.862      1.364         18        640: 100%|██████████| 7/7 [00:00<00:00, 16.33it/s]\n",
      "                 Class     Images  Instances      Box(P          R      mAP50  mAP50-95): 100%|██████████| 4/4 [00:00<00:00, 18.98it/s]"
     ]
    },
    {
     "name": "stdout",
     "output_type": "stream",
     "text": [
      "                   all        111         89     0.0586     0.0562     0.0336     0.0159\n"
     ]
    },
    {
     "name": "stderr",
     "output_type": "stream",
     "text": [
      "\n"
     ]
    },
    {
     "name": "stdout",
     "output_type": "stream",
     "text": [
      "\n",
      "      Epoch    GPU_mem   box_loss   cls_loss   dfl_loss  Instances       Size\n"
     ]
    },
    {
     "name": "stderr",
     "output_type": "stream",
     "text": [
      "     32/100      2.11G      2.498       3.85      1.346         18        640: 100%|██████████| 7/7 [00:00<00:00, 16.45it/s]\n",
      "                 Class     Images  Instances      Box(P          R      mAP50  mAP50-95): 100%|██████████| 4/4 [00:00<00:00, 18.87it/s]"
     ]
    },
    {
     "name": "stdout",
     "output_type": "stream",
     "text": [
      "                   all        111         89      0.236     0.0112     0.0425     0.0169\n"
     ]
    },
    {
     "name": "stderr",
     "output_type": "stream",
     "text": [
      "\n"
     ]
    },
    {
     "name": "stdout",
     "output_type": "stream",
     "text": [
      "\n",
      "      Epoch    GPU_mem   box_loss   cls_loss   dfl_loss  Instances       Size\n"
     ]
    },
    {
     "name": "stderr",
     "output_type": "stream",
     "text": [
      "     33/100      2.08G      2.507      3.952      1.331         25        640: 100%|██████████| 7/7 [00:00<00:00, 17.01it/s]\n",
      "                 Class     Images  Instances      Box(P          R      mAP50  mAP50-95): 100%|██████████| 4/4 [00:00<00:00, 19.04it/s]"
     ]
    },
    {
     "name": "stdout",
     "output_type": "stream",
     "text": [
      "                   all        111         89      0.415     0.0112     0.0341     0.0163\n"
     ]
    },
    {
     "name": "stderr",
     "output_type": "stream",
     "text": [
      "\n"
     ]
    },
    {
     "name": "stdout",
     "output_type": "stream",
     "text": [
      "\n",
      "      Epoch    GPU_mem   box_loss   cls_loss   dfl_loss  Instances       Size\n"
     ]
    },
    {
     "name": "stderr",
     "output_type": "stream",
     "text": [
      "     34/100      2.08G      2.527      3.529      1.293         19        640: 100%|██████████| 7/7 [00:00<00:00, 16.57it/s]\n",
      "                 Class     Images  Instances      Box(P          R      mAP50  mAP50-95): 100%|██████████| 4/4 [00:00<00:00, 19.09it/s]"
     ]
    },
    {
     "name": "stdout",
     "output_type": "stream",
     "text": [
      "                   all        111         89      0.617     0.0112      0.037     0.0245\n"
     ]
    },
    {
     "name": "stderr",
     "output_type": "stream",
     "text": [
      "\n"
     ]
    },
    {
     "name": "stdout",
     "output_type": "stream",
     "text": [
      "\n",
      "      Epoch    GPU_mem   box_loss   cls_loss   dfl_loss  Instances       Size\n"
     ]
    },
    {
     "name": "stderr",
     "output_type": "stream",
     "text": [
      "     35/100      2.08G      2.625      3.623      1.326         16        640: 100%|██████████| 7/7 [00:00<00:00, 16.43it/s]\n",
      "                 Class     Images  Instances      Box(P          R      mAP50  mAP50-95): 100%|██████████| 4/4 [00:00<00:00, 18.64it/s]"
     ]
    },
    {
     "name": "stdout",
     "output_type": "stream",
     "text": [
      "                   all        111         89      0.509     0.0112     0.0699      0.035\n"
     ]
    },
    {
     "name": "stderr",
     "output_type": "stream",
     "text": [
      "\n"
     ]
    },
    {
     "name": "stdout",
     "output_type": "stream",
     "text": [
      "\n",
      "      Epoch    GPU_mem   box_loss   cls_loss   dfl_loss  Instances       Size\n"
     ]
    },
    {
     "name": "stderr",
     "output_type": "stream",
     "text": [
      "     36/100      2.11G      2.619      3.801      1.331         17        640: 100%|██████████| 7/7 [00:00<00:00, 16.51it/s]\n",
      "                 Class     Images  Instances      Box(P          R      mAP50  mAP50-95): 100%|██████████| 4/4 [00:00<00:00, 18.94it/s]"
     ]
    },
    {
     "name": "stdout",
     "output_type": "stream",
     "text": [
      "                   all        111         89      0.605     0.0183     0.0686     0.0378\n"
     ]
    },
    {
     "name": "stderr",
     "output_type": "stream",
     "text": [
      "\n"
     ]
    },
    {
     "name": "stdout",
     "output_type": "stream",
     "text": [
      "\n",
      "      Epoch    GPU_mem   box_loss   cls_loss   dfl_loss  Instances       Size\n"
     ]
    },
    {
     "name": "stderr",
     "output_type": "stream",
     "text": [
      "     37/100      2.08G       2.52      3.785      1.314         24        640: 100%|██████████| 7/7 [00:00<00:00, 16.96it/s]\n",
      "                 Class     Images  Instances      Box(P          R      mAP50  mAP50-95): 100%|██████████| 4/4 [00:00<00:00, 19.11it/s]"
     ]
    },
    {
     "name": "stdout",
     "output_type": "stream",
     "text": [
      "                   all        111         89      0.587     0.0171     0.0583     0.0387\n"
     ]
    },
    {
     "name": "stderr",
     "output_type": "stream",
     "text": [
      "\n"
     ]
    },
    {
     "name": "stdout",
     "output_type": "stream",
     "text": [
      "\n",
      "      Epoch    GPU_mem   box_loss   cls_loss   dfl_loss  Instances       Size\n"
     ]
    },
    {
     "name": "stderr",
     "output_type": "stream",
     "text": [
      "     38/100      2.08G      2.531      3.746      1.346         22        640: 100%|██████████| 7/7 [00:00<00:00, 16.57it/s]\n",
      "                 Class     Images  Instances      Box(P          R      mAP50  mAP50-95): 100%|██████████| 4/4 [00:00<00:00, 18.91it/s]"
     ]
    },
    {
     "name": "stdout",
     "output_type": "stream",
     "text": [
      "                   all        111         89        0.5     0.0337     0.0568      0.029\n"
     ]
    },
    {
     "name": "stderr",
     "output_type": "stream",
     "text": [
      "\n"
     ]
    },
    {
     "name": "stdout",
     "output_type": "stream",
     "text": [
      "\n",
      "      Epoch    GPU_mem   box_loss   cls_loss   dfl_loss  Instances       Size\n"
     ]
    },
    {
     "name": "stderr",
     "output_type": "stream",
     "text": [
      "     39/100      2.08G      2.398      3.471      1.333         23        640: 100%|██████████| 7/7 [00:00<00:00, 16.53it/s]\n",
      "                 Class     Images  Instances      Box(P          R      mAP50  mAP50-95): 100%|██████████| 4/4 [00:00<00:00, 19.04it/s]"
     ]
    },
    {
     "name": "stdout",
     "output_type": "stream",
     "text": [
      "                   all        111         89      0.398     0.0597      0.065     0.0293\n"
     ]
    },
    {
     "name": "stderr",
     "output_type": "stream",
     "text": [
      "\n"
     ]
    },
    {
     "name": "stdout",
     "output_type": "stream",
     "text": [
      "\n",
      "      Epoch    GPU_mem   box_loss   cls_loss   dfl_loss  Instances       Size\n"
     ]
    },
    {
     "name": "stderr",
     "output_type": "stream",
     "text": [
      "     40/100      2.11G      2.403      3.792       1.31         20        640: 100%|██████████| 7/7 [00:00<00:00, 16.42it/s]\n",
      "                 Class     Images  Instances      Box(P          R      mAP50  mAP50-95): 100%|██████████| 4/4 [00:00<00:00, 18.83it/s]"
     ]
    },
    {
     "name": "stdout",
     "output_type": "stream",
     "text": [
      "                   all        111         89       0.34     0.0562      0.068      0.038\n"
     ]
    },
    {
     "name": "stderr",
     "output_type": "stream",
     "text": [
      "\n"
     ]
    },
    {
     "name": "stdout",
     "output_type": "stream",
     "text": [
      "\n",
      "      Epoch    GPU_mem   box_loss   cls_loss   dfl_loss  Instances       Size\n"
     ]
    },
    {
     "name": "stderr",
     "output_type": "stream",
     "text": [
      "     41/100      2.08G      2.355      3.438      1.305         22        640: 100%|██████████| 7/7 [00:00<00:00, 16.94it/s]\n",
      "                 Class     Images  Instances      Box(P          R      mAP50  mAP50-95): 100%|██████████| 4/4 [00:00<00:00, 18.76it/s]"
     ]
    },
    {
     "name": "stdout",
     "output_type": "stream",
     "text": [
      "                   all        111         89      0.189     0.0562      0.067     0.0361\n"
     ]
    },
    {
     "name": "stderr",
     "output_type": "stream",
     "text": [
      "\n"
     ]
    },
    {
     "name": "stdout",
     "output_type": "stream",
     "text": [
      "\n",
      "      Epoch    GPU_mem   box_loss   cls_loss   dfl_loss  Instances       Size\n"
     ]
    },
    {
     "name": "stderr",
     "output_type": "stream",
     "text": [
      "     42/100      2.08G       2.42      3.605       1.28         22        640: 100%|██████████| 7/7 [00:00<00:00, 16.59it/s]\n",
      "                 Class     Images  Instances      Box(P          R      mAP50  mAP50-95): 100%|██████████| 4/4 [00:00<00:00, 18.86it/s]"
     ]
    },
    {
     "name": "stdout",
     "output_type": "stream",
     "text": [
      "                   all        111         89      0.214     0.0674     0.0669     0.0342\n"
     ]
    },
    {
     "name": "stderr",
     "output_type": "stream",
     "text": [
      "\n"
     ]
    },
    {
     "name": "stdout",
     "output_type": "stream",
     "text": [
      "\n",
      "      Epoch    GPU_mem   box_loss   cls_loss   dfl_loss  Instances       Size\n"
     ]
    },
    {
     "name": "stderr",
     "output_type": "stream",
     "text": [
      "     43/100      2.08G       2.28      3.307      1.274         23        640: 100%|██████████| 7/7 [00:00<00:00, 16.60it/s]\n",
      "                 Class     Images  Instances      Box(P          R      mAP50  mAP50-95): 100%|██████████| 4/4 [00:00<00:00, 18.75it/s]"
     ]
    },
    {
     "name": "stdout",
     "output_type": "stream",
     "text": [
      "                   all        111         89      0.371     0.0899     0.0825     0.0357\n"
     ]
    },
    {
     "name": "stderr",
     "output_type": "stream",
     "text": [
      "\n"
     ]
    },
    {
     "name": "stdout",
     "output_type": "stream",
     "text": [
      "\n",
      "      Epoch    GPU_mem   box_loss   cls_loss   dfl_loss  Instances       Size\n"
     ]
    },
    {
     "name": "stderr",
     "output_type": "stream",
     "text": [
      "     44/100      2.11G      2.415      3.581      1.265         12        640: 100%|██████████| 7/7 [00:00<00:00, 16.43it/s]\n",
      "                 Class     Images  Instances      Box(P          R      mAP50  mAP50-95): 100%|██████████| 4/4 [00:00<00:00, 18.68it/s]"
     ]
    },
    {
     "name": "stdout",
     "output_type": "stream",
     "text": [
      "                   all        111         89      0.166     0.0674     0.0715     0.0278\n"
     ]
    },
    {
     "name": "stderr",
     "output_type": "stream",
     "text": [
      "\n"
     ]
    },
    {
     "name": "stdout",
     "output_type": "stream",
     "text": [
      "\n",
      "      Epoch    GPU_mem   box_loss   cls_loss   dfl_loss  Instances       Size\n"
     ]
    },
    {
     "name": "stderr",
     "output_type": "stream",
     "text": [
      "     45/100      2.08G       2.42      3.495      1.262         14        640: 100%|██████████| 7/7 [00:00<00:00, 16.89it/s]\n",
      "                 Class     Images  Instances      Box(P          R      mAP50  mAP50-95): 100%|██████████| 4/4 [00:00<00:00, 18.94it/s]"
     ]
    },
    {
     "name": "stdout",
     "output_type": "stream",
     "text": [
      "                   all        111         89      0.158     0.0787     0.0597     0.0252\n"
     ]
    },
    {
     "name": "stderr",
     "output_type": "stream",
     "text": [
      "\n"
     ]
    },
    {
     "name": "stdout",
     "output_type": "stream",
     "text": [
      "\n",
      "      Epoch    GPU_mem   box_loss   cls_loss   dfl_loss  Instances       Size\n"
     ]
    },
    {
     "name": "stderr",
     "output_type": "stream",
     "text": [
      "     46/100      2.08G      2.343      3.547      1.251         18        640: 100%|██████████| 7/7 [00:00<00:00, 16.52it/s]\n",
      "                 Class     Images  Instances      Box(P          R      mAP50  mAP50-95): 100%|██████████| 4/4 [00:00<00:00, 18.64it/s]"
     ]
    },
    {
     "name": "stdout",
     "output_type": "stream",
     "text": [
      "                   all        111         89      0.166     0.0787     0.0591     0.0266\n"
     ]
    },
    {
     "name": "stderr",
     "output_type": "stream",
     "text": [
      "\n"
     ]
    },
    {
     "name": "stdout",
     "output_type": "stream",
     "text": [
      "\n",
      "      Epoch    GPU_mem   box_loss   cls_loss   dfl_loss  Instances       Size\n"
     ]
    },
    {
     "name": "stderr",
     "output_type": "stream",
     "text": [
      "     47/100      2.08G       2.28      3.425      1.242         27        640: 100%|██████████| 7/7 [00:00<00:00, 16.51it/s]\n",
      "                 Class     Images  Instances      Box(P          R      mAP50  mAP50-95): 100%|██████████| 4/4 [00:00<00:00, 18.73it/s]"
     ]
    },
    {
     "name": "stdout",
     "output_type": "stream",
     "text": [
      "                   all        111         89      0.189     0.0787     0.0727     0.0316\n"
     ]
    },
    {
     "name": "stderr",
     "output_type": "stream",
     "text": [
      "\n"
     ]
    },
    {
     "name": "stdout",
     "output_type": "stream",
     "text": [
      "\n",
      "      Epoch    GPU_mem   box_loss   cls_loss   dfl_loss  Instances       Size\n"
     ]
    },
    {
     "name": "stderr",
     "output_type": "stream",
     "text": [
      "     48/100      2.11G      2.229      3.493      1.262          8        640: 100%|██████████| 7/7 [00:00<00:00, 16.50it/s]\n",
      "                 Class     Images  Instances      Box(P          R      mAP50  mAP50-95): 100%|██████████| 4/4 [00:00<00:00, 16.42it/s]"
     ]
    },
    {
     "name": "stdout",
     "output_type": "stream",
     "text": [
      "                   all        111         89      0.149     0.0674     0.0828     0.0375\n"
     ]
    },
    {
     "name": "stderr",
     "output_type": "stream",
     "text": [
      "\n"
     ]
    },
    {
     "name": "stdout",
     "output_type": "stream",
     "text": [
      "\n",
      "      Epoch    GPU_mem   box_loss   cls_loss   dfl_loss  Instances       Size\n"
     ]
    },
    {
     "name": "stderr",
     "output_type": "stream",
     "text": [
      "     49/100      2.08G      2.323      3.412      1.249         16        640: 100%|██████████| 7/7 [00:00<00:00, 17.02it/s]\n",
      "                 Class     Images  Instances      Box(P          R      mAP50  mAP50-95): 100%|██████████| 4/4 [00:00<00:00, 16.42it/s]"
     ]
    },
    {
     "name": "stdout",
     "output_type": "stream",
     "text": [
      "                   all        111         89      0.149     0.0674      0.077     0.0352\n"
     ]
    },
    {
     "name": "stderr",
     "output_type": "stream",
     "text": [
      "\n"
     ]
    },
    {
     "name": "stdout",
     "output_type": "stream",
     "text": [
      "\n",
      "      Epoch    GPU_mem   box_loss   cls_loss   dfl_loss  Instances       Size\n"
     ]
    },
    {
     "name": "stderr",
     "output_type": "stream",
     "text": [
      "     50/100      2.08G      2.286      3.596      1.309         19        640: 100%|██████████| 7/7 [00:00<00:00, 16.60it/s]\n",
      "                 Class     Images  Instances      Box(P          R      mAP50  mAP50-95): 100%|██████████| 4/4 [00:00<00:00, 18.56it/s]"
     ]
    },
    {
     "name": "stdout",
     "output_type": "stream",
     "text": [
      "                   all        111         89       0.14     0.0787      0.071     0.0365\n"
     ]
    },
    {
     "name": "stderr",
     "output_type": "stream",
     "text": [
      "\n"
     ]
    },
    {
     "name": "stdout",
     "output_type": "stream",
     "text": [
      "\n",
      "      Epoch    GPU_mem   box_loss   cls_loss   dfl_loss  Instances       Size\n"
     ]
    },
    {
     "name": "stderr",
     "output_type": "stream",
     "text": [
      "     51/100      2.08G      2.252      3.393      1.224         20        640: 100%|██████████| 7/7 [00:00<00:00, 16.60it/s]\n",
      "                 Class     Images  Instances      Box(P          R      mAP50  mAP50-95): 100%|██████████| 4/4 [00:00<00:00, 18.72it/s]"
     ]
    },
    {
     "name": "stdout",
     "output_type": "stream",
     "text": [
      "                   all        111         89      0.248     0.0674     0.0858     0.0452\n"
     ]
    },
    {
     "name": "stderr",
     "output_type": "stream",
     "text": [
      "\n"
     ]
    },
    {
     "name": "stdout",
     "output_type": "stream",
     "text": [
      "\n",
      "      Epoch    GPU_mem   box_loss   cls_loss   dfl_loss  Instances       Size\n"
     ]
    },
    {
     "name": "stderr",
     "output_type": "stream",
     "text": [
      "     52/100      2.11G      2.302      3.513      1.268         18        640: 100%|██████████| 7/7 [00:00<00:00, 16.64it/s]\n",
      "                 Class     Images  Instances      Box(P          R      mAP50  mAP50-95): 100%|██████████| 4/4 [00:00<00:00, 18.69it/s]"
     ]
    },
    {
     "name": "stdout",
     "output_type": "stream",
     "text": [
      "                   all        111         89      0.341     0.0674     0.0979     0.0514\n"
     ]
    },
    {
     "name": "stderr",
     "output_type": "stream",
     "text": [
      "\n"
     ]
    },
    {
     "name": "stdout",
     "output_type": "stream",
     "text": [
      "\n",
      "      Epoch    GPU_mem   box_loss   cls_loss   dfl_loss  Instances       Size\n"
     ]
    },
    {
     "name": "stderr",
     "output_type": "stream",
     "text": [
      "     53/100      2.08G      2.246      3.309      1.236         16        640: 100%|██████████| 7/7 [00:00<00:00, 16.97it/s]\n",
      "                 Class     Images  Instances      Box(P          R      mAP50  mAP50-95): 100%|██████████| 4/4 [00:00<00:00, 18.69it/s]"
     ]
    },
    {
     "name": "stdout",
     "output_type": "stream",
     "text": [
      "                   all        111         89      0.402     0.0606      0.104     0.0522\n"
     ]
    },
    {
     "name": "stderr",
     "output_type": "stream",
     "text": [
      "\n"
     ]
    },
    {
     "name": "stdout",
     "output_type": "stream",
     "text": [
      "\n",
      "      Epoch    GPU_mem   box_loss   cls_loss   dfl_loss  Instances       Size\n"
     ]
    },
    {
     "name": "stderr",
     "output_type": "stream",
     "text": [
      "     54/100      2.08G      2.229        3.4      1.252         17        640: 100%|██████████| 7/7 [00:00<00:00, 16.64it/s]\n",
      "                 Class     Images  Instances      Box(P          R      mAP50  mAP50-95): 100%|██████████| 4/4 [00:00<00:00, 18.66it/s]"
     ]
    },
    {
     "name": "stdout",
     "output_type": "stream",
     "text": [
      "                   all        111         89      0.675     0.0704      0.126     0.0628\n"
     ]
    },
    {
     "name": "stderr",
     "output_type": "stream",
     "text": [
      "\n"
     ]
    },
    {
     "name": "stdout",
     "output_type": "stream",
     "text": [
      "\n",
      "      Epoch    GPU_mem   box_loss   cls_loss   dfl_loss  Instances       Size\n"
     ]
    },
    {
     "name": "stderr",
     "output_type": "stream",
     "text": [
      "     55/100      2.08G      2.061      3.442       1.22         19        640: 100%|██████████| 7/7 [00:00<00:00, 16.37it/s]\n",
      "                 Class     Images  Instances      Box(P          R      mAP50  mAP50-95): 100%|██████████| 4/4 [00:00<00:00, 18.47it/s]"
     ]
    },
    {
     "name": "stdout",
     "output_type": "stream",
     "text": [
      "                   all        111         89      0.469     0.0674      0.111     0.0612\n"
     ]
    },
    {
     "name": "stderr",
     "output_type": "stream",
     "text": [
      "\n"
     ]
    },
    {
     "name": "stdout",
     "output_type": "stream",
     "text": [
      "\n",
      "      Epoch    GPU_mem   box_loss   cls_loss   dfl_loss  Instances       Size\n"
     ]
    },
    {
     "name": "stderr",
     "output_type": "stream",
     "text": [
      "     56/100      2.11G      2.296      3.407      1.254         10        640: 100%|██████████| 7/7 [00:00<00:00, 15.54it/s]\n",
      "                 Class     Images  Instances      Box(P          R      mAP50  mAP50-95): 100%|██████████| 4/4 [00:00<00:00, 18.47it/s]"
     ]
    },
    {
     "name": "stdout",
     "output_type": "stream",
     "text": [
      "                   all        111         89      0.312     0.0674      0.101     0.0559\n"
     ]
    },
    {
     "name": "stderr",
     "output_type": "stream",
     "text": [
      "\n"
     ]
    },
    {
     "name": "stdout",
     "output_type": "stream",
     "text": [
      "\n",
      "      Epoch    GPU_mem   box_loss   cls_loss   dfl_loss  Instances       Size\n"
     ]
    },
    {
     "name": "stderr",
     "output_type": "stream",
     "text": [
      "     57/100      2.08G      2.219      3.282      1.234         15        640: 100%|██████████| 7/7 [00:00<00:00, 16.86it/s]\n",
      "                 Class     Images  Instances      Box(P          R      mAP50  mAP50-95): 100%|██████████| 4/4 [00:00<00:00, 18.56it/s]"
     ]
    },
    {
     "name": "stdout",
     "output_type": "stream",
     "text": [
      "                   all        111         89       0.36     0.0562     0.0969     0.0508\n"
     ]
    },
    {
     "name": "stderr",
     "output_type": "stream",
     "text": [
      "\n"
     ]
    },
    {
     "name": "stdout",
     "output_type": "stream",
     "text": [
      "\n",
      "      Epoch    GPU_mem   box_loss   cls_loss   dfl_loss  Instances       Size\n"
     ]
    },
    {
     "name": "stderr",
     "output_type": "stream",
     "text": [
      "     58/100      2.08G      2.155      3.276      1.215         20        640: 100%|██████████| 7/7 [00:00<00:00, 16.42it/s]\n",
      "                 Class     Images  Instances      Box(P          R      mAP50  mAP50-95): 100%|██████████| 4/4 [00:00<00:00, 18.40it/s]"
     ]
    },
    {
     "name": "stdout",
     "output_type": "stream",
     "text": [
      "                   all        111         89      0.259     0.0562     0.0849     0.0462\n"
     ]
    },
    {
     "name": "stderr",
     "output_type": "stream",
     "text": [
      "\n"
     ]
    },
    {
     "name": "stdout",
     "output_type": "stream",
     "text": [
      "\n",
      "      Epoch    GPU_mem   box_loss   cls_loss   dfl_loss  Instances       Size\n"
     ]
    },
    {
     "name": "stderr",
     "output_type": "stream",
     "text": [
      "     59/100      2.08G      2.141       3.07      1.186         27        640: 100%|██████████| 7/7 [00:00<00:00, 16.28it/s]\n",
      "                 Class     Images  Instances      Box(P          R      mAP50  mAP50-95): 100%|██████████| 4/4 [00:00<00:00, 18.88it/s]"
     ]
    },
    {
     "name": "stdout",
     "output_type": "stream",
     "text": [
      "                   all        111         89      0.243      0.124      0.109     0.0625\n"
     ]
    },
    {
     "name": "stderr",
     "output_type": "stream",
     "text": [
      "\n"
     ]
    },
    {
     "name": "stdout",
     "output_type": "stream",
     "text": [
      "\n",
      "      Epoch    GPU_mem   box_loss   cls_loss   dfl_loss  Instances       Size\n"
     ]
    },
    {
     "name": "stderr",
     "output_type": "stream",
     "text": [
      "     60/100      2.11G      2.109      3.226      1.201         23        640: 100%|██████████| 7/7 [00:00<00:00, 16.41it/s]\n",
      "                 Class     Images  Instances      Box(P          R      mAP50  mAP50-95): 100%|██████████| 4/4 [00:00<00:00, 18.73it/s]"
     ]
    },
    {
     "name": "stdout",
     "output_type": "stream",
     "text": [
      "                   all        111         89      0.304     0.0899      0.129     0.0728\n"
     ]
    },
    {
     "name": "stderr",
     "output_type": "stream",
     "text": [
      "\n"
     ]
    },
    {
     "name": "stdout",
     "output_type": "stream",
     "text": [
      "\n",
      "      Epoch    GPU_mem   box_loss   cls_loss   dfl_loss  Instances       Size\n"
     ]
    },
    {
     "name": "stderr",
     "output_type": "stream",
     "text": [
      "     61/100      2.08G      2.253      3.073      1.206         18        640: 100%|██████████| 7/7 [00:00<00:00, 16.91it/s]\n",
      "                 Class     Images  Instances      Box(P          R      mAP50  mAP50-95): 100%|██████████| 4/4 [00:00<00:00, 18.84it/s]"
     ]
    },
    {
     "name": "stdout",
     "output_type": "stream",
     "text": [
      "                   all        111         89      0.401      0.112      0.128     0.0726\n"
     ]
    },
    {
     "name": "stderr",
     "output_type": "stream",
     "text": [
      "\n"
     ]
    },
    {
     "name": "stdout",
     "output_type": "stream",
     "text": [
      "\n",
      "      Epoch    GPU_mem   box_loss   cls_loss   dfl_loss  Instances       Size\n"
     ]
    },
    {
     "name": "stderr",
     "output_type": "stream",
     "text": [
      "     62/100      2.08G      2.135      3.135      1.193         31        640: 100%|██████████| 7/7 [00:00<00:00, 16.51it/s]\n",
      "                 Class     Images  Instances      Box(P          R      mAP50  mAP50-95): 100%|██████████| 4/4 [00:00<00:00, 19.03it/s]"
     ]
    },
    {
     "name": "stdout",
     "output_type": "stream",
     "text": [
      "                   all        111         89      0.297      0.124      0.128     0.0709\n"
     ]
    },
    {
     "name": "stderr",
     "output_type": "stream",
     "text": [
      "\n"
     ]
    },
    {
     "name": "stdout",
     "output_type": "stream",
     "text": [
      "\n",
      "      Epoch    GPU_mem   box_loss   cls_loss   dfl_loss  Instances       Size\n"
     ]
    },
    {
     "name": "stderr",
     "output_type": "stream",
     "text": [
      "     63/100      2.08G      2.125      3.331      1.198         16        640: 100%|██████████| 7/7 [00:00<00:00, 16.58it/s]\n",
      "                 Class     Images  Instances      Box(P          R      mAP50  mAP50-95): 100%|██████████| 4/4 [00:00<00:00, 18.92it/s]"
     ]
    },
    {
     "name": "stdout",
     "output_type": "stream",
     "text": [
      "                   all        111         89      0.631     0.0899       0.13     0.0761\n"
     ]
    },
    {
     "name": "stderr",
     "output_type": "stream",
     "text": [
      "\n"
     ]
    },
    {
     "name": "stdout",
     "output_type": "stream",
     "text": [
      "\n",
      "      Epoch    GPU_mem   box_loss   cls_loss   dfl_loss  Instances       Size\n"
     ]
    },
    {
     "name": "stderr",
     "output_type": "stream",
     "text": [
      "     64/100      2.11G      2.068      3.028      1.179         17        640: 100%|██████████| 7/7 [00:00<00:00, 16.54it/s]\n",
      "                 Class     Images  Instances      Box(P          R      mAP50  mAP50-95): 100%|██████████| 4/4 [00:00<00:00, 18.96it/s]"
     ]
    },
    {
     "name": "stdout",
     "output_type": "stream",
     "text": [
      "                   all        111         89      0.742      0.101      0.155     0.0927\n"
     ]
    },
    {
     "name": "stderr",
     "output_type": "stream",
     "text": [
      "\n"
     ]
    },
    {
     "name": "stdout",
     "output_type": "stream",
     "text": [
      "\n",
      "      Epoch    GPU_mem   box_loss   cls_loss   dfl_loss  Instances       Size\n"
     ]
    },
    {
     "name": "stderr",
     "output_type": "stream",
     "text": [
      "     65/100      2.08G      1.953      3.145      1.149         13        640: 100%|██████████| 7/7 [00:00<00:00, 16.98it/s]\n",
      "                 Class     Images  Instances      Box(P          R      mAP50  mAP50-95): 100%|██████████| 4/4 [00:00<00:00, 19.04it/s]"
     ]
    },
    {
     "name": "stdout",
     "output_type": "stream",
     "text": [
      "                   all        111         89      0.684     0.0899      0.151     0.0904\n"
     ]
    },
    {
     "name": "stderr",
     "output_type": "stream",
     "text": [
      "\n"
     ]
    },
    {
     "name": "stdout",
     "output_type": "stream",
     "text": [
      "\n",
      "      Epoch    GPU_mem   box_loss   cls_loss   dfl_loss  Instances       Size\n"
     ]
    },
    {
     "name": "stderr",
     "output_type": "stream",
     "text": [
      "     66/100      2.08G      2.009      2.967      1.141         15        640: 100%|██████████| 7/7 [00:00<00:00, 16.61it/s]\n",
      "                 Class     Images  Instances      Box(P          R      mAP50  mAP50-95): 100%|██████████| 4/4 [00:00<00:00, 18.18it/s]"
     ]
    },
    {
     "name": "stdout",
     "output_type": "stream",
     "text": [
      "                   all        111         89      0.576     0.0899      0.132     0.0811\n"
     ]
    },
    {
     "name": "stderr",
     "output_type": "stream",
     "text": [
      "\n"
     ]
    },
    {
     "name": "stdout",
     "output_type": "stream",
     "text": [
      "\n",
      "      Epoch    GPU_mem   box_loss   cls_loss   dfl_loss  Instances       Size\n"
     ]
    },
    {
     "name": "stderr",
     "output_type": "stream",
     "text": [
      "     67/100      2.08G          2      3.094      1.165         21        640: 100%|██████████| 7/7 [00:00<00:00, 16.55it/s]\n",
      "                 Class     Images  Instances      Box(P          R      mAP50  mAP50-95): 100%|██████████| 4/4 [00:00<00:00, 19.03it/s]"
     ]
    },
    {
     "name": "stdout",
     "output_type": "stream",
     "text": [
      "                   all        111         89      0.563      0.101      0.135     0.0778\n"
     ]
    },
    {
     "name": "stderr",
     "output_type": "stream",
     "text": [
      "\n"
     ]
    },
    {
     "name": "stdout",
     "output_type": "stream",
     "text": [
      "\n",
      "      Epoch    GPU_mem   box_loss   cls_loss   dfl_loss  Instances       Size\n"
     ]
    },
    {
     "name": "stderr",
     "output_type": "stream",
     "text": [
      "     68/100      2.11G      2.094      2.834      1.164         23        640: 100%|██████████| 7/7 [00:00<00:00, 15.76it/s]\n",
      "                 Class     Images  Instances      Box(P          R      mAP50  mAP50-95): 100%|██████████| 4/4 [00:00<00:00, 19.10it/s]"
     ]
    },
    {
     "name": "stdout",
     "output_type": "stream",
     "text": [
      "                   all        111         89      0.434      0.101      0.131     0.0751\n"
     ]
    },
    {
     "name": "stderr",
     "output_type": "stream",
     "text": [
      "\n"
     ]
    },
    {
     "name": "stdout",
     "output_type": "stream",
     "text": [
      "\n",
      "      Epoch    GPU_mem   box_loss   cls_loss   dfl_loss  Instances       Size\n"
     ]
    },
    {
     "name": "stderr",
     "output_type": "stream",
     "text": [
      "     69/100      2.08G      2.093      2.886      1.178         25        640: 100%|██████████| 7/7 [00:00<00:00, 16.22it/s]\n",
      "                 Class     Images  Instances      Box(P          R      mAP50  mAP50-95): 100%|██████████| 4/4 [00:00<00:00, 18.34it/s]"
     ]
    },
    {
     "name": "stdout",
     "output_type": "stream",
     "text": [
      "                   all        111         89      0.436      0.112       0.13     0.0766\n"
     ]
    },
    {
     "name": "stderr",
     "output_type": "stream",
     "text": [
      "\n"
     ]
    },
    {
     "name": "stdout",
     "output_type": "stream",
     "text": [
      "\n",
      "      Epoch    GPU_mem   box_loss   cls_loss   dfl_loss  Instances       Size\n"
     ]
    },
    {
     "name": "stderr",
     "output_type": "stream",
     "text": [
      "     70/100      2.08G      2.018      3.032      1.218         14        640: 100%|██████████| 7/7 [00:00<00:00, 15.66it/s]\n",
      "                 Class     Images  Instances      Box(P          R      mAP50  mAP50-95): 100%|██████████| 4/4 [00:00<00:00, 17.63it/s]"
     ]
    },
    {
     "name": "stdout",
     "output_type": "stream",
     "text": [
      "                   all        111         89      0.389      0.135      0.139     0.0865\n"
     ]
    },
    {
     "name": "stderr",
     "output_type": "stream",
     "text": [
      "\n"
     ]
    },
    {
     "name": "stdout",
     "output_type": "stream",
     "text": [
      "\n",
      "      Epoch    GPU_mem   box_loss   cls_loss   dfl_loss  Instances       Size\n"
     ]
    },
    {
     "name": "stderr",
     "output_type": "stream",
     "text": [
      "     71/100      2.08G      2.056      2.929      1.215         18        640: 100%|██████████| 7/7 [00:00<00:00, 15.49it/s]\n",
      "                 Class     Images  Instances      Box(P          R      mAP50  mAP50-95): 100%|██████████| 4/4 [00:00<00:00, 18.53it/s]"
     ]
    },
    {
     "name": "stdout",
     "output_type": "stream",
     "text": [
      "                   all        111         89      0.326      0.157      0.142     0.0875\n"
     ]
    },
    {
     "name": "stderr",
     "output_type": "stream",
     "text": [
      "\n"
     ]
    },
    {
     "name": "stdout",
     "output_type": "stream",
     "text": [
      "\n",
      "      Epoch    GPU_mem   box_loss   cls_loss   dfl_loss  Instances       Size\n"
     ]
    },
    {
     "name": "stderr",
     "output_type": "stream",
     "text": [
      "     72/100      2.11G      1.925      2.841      1.114         28        640: 100%|██████████| 7/7 [00:00<00:00, 15.36it/s]\n",
      "                 Class     Images  Instances      Box(P          R      mAP50  mAP50-95): 100%|██████████| 4/4 [00:00<00:00, 18.53it/s]"
     ]
    },
    {
     "name": "stdout",
     "output_type": "stream",
     "text": [
      "                   all        111         89       0.33      0.157      0.141     0.0811\n"
     ]
    },
    {
     "name": "stderr",
     "output_type": "stream",
     "text": [
      "\n"
     ]
    },
    {
     "name": "stdout",
     "output_type": "stream",
     "text": [
      "\n",
      "      Epoch    GPU_mem   box_loss   cls_loss   dfl_loss  Instances       Size\n"
     ]
    },
    {
     "name": "stderr",
     "output_type": "stream",
     "text": [
      "     73/100      2.08G      2.038      2.983      1.214         20        640: 100%|██████████| 7/7 [00:00<00:00, 16.11it/s]\n",
      "                 Class     Images  Instances      Box(P          R      mAP50  mAP50-95): 100%|██████████| 4/4 [00:00<00:00, 18.38it/s]"
     ]
    },
    {
     "name": "stdout",
     "output_type": "stream",
     "text": [
      "                   all        111         89      0.295      0.157      0.147     0.0829\n"
     ]
    },
    {
     "name": "stderr",
     "output_type": "stream",
     "text": [
      "\n"
     ]
    },
    {
     "name": "stdout",
     "output_type": "stream",
     "text": [
      "\n",
      "      Epoch    GPU_mem   box_loss   cls_loss   dfl_loss  Instances       Size\n"
     ]
    },
    {
     "name": "stderr",
     "output_type": "stream",
     "text": [
      "     74/100      2.08G      2.008      2.883      1.153         22        640: 100%|██████████| 7/7 [00:00<00:00, 15.76it/s]\n",
      "                 Class     Images  Instances      Box(P          R      mAP50  mAP50-95): 100%|██████████| 4/4 [00:00<00:00, 18.20it/s]"
     ]
    },
    {
     "name": "stdout",
     "output_type": "stream",
     "text": [
      "                   all        111         89      0.391      0.169       0.17     0.0986\n"
     ]
    },
    {
     "name": "stderr",
     "output_type": "stream",
     "text": [
      "\n"
     ]
    },
    {
     "name": "stdout",
     "output_type": "stream",
     "text": [
      "\n",
      "      Epoch    GPU_mem   box_loss   cls_loss   dfl_loss  Instances       Size\n"
     ]
    },
    {
     "name": "stderr",
     "output_type": "stream",
     "text": [
      "     75/100      2.08G      1.922      2.922       1.16         17        640: 100%|██████████| 7/7 [00:00<00:00, 15.64it/s]\n",
      "                 Class     Images  Instances      Box(P          R      mAP50  mAP50-95): 100%|██████████| 4/4 [00:00<00:00, 17.75it/s]"
     ]
    },
    {
     "name": "stdout",
     "output_type": "stream",
     "text": [
      "                   all        111         89      0.496       0.18      0.202       0.12\n"
     ]
    },
    {
     "name": "stderr",
     "output_type": "stream",
     "text": [
      "\n"
     ]
    },
    {
     "name": "stdout",
     "output_type": "stream",
     "text": [
      "\n",
      "      Epoch    GPU_mem   box_loss   cls_loss   dfl_loss  Instances       Size\n"
     ]
    },
    {
     "name": "stderr",
     "output_type": "stream",
     "text": [
      "     76/100      2.11G      1.925      2.793      1.178         13        640: 100%|██████████| 7/7 [00:00<00:00, 14.02it/s]\n",
      "                 Class     Images  Instances      Box(P          R      mAP50  mAP50-95): 100%|██████████| 4/4 [00:00<00:00, 17.53it/s]"
     ]
    },
    {
     "name": "stdout",
     "output_type": "stream",
     "text": [
      "                   all        111         89      0.584       0.18      0.215      0.121\n"
     ]
    },
    {
     "name": "stderr",
     "output_type": "stream",
     "text": [
      "\n"
     ]
    },
    {
     "name": "stdout",
     "output_type": "stream",
     "text": [
      "\n",
      "      Epoch    GPU_mem   box_loss   cls_loss   dfl_loss  Instances       Size\n"
     ]
    },
    {
     "name": "stderr",
     "output_type": "stream",
     "text": [
      "     77/100      2.08G      1.932       2.66      1.104         23        640: 100%|██████████| 7/7 [00:00<00:00, 15.70it/s]\n",
      "                 Class     Images  Instances      Box(P          R      mAP50  mAP50-95): 100%|██████████| 4/4 [00:00<00:00, 18.11it/s]"
     ]
    },
    {
     "name": "stdout",
     "output_type": "stream",
     "text": [
      "                   all        111         89      0.563      0.174      0.215      0.123\n"
     ]
    },
    {
     "name": "stderr",
     "output_type": "stream",
     "text": [
      "\n"
     ]
    },
    {
     "name": "stdout",
     "output_type": "stream",
     "text": [
      "\n",
      "      Epoch    GPU_mem   box_loss   cls_loss   dfl_loss  Instances       Size\n"
     ]
    },
    {
     "name": "stderr",
     "output_type": "stream",
     "text": [
      "     78/100      2.08G      1.897      2.879      1.105         20        640: 100%|██████████| 7/7 [00:00<00:00, 15.54it/s]\n",
      "                 Class     Images  Instances      Box(P          R      mAP50  mAP50-95): 100%|██████████| 4/4 [00:00<00:00, 17.95it/s]"
     ]
    },
    {
     "name": "stdout",
     "output_type": "stream",
     "text": [
      "                   all        111         89      0.455      0.191      0.219       0.13\n"
     ]
    },
    {
     "name": "stderr",
     "output_type": "stream",
     "text": [
      "\n"
     ]
    },
    {
     "name": "stdout",
     "output_type": "stream",
     "text": [
      "\n",
      "      Epoch    GPU_mem   box_loss   cls_loss   dfl_loss  Instances       Size\n"
     ]
    },
    {
     "name": "stderr",
     "output_type": "stream",
     "text": [
      "     79/100      2.08G      1.879      2.665      1.127         20        640: 100%|██████████| 7/7 [00:00<00:00, 15.72it/s]\n",
      "                 Class     Images  Instances      Box(P          R      mAP50  mAP50-95): 100%|██████████| 4/4 [00:00<00:00, 18.24it/s]"
     ]
    },
    {
     "name": "stdout",
     "output_type": "stream",
     "text": [
      "                   all        111         89      0.552      0.194      0.228       0.14\n"
     ]
    },
    {
     "name": "stderr",
     "output_type": "stream",
     "text": [
      "\n"
     ]
    },
    {
     "name": "stdout",
     "output_type": "stream",
     "text": [
      "\n",
      "      Epoch    GPU_mem   box_loss   cls_loss   dfl_loss  Instances       Size\n"
     ]
    },
    {
     "name": "stderr",
     "output_type": "stream",
     "text": [
      "     80/100      2.11G      1.936      2.816      1.111         19        640: 100%|██████████| 7/7 [00:00<00:00, 15.16it/s]\n",
      "                 Class     Images  Instances      Box(P          R      mAP50  mAP50-95): 100%|██████████| 4/4 [00:00<00:00, 18.48it/s]"
     ]
    },
    {
     "name": "stdout",
     "output_type": "stream",
     "text": [
      "                   all        111         89      0.473      0.192      0.226      0.141\n"
     ]
    },
    {
     "name": "stderr",
     "output_type": "stream",
     "text": [
      "\n"
     ]
    },
    {
     "name": "stdout",
     "output_type": "stream",
     "text": [
      "\n",
      "      Epoch    GPU_mem   box_loss   cls_loss   dfl_loss  Instances       Size\n"
     ]
    },
    {
     "name": "stderr",
     "output_type": "stream",
     "text": [
      "     81/100      2.08G        1.8       2.68      1.097         24        640: 100%|██████████| 7/7 [00:00<00:00, 16.07it/s]\n",
      "                 Class     Images  Instances      Box(P          R      mAP50  mAP50-95): 100%|██████████| 4/4 [00:00<00:00, 17.61it/s]"
     ]
    },
    {
     "name": "stdout",
     "output_type": "stream",
     "text": [
      "                   all        111         89      0.521      0.171      0.225       0.14\n"
     ]
    },
    {
     "name": "stderr",
     "output_type": "stream",
     "text": [
      "\n"
     ]
    },
    {
     "name": "stdout",
     "output_type": "stream",
     "text": [
      "\n",
      "      Epoch    GPU_mem   box_loss   cls_loss   dfl_loss  Instances       Size\n"
     ]
    },
    {
     "name": "stderr",
     "output_type": "stream",
     "text": [
      "     82/100      2.08G      1.843      2.724      1.131         15        640: 100%|██████████| 7/7 [00:00<00:00, 15.60it/s]\n",
      "                 Class     Images  Instances      Box(P          R      mAP50  mAP50-95): 100%|██████████| 4/4 [00:00<00:00, 17.50it/s]"
     ]
    },
    {
     "name": "stdout",
     "output_type": "stream",
     "text": [
      "                   all        111         89      0.787      0.166      0.218      0.136\n"
     ]
    },
    {
     "name": "stderr",
     "output_type": "stream",
     "text": [
      "\n"
     ]
    },
    {
     "name": "stdout",
     "output_type": "stream",
     "text": [
      "\n",
      "      Epoch    GPU_mem   box_loss   cls_loss   dfl_loss  Instances       Size\n"
     ]
    },
    {
     "name": "stderr",
     "output_type": "stream",
     "text": [
      "     83/100      2.08G      1.796      2.668      1.109         16        640: 100%|██████████| 7/7 [00:00<00:00, 16.04it/s]\n",
      "                 Class     Images  Instances      Box(P          R      mAP50  mAP50-95): 100%|██████████| 4/4 [00:00<00:00, 18.67it/s]"
     ]
    },
    {
     "name": "stdout",
     "output_type": "stream",
     "text": [
      "                   all        111         89      0.728      0.169      0.226      0.148\n"
     ]
    },
    {
     "name": "stderr",
     "output_type": "stream",
     "text": [
      "\n"
     ]
    },
    {
     "name": "stdout",
     "output_type": "stream",
     "text": [
      "\n",
      "      Epoch    GPU_mem   box_loss   cls_loss   dfl_loss  Instances       Size\n"
     ]
    },
    {
     "name": "stderr",
     "output_type": "stream",
     "text": [
      "     84/100      2.11G      1.835      2.811      1.131         19        640: 100%|██████████| 7/7 [00:00<00:00, 16.36it/s]\n",
      "                 Class     Images  Instances      Box(P          R      mAP50  mAP50-95): 100%|██████████| 4/4 [00:00<00:00, 18.85it/s]"
     ]
    },
    {
     "name": "stdout",
     "output_type": "stream",
     "text": [
      "                   all        111         89      0.632       0.18      0.228      0.143\n"
     ]
    },
    {
     "name": "stderr",
     "output_type": "stream",
     "text": [
      "\n"
     ]
    },
    {
     "name": "stdout",
     "output_type": "stream",
     "text": [
      "\n",
      "      Epoch    GPU_mem   box_loss   cls_loss   dfl_loss  Instances       Size\n"
     ]
    },
    {
     "name": "stderr",
     "output_type": "stream",
     "text": [
      "     85/100      2.08G      1.751      2.651       1.09         18        640: 100%|██████████| 7/7 [00:00<00:00, 16.59it/s]\n",
      "                 Class     Images  Instances      Box(P          R      mAP50  mAP50-95): 100%|██████████| 4/4 [00:00<00:00, 18.66it/s]"
     ]
    },
    {
     "name": "stdout",
     "output_type": "stream",
     "text": [
      "                   all        111         89      0.607       0.18      0.231      0.143\n"
     ]
    },
    {
     "name": "stderr",
     "output_type": "stream",
     "text": [
      "\n"
     ]
    },
    {
     "name": "stdout",
     "output_type": "stream",
     "text": [
      "\n",
      "      Epoch    GPU_mem   box_loss   cls_loss   dfl_loss  Instances       Size\n"
     ]
    },
    {
     "name": "stderr",
     "output_type": "stream",
     "text": [
      "     86/100      2.08G      1.856      2.836      1.108         21        640: 100%|██████████| 7/7 [00:00<00:00, 16.34it/s]\n",
      "                 Class     Images  Instances      Box(P          R      mAP50  mAP50-95): 100%|██████████| 4/4 [00:00<00:00, 19.00it/s]"
     ]
    },
    {
     "name": "stdout",
     "output_type": "stream",
     "text": [
      "                   all        111         89       0.61       0.18       0.23      0.145\n"
     ]
    },
    {
     "name": "stderr",
     "output_type": "stream",
     "text": [
      "\n"
     ]
    },
    {
     "name": "stdout",
     "output_type": "stream",
     "text": [
      "\n",
      "      Epoch    GPU_mem   box_loss   cls_loss   dfl_loss  Instances       Size\n"
     ]
    },
    {
     "name": "stderr",
     "output_type": "stream",
     "text": [
      "     87/100      2.08G      1.781      2.701      1.113         19        640: 100%|██████████| 7/7 [00:00<00:00, 16.35it/s]\n",
      "                 Class     Images  Instances      Box(P          R      mAP50  mAP50-95): 100%|██████████| 4/4 [00:00<00:00, 18.96it/s]"
     ]
    },
    {
     "name": "stdout",
     "output_type": "stream",
     "text": [
      "                   all        111         89      0.678      0.169      0.224      0.143\n"
     ]
    },
    {
     "name": "stderr",
     "output_type": "stream",
     "text": [
      "\n"
     ]
    },
    {
     "name": "stdout",
     "output_type": "stream",
     "text": [
      "\n",
      "      Epoch    GPU_mem   box_loss   cls_loss   dfl_loss  Instances       Size\n"
     ]
    },
    {
     "name": "stderr",
     "output_type": "stream",
     "text": [
      "     88/100      2.11G      1.658      2.577       1.08         16        640: 100%|██████████| 7/7 [00:00<00:00, 16.17it/s]\n",
      "                 Class     Images  Instances      Box(P          R      mAP50  mAP50-95): 100%|██████████| 4/4 [00:00<00:00, 18.81it/s]"
     ]
    },
    {
     "name": "stdout",
     "output_type": "stream",
     "text": [
      "                   all        111         89      0.551       0.18      0.224      0.145\n"
     ]
    },
    {
     "name": "stderr",
     "output_type": "stream",
     "text": [
      "\n"
     ]
    },
    {
     "name": "stdout",
     "output_type": "stream",
     "text": [
      "\n",
      "      Epoch    GPU_mem   box_loss   cls_loss   dfl_loss  Instances       Size\n"
     ]
    },
    {
     "name": "stderr",
     "output_type": "stream",
     "text": [
      "     89/100      2.08G      1.623      2.598      1.047         22        640: 100%|██████████| 7/7 [00:00<00:00, 16.88it/s]\n",
      "                 Class     Images  Instances      Box(P          R      mAP50  mAP50-95): 100%|██████████| 4/4 [00:00<00:00, 18.62it/s]"
     ]
    },
    {
     "name": "stdout",
     "output_type": "stream",
     "text": [
      "                   all        111         89      0.539       0.18      0.231      0.149\n"
     ]
    },
    {
     "name": "stderr",
     "output_type": "stream",
     "text": [
      "\n"
     ]
    },
    {
     "name": "stdout",
     "output_type": "stream",
     "text": [
      "\n",
      "      Epoch    GPU_mem   box_loss   cls_loss   dfl_loss  Instances       Size\n"
     ]
    },
    {
     "name": "stderr",
     "output_type": "stream",
     "text": [
      "     90/100      2.08G      1.874      2.738      1.115         18        640: 100%|██████████| 7/7 [00:00<00:00, 16.43it/s]\n",
      "                 Class     Images  Instances      Box(P          R      mAP50  mAP50-95): 100%|██████████| 4/4 [00:00<00:00, 18.83it/s]"
     ]
    },
    {
     "name": "stdout",
     "output_type": "stream",
     "text": [
      "                   all        111         89      0.573      0.191      0.229      0.151\n"
     ]
    },
    {
     "name": "stderr",
     "output_type": "stream",
     "text": [
      "\n"
     ]
    },
    {
     "name": "stdout",
     "output_type": "stream",
     "text": [
      "Closing dataloader mosaic\n",
      "\n",
      "      Epoch    GPU_mem   box_loss   cls_loss   dfl_loss  Instances       Size\n"
     ]
    },
    {
     "name": "stderr",
     "output_type": "stream",
     "text": [
      "     91/100      2.22G      1.829      2.895      1.188          8        640: 100%|██████████| 7/7 [00:00<00:00,  9.59it/s]\n",
      "                 Class     Images  Instances      Box(P          R      mAP50  mAP50-95): 100%|██████████| 4/4 [00:00<00:00, 18.63it/s]"
     ]
    },
    {
     "name": "stdout",
     "output_type": "stream",
     "text": [
      "                   all        111         89       0.55      0.192      0.234      0.159\n"
     ]
    },
    {
     "name": "stderr",
     "output_type": "stream",
     "text": [
      "\n"
     ]
    },
    {
     "name": "stdout",
     "output_type": "stream",
     "text": [
      "\n",
      "      Epoch    GPU_mem   box_loss   cls_loss   dfl_loss  Instances       Size\n"
     ]
    },
    {
     "name": "stderr",
     "output_type": "stream",
     "text": [
      "     92/100      2.11G      1.828      2.848      1.136         10        640: 100%|██████████| 7/7 [00:00<00:00, 16.58it/s]\n",
      "                 Class     Images  Instances      Box(P          R      mAP50  mAP50-95): 100%|██████████| 4/4 [00:00<00:00, 18.72it/s]"
     ]
    },
    {
     "name": "stdout",
     "output_type": "stream",
     "text": [
      "                   all        111         89      0.613      0.191      0.236      0.164\n"
     ]
    },
    {
     "name": "stderr",
     "output_type": "stream",
     "text": [
      "\n"
     ]
    },
    {
     "name": "stdout",
     "output_type": "stream",
     "text": [
      "\n",
      "      Epoch    GPU_mem   box_loss   cls_loss   dfl_loss  Instances       Size\n"
     ]
    },
    {
     "name": "stderr",
     "output_type": "stream",
     "text": [
      "     93/100      2.08G      1.746      2.836      1.096          7        640: 100%|██████████| 7/7 [00:00<00:00, 16.75it/s]\n",
      "                 Class     Images  Instances      Box(P          R      mAP50  mAP50-95): 100%|██████████| 4/4 [00:00<00:00, 18.69it/s]"
     ]
    },
    {
     "name": "stdout",
     "output_type": "stream",
     "text": [
      "                   all        111         89      0.655      0.192      0.241      0.166\n"
     ]
    },
    {
     "name": "stderr",
     "output_type": "stream",
     "text": [
      "\n"
     ]
    },
    {
     "name": "stdout",
     "output_type": "stream",
     "text": [
      "\n",
      "      Epoch    GPU_mem   box_loss   cls_loss   dfl_loss  Instances       Size\n"
     ]
    },
    {
     "name": "stderr",
     "output_type": "stream",
     "text": [
      "     94/100      2.08G      1.689      2.852        1.1          9        640: 100%|██████████| 7/7 [00:00<00:00, 16.61it/s]\n",
      "                 Class     Images  Instances      Box(P          R      mAP50  mAP50-95): 100%|██████████| 4/4 [00:00<00:00, 18.82it/s]"
     ]
    },
    {
     "name": "stdout",
     "output_type": "stream",
     "text": [
      "                   all        111         89      0.712      0.202      0.251      0.172\n"
     ]
    },
    {
     "name": "stderr",
     "output_type": "stream",
     "text": [
      "\n"
     ]
    },
    {
     "name": "stdout",
     "output_type": "stream",
     "text": [
      "\n",
      "      Epoch    GPU_mem   box_loss   cls_loss   dfl_loss  Instances       Size\n"
     ]
    },
    {
     "name": "stderr",
     "output_type": "stream",
     "text": [
      "     95/100      2.08G      1.633      2.542      1.066         12        640: 100%|██████████| 7/7 [00:00<00:00, 16.27it/s]\n",
      "                 Class     Images  Instances      Box(P          R      mAP50  mAP50-95): 100%|██████████| 4/4 [00:00<00:00, 18.68it/s]"
     ]
    },
    {
     "name": "stdout",
     "output_type": "stream",
     "text": [
      "                   all        111         89      0.773      0.202      0.254      0.172\n"
     ]
    },
    {
     "name": "stderr",
     "output_type": "stream",
     "text": [
      "\n"
     ]
    },
    {
     "name": "stdout",
     "output_type": "stream",
     "text": [
      "\n",
      "      Epoch    GPU_mem   box_loss   cls_loss   dfl_loss  Instances       Size\n"
     ]
    },
    {
     "name": "stderr",
     "output_type": "stream",
     "text": [
      "     96/100      2.11G      1.553       2.72      1.087         11        640: 100%|██████████| 7/7 [00:00<00:00, 16.43it/s]\n",
      "                 Class     Images  Instances      Box(P          R      mAP50  mAP50-95): 100%|██████████| 4/4 [00:00<00:00, 18.55it/s]"
     ]
    },
    {
     "name": "stdout",
     "output_type": "stream",
     "text": [
      "                   all        111         89      0.735      0.202      0.258      0.175\n"
     ]
    },
    {
     "name": "stderr",
     "output_type": "stream",
     "text": [
      "\n"
     ]
    },
    {
     "name": "stdout",
     "output_type": "stream",
     "text": [
      "\n",
      "      Epoch    GPU_mem   box_loss   cls_loss   dfl_loss  Instances       Size\n"
     ]
    },
    {
     "name": "stderr",
     "output_type": "stream",
     "text": [
      "     97/100      2.08G      1.676      2.728      1.106         11        640: 100%|██████████| 7/7 [00:00<00:00, 16.93it/s]\n",
      "                 Class     Images  Instances      Box(P          R      mAP50  mAP50-95): 100%|██████████| 4/4 [00:00<00:00, 18.68it/s]"
     ]
    },
    {
     "name": "stdout",
     "output_type": "stream",
     "text": [
      "                   all        111         89      0.735      0.202       0.26      0.177\n"
     ]
    },
    {
     "name": "stderr",
     "output_type": "stream",
     "text": [
      "\n"
     ]
    },
    {
     "name": "stdout",
     "output_type": "stream",
     "text": [
      "\n",
      "      Epoch    GPU_mem   box_loss   cls_loss   dfl_loss  Instances       Size\n"
     ]
    },
    {
     "name": "stderr",
     "output_type": "stream",
     "text": [
      "     98/100      2.08G      1.651      2.471      1.091         11        640: 100%|██████████| 7/7 [00:00<00:00, 16.57it/s]\n",
      "                 Class     Images  Instances      Box(P          R      mAP50  mAP50-95): 100%|██████████| 4/4 [00:00<00:00, 18.86it/s]"
     ]
    },
    {
     "name": "stdout",
     "output_type": "stream",
     "text": [
      "                   all        111         89       0.73      0.202      0.259      0.176\n"
     ]
    },
    {
     "name": "stderr",
     "output_type": "stream",
     "text": [
      "\n"
     ]
    },
    {
     "name": "stdout",
     "output_type": "stream",
     "text": [
      "\n",
      "      Epoch    GPU_mem   box_loss   cls_loss   dfl_loss  Instances       Size\n"
     ]
    },
    {
     "name": "stderr",
     "output_type": "stream",
     "text": [
      "     99/100      2.08G      1.571      2.709      1.067          4        640: 100%|██████████| 7/7 [00:00<00:00, 16.54it/s]\n",
      "                 Class     Images  Instances      Box(P          R      mAP50  mAP50-95): 100%|██████████| 4/4 [00:00<00:00, 18.93it/s]"
     ]
    },
    {
     "name": "stdout",
     "output_type": "stream",
     "text": [
      "                   all        111         89      0.727      0.202       0.26      0.175\n"
     ]
    },
    {
     "name": "stderr",
     "output_type": "stream",
     "text": [
      "\n"
     ]
    },
    {
     "name": "stdout",
     "output_type": "stream",
     "text": [
      "\n",
      "      Epoch    GPU_mem   box_loss   cls_loss   dfl_loss  Instances       Size\n"
     ]
    },
    {
     "name": "stderr",
     "output_type": "stream",
     "text": [
      "    100/100      2.11G      1.628      2.677      1.089         14        640: 100%|██████████| 7/7 [00:00<00:00, 16.09it/s]\n",
      "                 Class     Images  Instances      Box(P          R      mAP50  mAP50-95): 100%|██████████| 4/4 [00:00<00:00, 18.43it/s]"
     ]
    },
    {
     "name": "stdout",
     "output_type": "stream",
     "text": [
      "                   all        111         89      0.725      0.202      0.264      0.182\n"
     ]
    },
    {
     "name": "stderr",
     "output_type": "stream",
     "text": [
      "\n"
     ]
    },
    {
     "name": "stdout",
     "output_type": "stream",
     "text": [
      "\n",
      "100 epochs completed in 0.039 hours.\n",
      "Optimizer stripped from runs/detect/train11/weights/last.pt, 6.2MB\n",
      "Optimizer stripped from runs/detect/train11/weights/best.pt, 6.2MB\n",
      "\n",
      "Validating runs/detect/train11/weights/best.pt...\n",
      "Ultralytics YOLOv8.2.11 🚀 Python-3.10.14 torch-2.2.2 CUDA:0 (NVIDIA RTX A5000, 24248MiB)\n",
      "Model summary (fused): 168 layers, 3005843 parameters, 0 gradients, 8.1 GFLOPs\n"
     ]
    },
    {
     "name": "stderr",
     "output_type": "stream",
     "text": [
      "                 Class     Images  Instances      Box(P          R      mAP50  mAP50-95): 100%|██████████| 4/4 [00:00<00:00, 13.73it/s]\n"
     ]
    },
    {
     "name": "stdout",
     "output_type": "stream",
     "text": [
      "                   all        111         89      0.723      0.202      0.264       0.18\n",
      "Speed: 0.1ms preprocess, 0.5ms inference, 0.0ms loss, 0.9ms postprocess per image\n",
      "Results saved to \u001b[1mruns/detect/train11\u001b[0m\n"
     ]
    },
    {
     "data": {
      "text/plain": [
       "ultralytics.utils.metrics.DetMetrics object with attributes:\n",
       "\n",
       "ap_class_index: array([0])\n",
       "box: ultralytics.utils.metrics.Metric object\n",
       "confusion_matrix: <ultralytics.utils.metrics.ConfusionMatrix object at 0x7a4a2b871ae0>\n",
       "curves: ['Precision-Recall(B)', 'F1-Confidence(B)', 'Precision-Confidence(B)', 'Recall-Confidence(B)']\n",
       "curves_results: [[array([          0,    0.001001,    0.002002,    0.003003,    0.004004,    0.005005,    0.006006,    0.007007,    0.008008,    0.009009,     0.01001,    0.011011,    0.012012,    0.013013,    0.014014,    0.015015,    0.016016,    0.017017,    0.018018,    0.019019,     0.02002,    0.021021,    0.022022,    0.023023,\n",
       "          0.024024,    0.025025,    0.026026,    0.027027,    0.028028,    0.029029,     0.03003,    0.031031,    0.032032,    0.033033,    0.034034,    0.035035,    0.036036,    0.037037,    0.038038,    0.039039,     0.04004,    0.041041,    0.042042,    0.043043,    0.044044,    0.045045,    0.046046,    0.047047,\n",
       "          0.048048,    0.049049,     0.05005,    0.051051,    0.052052,    0.053053,    0.054054,    0.055055,    0.056056,    0.057057,    0.058058,    0.059059,     0.06006,    0.061061,    0.062062,    0.063063,    0.064064,    0.065065,    0.066066,    0.067067,    0.068068,    0.069069,     0.07007,    0.071071,\n",
       "          0.072072,    0.073073,    0.074074,    0.075075,    0.076076,    0.077077,    0.078078,    0.079079,     0.08008,    0.081081,    0.082082,    0.083083,    0.084084,    0.085085,    0.086086,    0.087087,    0.088088,    0.089089,     0.09009,    0.091091,    0.092092,    0.093093,    0.094094,    0.095095,\n",
       "          0.096096,    0.097097,    0.098098,    0.099099,      0.1001,      0.1011,      0.1021,      0.1031,      0.1041,     0.10511,     0.10611,     0.10711,     0.10811,     0.10911,     0.11011,     0.11111,     0.11211,     0.11311,     0.11411,     0.11512,     0.11612,     0.11712,     0.11812,     0.11912,\n",
       "           0.12012,     0.12112,     0.12212,     0.12312,     0.12412,     0.12513,     0.12613,     0.12713,     0.12813,     0.12913,     0.13013,     0.13113,     0.13213,     0.13313,     0.13413,     0.13514,     0.13614,     0.13714,     0.13814,     0.13914,     0.14014,     0.14114,     0.14214,     0.14314,\n",
       "           0.14414,     0.14515,     0.14615,     0.14715,     0.14815,     0.14915,     0.15015,     0.15115,     0.15215,     0.15315,     0.15415,     0.15516,     0.15616,     0.15716,     0.15816,     0.15916,     0.16016,     0.16116,     0.16216,     0.16316,     0.16416,     0.16517,     0.16617,     0.16717,\n",
       "           0.16817,     0.16917,     0.17017,     0.17117,     0.17217,     0.17317,     0.17417,     0.17518,     0.17618,     0.17718,     0.17818,     0.17918,     0.18018,     0.18118,     0.18218,     0.18318,     0.18418,     0.18519,     0.18619,     0.18719,     0.18819,     0.18919,     0.19019,     0.19119,\n",
       "           0.19219,     0.19319,     0.19419,      0.1952,      0.1962,      0.1972,      0.1982,      0.1992,      0.2002,      0.2012,      0.2022,      0.2032,      0.2042,     0.20521,     0.20621,     0.20721,     0.20821,     0.20921,     0.21021,     0.21121,     0.21221,     0.21321,     0.21421,     0.21522,\n",
       "           0.21622,     0.21722,     0.21822,     0.21922,     0.22022,     0.22122,     0.22222,     0.22322,     0.22422,     0.22523,     0.22623,     0.22723,     0.22823,     0.22923,     0.23023,     0.23123,     0.23223,     0.23323,     0.23423,     0.23524,     0.23624,     0.23724,     0.23824,     0.23924,\n",
       "           0.24024,     0.24124,     0.24224,     0.24324,     0.24424,     0.24525,     0.24625,     0.24725,     0.24825,     0.24925,     0.25025,     0.25125,     0.25225,     0.25325,     0.25425,     0.25526,     0.25626,     0.25726,     0.25826,     0.25926,     0.26026,     0.26126,     0.26226,     0.26326,\n",
       "           0.26426,     0.26527,     0.26627,     0.26727,     0.26827,     0.26927,     0.27027,     0.27127,     0.27227,     0.27327,     0.27427,     0.27528,     0.27628,     0.27728,     0.27828,     0.27928,     0.28028,     0.28128,     0.28228,     0.28328,     0.28428,     0.28529,     0.28629,     0.28729,\n",
       "           0.28829,     0.28929,     0.29029,     0.29129,     0.29229,     0.29329,     0.29429,      0.2953,      0.2963,      0.2973,      0.2983,      0.2993,      0.3003,      0.3013,      0.3023,      0.3033,      0.3043,     0.30531,     0.30631,     0.30731,     0.30831,     0.30931,     0.31031,     0.31131,\n",
       "           0.31231,     0.31331,     0.31431,     0.31532,     0.31632,     0.31732,     0.31832,     0.31932,     0.32032,     0.32132,     0.32232,     0.32332,     0.32432,     0.32533,     0.32633,     0.32733,     0.32833,     0.32933,     0.33033,     0.33133,     0.33233,     0.33333,     0.33433,     0.33534,\n",
       "           0.33634,     0.33734,     0.33834,     0.33934,     0.34034,     0.34134,     0.34234,     0.34334,     0.34434,     0.34535,     0.34635,     0.34735,     0.34835,     0.34935,     0.35035,     0.35135,     0.35235,     0.35335,     0.35435,     0.35536,     0.35636,     0.35736,     0.35836,     0.35936,\n",
       "           0.36036,     0.36136,     0.36236,     0.36336,     0.36436,     0.36537,     0.36637,     0.36737,     0.36837,     0.36937,     0.37037,     0.37137,     0.37237,     0.37337,     0.37437,     0.37538,     0.37638,     0.37738,     0.37838,     0.37938,     0.38038,     0.38138,     0.38238,     0.38338,\n",
       "           0.38438,     0.38539,     0.38639,     0.38739,     0.38839,     0.38939,     0.39039,     0.39139,     0.39239,     0.39339,     0.39439,      0.3954,      0.3964,      0.3974,      0.3984,      0.3994,      0.4004,      0.4014,      0.4024,      0.4034,      0.4044,     0.40541,     0.40641,     0.40741,\n",
       "           0.40841,     0.40941,     0.41041,     0.41141,     0.41241,     0.41341,     0.41441,     0.41542,     0.41642,     0.41742,     0.41842,     0.41942,     0.42042,     0.42142,     0.42242,     0.42342,     0.42442,     0.42543,     0.42643,     0.42743,     0.42843,     0.42943,     0.43043,     0.43143,\n",
       "           0.43243,     0.43343,     0.43443,     0.43544,     0.43644,     0.43744,     0.43844,     0.43944,     0.44044,     0.44144,     0.44244,     0.44344,     0.44444,     0.44545,     0.44645,     0.44745,     0.44845,     0.44945,     0.45045,     0.45145,     0.45245,     0.45345,     0.45445,     0.45546,\n",
       "           0.45646,     0.45746,     0.45846,     0.45946,     0.46046,     0.46146,     0.46246,     0.46346,     0.46446,     0.46547,     0.46647,     0.46747,     0.46847,     0.46947,     0.47047,     0.47147,     0.47247,     0.47347,     0.47447,     0.47548,     0.47648,     0.47748,     0.47848,     0.47948,\n",
       "           0.48048,     0.48148,     0.48248,     0.48348,     0.48448,     0.48549,     0.48649,     0.48749,     0.48849,     0.48949,     0.49049,     0.49149,     0.49249,     0.49349,     0.49449,      0.4955,      0.4965,      0.4975,      0.4985,      0.4995,      0.5005,      0.5015,      0.5025,      0.5035,\n",
       "            0.5045,     0.50551,     0.50651,     0.50751,     0.50851,     0.50951,     0.51051,     0.51151,     0.51251,     0.51351,     0.51451,     0.51552,     0.51652,     0.51752,     0.51852,     0.51952,     0.52052,     0.52152,     0.52252,     0.52352,     0.52452,     0.52553,     0.52653,     0.52753,\n",
       "           0.52853,     0.52953,     0.53053,     0.53153,     0.53253,     0.53353,     0.53453,     0.53554,     0.53654,     0.53754,     0.53854,     0.53954,     0.54054,     0.54154,     0.54254,     0.54354,     0.54454,     0.54555,     0.54655,     0.54755,     0.54855,     0.54955,     0.55055,     0.55155,\n",
       "           0.55255,     0.55355,     0.55455,     0.55556,     0.55656,     0.55756,     0.55856,     0.55956,     0.56056,     0.56156,     0.56256,     0.56356,     0.56456,     0.56557,     0.56657,     0.56757,     0.56857,     0.56957,     0.57057,     0.57157,     0.57257,     0.57357,     0.57457,     0.57558,\n",
       "           0.57658,     0.57758,     0.57858,     0.57958,     0.58058,     0.58158,     0.58258,     0.58358,     0.58458,     0.58559,     0.58659,     0.58759,     0.58859,     0.58959,     0.59059,     0.59159,     0.59259,     0.59359,     0.59459,      0.5956,      0.5966,      0.5976,      0.5986,      0.5996,\n",
       "            0.6006,      0.6016,      0.6026,      0.6036,      0.6046,     0.60561,     0.60661,     0.60761,     0.60861,     0.60961,     0.61061,     0.61161,     0.61261,     0.61361,     0.61461,     0.61562,     0.61662,     0.61762,     0.61862,     0.61962,     0.62062,     0.62162,     0.62262,     0.62362,\n",
       "           0.62462,     0.62563,     0.62663,     0.62763,     0.62863,     0.62963,     0.63063,     0.63163,     0.63263,     0.63363,     0.63463,     0.63564,     0.63664,     0.63764,     0.63864,     0.63964,     0.64064,     0.64164,     0.64264,     0.64364,     0.64464,     0.64565,     0.64665,     0.64765,\n",
       "           0.64865,     0.64965,     0.65065,     0.65165,     0.65265,     0.65365,     0.65465,     0.65566,     0.65666,     0.65766,     0.65866,     0.65966,     0.66066,     0.66166,     0.66266,     0.66366,     0.66466,     0.66567,     0.66667,     0.66767,     0.66867,     0.66967,     0.67067,     0.67167,\n",
       "           0.67267,     0.67367,     0.67467,     0.67568,     0.67668,     0.67768,     0.67868,     0.67968,     0.68068,     0.68168,     0.68268,     0.68368,     0.68468,     0.68569,     0.68669,     0.68769,     0.68869,     0.68969,     0.69069,     0.69169,     0.69269,     0.69369,     0.69469,      0.6957,\n",
       "            0.6967,      0.6977,      0.6987,      0.6997,      0.7007,      0.7017,      0.7027,      0.7037,      0.7047,     0.70571,     0.70671,     0.70771,     0.70871,     0.70971,     0.71071,     0.71171,     0.71271,     0.71371,     0.71471,     0.71572,     0.71672,     0.71772,     0.71872,     0.71972,\n",
       "           0.72072,     0.72172,     0.72272,     0.72372,     0.72472,     0.72573,     0.72673,     0.72773,     0.72873,     0.72973,     0.73073,     0.73173,     0.73273,     0.73373,     0.73473,     0.73574,     0.73674,     0.73774,     0.73874,     0.73974,     0.74074,     0.74174,     0.74274,     0.74374,\n",
       "           0.74474,     0.74575,     0.74675,     0.74775,     0.74875,     0.74975,     0.75075,     0.75175,     0.75275,     0.75375,     0.75475,     0.75576,     0.75676,     0.75776,     0.75876,     0.75976,     0.76076,     0.76176,     0.76276,     0.76376,     0.76476,     0.76577,     0.76677,     0.76777,\n",
       "           0.76877,     0.76977,     0.77077,     0.77177,     0.77277,     0.77377,     0.77477,     0.77578,     0.77678,     0.77778,     0.77878,     0.77978,     0.78078,     0.78178,     0.78278,     0.78378,     0.78478,     0.78579,     0.78679,     0.78779,     0.78879,     0.78979,     0.79079,     0.79179,\n",
       "           0.79279,     0.79379,     0.79479,      0.7958,      0.7968,      0.7978,      0.7988,      0.7998,      0.8008,      0.8018,      0.8028,      0.8038,      0.8048,     0.80581,     0.80681,     0.80781,     0.80881,     0.80981,     0.81081,     0.81181,     0.81281,     0.81381,     0.81481,     0.81582,\n",
       "           0.81682,     0.81782,     0.81882,     0.81982,     0.82082,     0.82182,     0.82282,     0.82382,     0.82482,     0.82583,     0.82683,     0.82783,     0.82883,     0.82983,     0.83083,     0.83183,     0.83283,     0.83383,     0.83483,     0.83584,     0.83684,     0.83784,     0.83884,     0.83984,\n",
       "           0.84084,     0.84184,     0.84284,     0.84384,     0.84484,     0.84585,     0.84685,     0.84785,     0.84885,     0.84985,     0.85085,     0.85185,     0.85285,     0.85385,     0.85485,     0.85586,     0.85686,     0.85786,     0.85886,     0.85986,     0.86086,     0.86186,     0.86286,     0.86386,\n",
       "           0.86486,     0.86587,     0.86687,     0.86787,     0.86887,     0.86987,     0.87087,     0.87187,     0.87287,     0.87387,     0.87487,     0.87588,     0.87688,     0.87788,     0.87888,     0.87988,     0.88088,     0.88188,     0.88288,     0.88388,     0.88488,     0.88589,     0.88689,     0.88789,\n",
       "           0.88889,     0.88989,     0.89089,     0.89189,     0.89289,     0.89389,     0.89489,      0.8959,      0.8969,      0.8979,      0.8989,      0.8999,      0.9009,      0.9019,      0.9029,      0.9039,      0.9049,     0.90591,     0.90691,     0.90791,     0.90891,     0.90991,     0.91091,     0.91191,\n",
       "           0.91291,     0.91391,     0.91491,     0.91592,     0.91692,     0.91792,     0.91892,     0.91992,     0.92092,     0.92192,     0.92292,     0.92392,     0.92492,     0.92593,     0.92693,     0.92793,     0.92893,     0.92993,     0.93093,     0.93193,     0.93293,     0.93393,     0.93493,     0.93594,\n",
       "           0.93694,     0.93794,     0.93894,     0.93994,     0.94094,     0.94194,     0.94294,     0.94394,     0.94494,     0.94595,     0.94695,     0.94795,     0.94895,     0.94995,     0.95095,     0.95195,     0.95295,     0.95395,     0.95495,     0.95596,     0.95696,     0.95796,     0.95896,     0.95996,\n",
       "           0.96096,     0.96196,     0.96296,     0.96396,     0.96496,     0.96597,     0.96697,     0.96797,     0.96897,     0.96997,     0.97097,     0.97197,     0.97297,     0.97397,     0.97497,     0.97598,     0.97698,     0.97798,     0.97898,     0.97998,     0.98098,     0.98198,     0.98298,     0.98398,\n",
       "           0.98498,     0.98599,     0.98699,     0.98799,     0.98899,     0.98999,     0.99099,     0.99199,     0.99299,     0.99399,     0.99499,       0.996,       0.997,       0.998,       0.999,           1]), array([[          1,           1,           1,           1,           1,           1,           1,           1,           1,           1,           1,           1,           1,           1,           1,           1,           1,           1,           1,           1,           1,           1,           1,\n",
       "                  1,           1,           1,           1,           1,           1,           1,           1,           1,           1,           1,     0.90909,     0.90909,     0.90909,     0.90909,     0.90909,     0.90909,     0.90909,     0.90909,     0.90909,     0.90909,     0.90909,     0.90909,\n",
       "            0.90909,     0.90909,     0.90909,     0.90909,     0.90909,     0.90909,     0.90909,     0.90909,     0.90909,     0.90909,     0.90909,     0.90909,     0.90909,     0.90909,     0.90909,     0.90909,     0.90909,     0.90909,     0.90909,     0.90909,     0.90909,     0.90909,     0.90909,\n",
       "            0.90909,     0.90909,     0.90909,     0.90909,     0.90909,     0.90909,     0.90909,     0.90909,     0.90909,     0.90909,     0.90909,     0.90909,     0.90909,     0.90909,     0.90909,     0.90909,     0.90909,     0.90909,     0.90909,     0.90909,     0.90909,     0.90909,     0.90909,\n",
       "            0.90909,     0.90909,     0.90909,     0.90909,     0.90909,     0.90909,     0.90909,     0.90909,     0.90909,     0.90909,     0.90909,     0.90909,     0.90909,     0.90909,     0.90909,     0.90909,     0.90909,     0.90909,     0.90909,     0.90909,     0.90909,     0.81818,     0.81818,\n",
       "            0.81818,     0.81818,     0.81818,     0.81818,     0.81818,     0.81818,     0.81818,     0.81818,     0.81818,     0.81818,     0.81818,     0.81818,     0.81818,     0.81818,     0.81818,     0.81818,     0.81818,     0.81818,     0.81818,     0.81818,     0.81818,     0.81818,     0.81818,\n",
       "            0.81818,     0.81818,     0.81818,     0.81818,     0.81818,     0.81818,     0.81818,     0.81818,     0.81818,     0.81818,     0.81818,     0.81818,     0.81818,     0.81818,     0.81818,     0.81818,     0.81818,     0.81818,     0.81818,     0.81818,     0.81818,     0.81818,     0.81818,\n",
       "            0.81818,     0.81818,     0.81818,     0.81818,     0.81818,     0.81818,     0.81818,     0.81818,     0.81818,     0.81818,     0.81818,     0.81818,     0.81818,     0.81818,     0.81818,     0.81818,     0.81818,     0.81818,     0.81818,     0.81818,     0.81818,     0.81818,     0.81818,\n",
       "            0.81818,     0.81818,     0.81818,     0.81818,     0.81818,     0.81818,     0.81818,     0.81818,     0.81818,     0.81818,     0.81818,     0.81818,     0.81818,     0.81818,     0.81818,     0.81818,     0.81818,     0.81818,     0.81818,      0.7037,      0.7037,      0.7037,      0.7037,\n",
       "             0.7037,      0.7037,      0.7037,      0.7037,      0.7037,      0.7037,      0.7037,     0.47619,     0.47619,     0.47619,     0.47619,     0.47619,     0.47619,     0.47619,     0.47619,     0.47619,     0.47619,     0.47619,     0.35593,     0.35593,     0.35593,     0.35593,     0.35593,\n",
       "            0.35593,     0.35593,     0.35593,     0.35593,     0.35593,     0.35593,        0.25,        0.25,        0.25,        0.25,        0.25,        0.25,        0.25,        0.25,        0.25,        0.25,        0.25,     0.24242,     0.24242,     0.24242,     0.24242,     0.24242,     0.24242,\n",
       "            0.24242,     0.24242,     0.24242,     0.24242,     0.24242,     0.24242,     0.24242,     0.24242,     0.24242,     0.24242,     0.24242,     0.24242,     0.24242,     0.24242,     0.24242,     0.24242,     0.24242,     0.21552,     0.21552,     0.21552,     0.21552,     0.21552,     0.21552,\n",
       "            0.21552,     0.21552,     0.21552,     0.21552,     0.21552,     0.21138,     0.21138,     0.21138,     0.21138,     0.21138,     0.21138,     0.21138,     0.21138,     0.21138,     0.21138,     0.21138,     0.19853,     0.19853,     0.19853,     0.19853,     0.19853,     0.19853,     0.19853,\n",
       "            0.19853,     0.19853,     0.19853,     0.19853,     0.19853,     0.19595,     0.19595,     0.19595,     0.19595,     0.19595,     0.19595,     0.19595,     0.19595,     0.19595,     0.19595,     0.19595,     0.19595,     0.19595,     0.19595,     0.19595,     0.19595,     0.19595,     0.19595,\n",
       "            0.19595,     0.19595,     0.19595,     0.19595,     0.19108,     0.19108,     0.19108,     0.19108,     0.19108,     0.19108,     0.19108,     0.19108,     0.19108,     0.19108,     0.19108,     0.16146,     0.16146,     0.16146,     0.16146,     0.16146,     0.16146,     0.16146,     0.16146,\n",
       "            0.16146,     0.16146,     0.16146,     0.16098,     0.16098,     0.16098,     0.16098,     0.16098,     0.16098,     0.16098,     0.16098,     0.16098,     0.16098,     0.16098,     0.16098,     0.16098,     0.16098,     0.16098,     0.16098,     0.16098,     0.16098,     0.16098,     0.16098,\n",
       "            0.16098,     0.16098,     0.16098,     0.14847,     0.14847,     0.14847,     0.14847,     0.14847,     0.14847,     0.14847,     0.14847,     0.14847,     0.14847,     0.14847,     0.14344,     0.14344,     0.14344,     0.14344,     0.14344,     0.14344,     0.14344,     0.14344,     0.14344,\n",
       "            0.14344,     0.14344,     0.13962,     0.13962,     0.13962,     0.13962,     0.13962,     0.13962,     0.13962,     0.13962,     0.13962,     0.13962,     0.13962,     0.13962,     0.13962,     0.13962,     0.13962,     0.13962,     0.13962,     0.13962,     0.13962,     0.13962,     0.13962,\n",
       "            0.13962,     0.13962,     0.13333,     0.13333,     0.13333,     0.13333,     0.13333,     0.13333,     0.13333,     0.13333,     0.13333,     0.13333,     0.13333,     0.13311,     0.13311,     0.13311,     0.13311,     0.13311,     0.13311,     0.13311,     0.13311,     0.13311,     0.13311,\n",
       "            0.13311,     0.12862,     0.12862,     0.12862,     0.12862,     0.12862,     0.12862,     0.12862,     0.12862,     0.12862,     0.12862,     0.12862,     0.12462,     0.12462,     0.12462,     0.12462,     0.12462,     0.12462,     0.12462,     0.12462,     0.12462,     0.12462,     0.12462,\n",
       "            0.12462,     0.11856,     0.11856,     0.11856,     0.11856,     0.11856,     0.11856,     0.11856,     0.11856,     0.11856,     0.11856,     0.11856,     0.11856,     0.11856,     0.11856,     0.11856,     0.11856,     0.11856,     0.11856,     0.11856,     0.11856,     0.11856,     0.11856,\n",
       "            0.11856,     0.11856,     0.11856,     0.11856,     0.11856,     0.11856,     0.11856,     0.11856,     0.11856,     0.11856,     0.11856,     0.11856,     0.11856,     0.11856,     0.11856,     0.11856,     0.11856,     0.11856,     0.11856,     0.11856,     0.11856,     0.11856,     0.11856,\n",
       "            0.11856,     0.11856,     0.11856,     0.11856,     0.11856,     0.11856,     0.11856,     0.11856,     0.11856,     0.11856,     0.11856,     0.10787,     0.10787,     0.10787,     0.10787,     0.10787,     0.10787,     0.10787,     0.10787,     0.10787,     0.10787,     0.10787,     0.10787,\n",
       "            0.10787,     0.10787,     0.10787,     0.10787,     0.10787,     0.10787,     0.10787,     0.10787,     0.10787,     0.10787,     0.10403,     0.10403,     0.10403,     0.10403,     0.10403,     0.10403,     0.10403,     0.10403,     0.10403,     0.10403,     0.10403,     0.10403,      0.0998,\n",
       "             0.0998,      0.0998,      0.0998,      0.0998,      0.0998,      0.0998,      0.0998,      0.0998,      0.0998,      0.0998,    0.099029,    0.099029,    0.099029,    0.099029,    0.099029,    0.099029,    0.099029,    0.099029,    0.099029,    0.099029,    0.099029,    0.086093,    0.086093,\n",
       "           0.086093,    0.086093,    0.086093,    0.086093,    0.086093,    0.086093,    0.086093,    0.086093,    0.086093,    0.081538,    0.081538,    0.081538,    0.081538,    0.081538,    0.081538,    0.081538,    0.081538,    0.081538,    0.081538,    0.081538,    0.080477,    0.080477,    0.080477,\n",
       "           0.080477,    0.080477,    0.080477,    0.080477,    0.080477,    0.080477,    0.080477,    0.080477,    0.080477,    0.079826,    0.079826,    0.079826,    0.079826,    0.079826,    0.079826,    0.079826,    0.079826,    0.079826,    0.079826,    0.079826,    0.077135,    0.077135,    0.077135,\n",
       "           0.077135,    0.077135,    0.077135,    0.077135,    0.077135,    0.077135,    0.077135,    0.077135,    0.069175,    0.069175,    0.069175,    0.069175,    0.069175,    0.069175,    0.069175,    0.069175,    0.069175,    0.069175,    0.069175,    0.065834,    0.065834,    0.065834,    0.065834,\n",
       "           0.065834,    0.065834,    0.065834,    0.065834,    0.065834,    0.065834,    0.065834,    0.065834,     0.06012,     0.06012,     0.06012,     0.06012,     0.06012,     0.06012,     0.06012,     0.06012,     0.06012,     0.06012,     0.06012,     0.06012,     0.06012,     0.06012,     0.06012,\n",
       "            0.06012,     0.06012,     0.06012,     0.06012,     0.06012,     0.06012,     0.06012,    0.054126,    0.054126,    0.054126,    0.054126,    0.054126,    0.054126,    0.054126,    0.054126,    0.054126,    0.054126,    0.054126,    0.052233,    0.052233,    0.052233,    0.052233,    0.052233,\n",
       "           0.052233,    0.052233,    0.052233,    0.052233,    0.052233,    0.052233,    0.047691,    0.047691,    0.047691,    0.047691,    0.047691,    0.047691,    0.047691,    0.047691,    0.047691,    0.047691,    0.047691,    0.047691,    0.046043,    0.046043,    0.046043,    0.046043,    0.046043,\n",
       "           0.046043,    0.046043,    0.046043,    0.046043,    0.046043,    0.046043,    0.040398,    0.040398,    0.040398,    0.040398,    0.040398,    0.040398,    0.040398,    0.040398,    0.040398,    0.040398,    0.040398,    0.039687,    0.039687,    0.039687,    0.039687,    0.039687,    0.039687,\n",
       "           0.039687,    0.039687,    0.039687,    0.039687,    0.039687,    0.036612,    0.036612,    0.036612,    0.036612,    0.036612,    0.036612,    0.036612,    0.036612,    0.036612,    0.036612,    0.036612,    0.036612,    0.036267,    0.036267,    0.036267,    0.036267,    0.036267,    0.036267,\n",
       "           0.036267,    0.036267,    0.036267,    0.036267,    0.036267,    0.033626,    0.033626,    0.033626,    0.033626,    0.033626,    0.033626,    0.033626,    0.033626,    0.033626,    0.033626,    0.033626,    0.032081,    0.032081,    0.032081,    0.032081,    0.032081,    0.032081,    0.032081,\n",
       "           0.032081,    0.032081,    0.032081,    0.032081,    0.029278,    0.029278,    0.029278,    0.029278,    0.029278,    0.029278,    0.029278,    0.029278,    0.029278,    0.029278,    0.029278,    0.025687,    0.025687,    0.025687,    0.025687,    0.025687,    0.025687,    0.025687,    0.025687,\n",
       "           0.025687,    0.025687,    0.025687,    0.025687,    0.020627,    0.020627,    0.020627,    0.020627,    0.020627,    0.020627,    0.020627,    0.020627,    0.020627,    0.020627,    0.020627,    0.019733,    0.019733,    0.019733,    0.019733,    0.019733,    0.019733,    0.019733,    0.019733,\n",
       "           0.019733,    0.019733,    0.019733,    0.018835,    0.018835,    0.018835,    0.018835,    0.018835,    0.018835,    0.018835,    0.018835,    0.018835,    0.018835,    0.018835,    0.015804,    0.015804,    0.015804,    0.015804,    0.015804,    0.015804,    0.015804,    0.015804,    0.015804,\n",
       "           0.015804,    0.015804,    0.015804,     0.01573,     0.01573,     0.01573,     0.01573,     0.01573,     0.01573,     0.01573,     0.01573,     0.01573,     0.01573,     0.01573,    0.014016,    0.014016,    0.014016,    0.014016,    0.014016,    0.014016,    0.014016,    0.014016,    0.014016,\n",
       "           0.014016,    0.014016,    0.013284,    0.013284,    0.013284,    0.013284,    0.013284,    0.013284,    0.013284,    0.013284,    0.013284,    0.013284,    0.013284,    0.012564,    0.012564,    0.012564,    0.012564,    0.012564,    0.012564,    0.012564,    0.012564,    0.012564,    0.012564,\n",
       "           0.012564,    0.012564,    0.012564,    0.012564,    0.012564,    0.012564,    0.012564,    0.012564,    0.012564,    0.012564,    0.012564,    0.012564,    0.012564,    0.011077,    0.011077,    0.011077,    0.011077,    0.011077,    0.011077,    0.011077,    0.011077,    0.011077,    0.011077,\n",
       "           0.011077,   0.0078228,   0.0078228,   0.0078228,   0.0078228,   0.0078228,   0.0078228,   0.0078228,   0.0078228,   0.0078228,   0.0078228,   0.0078228,   0.0074248,   0.0073139,   0.0072031,   0.0070923,   0.0069815,   0.0068707,   0.0067599,    0.006649,   0.0065382,   0.0064274,   0.0063166,\n",
       "          0.0062058,    0.006095,   0.0059841,   0.0058733,   0.0057625,   0.0056517,   0.0055409,     0.00543,   0.0053192,   0.0052084,   0.0050976,   0.0049868,    0.004876,   0.0047651,   0.0046543,   0.0045435,   0.0044327,   0.0043219,   0.0042111,   0.0041002,   0.0039894,   0.0038786,   0.0037678,\n",
       "           0.003657,   0.0035462,   0.0034353,   0.0033245,   0.0032137,   0.0031029,   0.0029921,   0.0028812,   0.0027704,   0.0026596,   0.0025488,    0.002438,   0.0023272,   0.0022163,   0.0021055,   0.0019947,   0.0018839,   0.0017731,   0.0016623,   0.0015514,   0.0014406,   0.0013298,    0.001219,\n",
       "          0.0011082,  0.00099736,  0.00088654,  0.00077572,   0.0006649,  0.00055409,  0.00044327,  0.00033245,  0.00022163,  0.00011082,           0]]), 'Recall', 'Precision'], [array([          0,    0.001001,    0.002002,    0.003003,    0.004004,    0.005005,    0.006006,    0.007007,    0.008008,    0.009009,     0.01001,    0.011011,    0.012012,    0.013013,    0.014014,    0.015015,    0.016016,    0.017017,    0.018018,    0.019019,     0.02002,    0.021021,    0.022022,    0.023023,\n",
       "          0.024024,    0.025025,    0.026026,    0.027027,    0.028028,    0.029029,     0.03003,    0.031031,    0.032032,    0.033033,    0.034034,    0.035035,    0.036036,    0.037037,    0.038038,    0.039039,     0.04004,    0.041041,    0.042042,    0.043043,    0.044044,    0.045045,    0.046046,    0.047047,\n",
       "          0.048048,    0.049049,     0.05005,    0.051051,    0.052052,    0.053053,    0.054054,    0.055055,    0.056056,    0.057057,    0.058058,    0.059059,     0.06006,    0.061061,    0.062062,    0.063063,    0.064064,    0.065065,    0.066066,    0.067067,    0.068068,    0.069069,     0.07007,    0.071071,\n",
       "          0.072072,    0.073073,    0.074074,    0.075075,    0.076076,    0.077077,    0.078078,    0.079079,     0.08008,    0.081081,    0.082082,    0.083083,    0.084084,    0.085085,    0.086086,    0.087087,    0.088088,    0.089089,     0.09009,    0.091091,    0.092092,    0.093093,    0.094094,    0.095095,\n",
       "          0.096096,    0.097097,    0.098098,    0.099099,      0.1001,      0.1011,      0.1021,      0.1031,      0.1041,     0.10511,     0.10611,     0.10711,     0.10811,     0.10911,     0.11011,     0.11111,     0.11211,     0.11311,     0.11411,     0.11512,     0.11612,     0.11712,     0.11812,     0.11912,\n",
       "           0.12012,     0.12112,     0.12212,     0.12312,     0.12412,     0.12513,     0.12613,     0.12713,     0.12813,     0.12913,     0.13013,     0.13113,     0.13213,     0.13313,     0.13413,     0.13514,     0.13614,     0.13714,     0.13814,     0.13914,     0.14014,     0.14114,     0.14214,     0.14314,\n",
       "           0.14414,     0.14515,     0.14615,     0.14715,     0.14815,     0.14915,     0.15015,     0.15115,     0.15215,     0.15315,     0.15415,     0.15516,     0.15616,     0.15716,     0.15816,     0.15916,     0.16016,     0.16116,     0.16216,     0.16316,     0.16416,     0.16517,     0.16617,     0.16717,\n",
       "           0.16817,     0.16917,     0.17017,     0.17117,     0.17217,     0.17317,     0.17417,     0.17518,     0.17618,     0.17718,     0.17818,     0.17918,     0.18018,     0.18118,     0.18218,     0.18318,     0.18418,     0.18519,     0.18619,     0.18719,     0.18819,     0.18919,     0.19019,     0.19119,\n",
       "           0.19219,     0.19319,     0.19419,      0.1952,      0.1962,      0.1972,      0.1982,      0.1992,      0.2002,      0.2012,      0.2022,      0.2032,      0.2042,     0.20521,     0.20621,     0.20721,     0.20821,     0.20921,     0.21021,     0.21121,     0.21221,     0.21321,     0.21421,     0.21522,\n",
       "           0.21622,     0.21722,     0.21822,     0.21922,     0.22022,     0.22122,     0.22222,     0.22322,     0.22422,     0.22523,     0.22623,     0.22723,     0.22823,     0.22923,     0.23023,     0.23123,     0.23223,     0.23323,     0.23423,     0.23524,     0.23624,     0.23724,     0.23824,     0.23924,\n",
       "           0.24024,     0.24124,     0.24224,     0.24324,     0.24424,     0.24525,     0.24625,     0.24725,     0.24825,     0.24925,     0.25025,     0.25125,     0.25225,     0.25325,     0.25425,     0.25526,     0.25626,     0.25726,     0.25826,     0.25926,     0.26026,     0.26126,     0.26226,     0.26326,\n",
       "           0.26426,     0.26527,     0.26627,     0.26727,     0.26827,     0.26927,     0.27027,     0.27127,     0.27227,     0.27327,     0.27427,     0.27528,     0.27628,     0.27728,     0.27828,     0.27928,     0.28028,     0.28128,     0.28228,     0.28328,     0.28428,     0.28529,     0.28629,     0.28729,\n",
       "           0.28829,     0.28929,     0.29029,     0.29129,     0.29229,     0.29329,     0.29429,      0.2953,      0.2963,      0.2973,      0.2983,      0.2993,      0.3003,      0.3013,      0.3023,      0.3033,      0.3043,     0.30531,     0.30631,     0.30731,     0.30831,     0.30931,     0.31031,     0.31131,\n",
       "           0.31231,     0.31331,     0.31431,     0.31532,     0.31632,     0.31732,     0.31832,     0.31932,     0.32032,     0.32132,     0.32232,     0.32332,     0.32432,     0.32533,     0.32633,     0.32733,     0.32833,     0.32933,     0.33033,     0.33133,     0.33233,     0.33333,     0.33433,     0.33534,\n",
       "           0.33634,     0.33734,     0.33834,     0.33934,     0.34034,     0.34134,     0.34234,     0.34334,     0.34434,     0.34535,     0.34635,     0.34735,     0.34835,     0.34935,     0.35035,     0.35135,     0.35235,     0.35335,     0.35435,     0.35536,     0.35636,     0.35736,     0.35836,     0.35936,\n",
       "           0.36036,     0.36136,     0.36236,     0.36336,     0.36436,     0.36537,     0.36637,     0.36737,     0.36837,     0.36937,     0.37037,     0.37137,     0.37237,     0.37337,     0.37437,     0.37538,     0.37638,     0.37738,     0.37838,     0.37938,     0.38038,     0.38138,     0.38238,     0.38338,\n",
       "           0.38438,     0.38539,     0.38639,     0.38739,     0.38839,     0.38939,     0.39039,     0.39139,     0.39239,     0.39339,     0.39439,      0.3954,      0.3964,      0.3974,      0.3984,      0.3994,      0.4004,      0.4014,      0.4024,      0.4034,      0.4044,     0.40541,     0.40641,     0.40741,\n",
       "           0.40841,     0.40941,     0.41041,     0.41141,     0.41241,     0.41341,     0.41441,     0.41542,     0.41642,     0.41742,     0.41842,     0.41942,     0.42042,     0.42142,     0.42242,     0.42342,     0.42442,     0.42543,     0.42643,     0.42743,     0.42843,     0.42943,     0.43043,     0.43143,\n",
       "           0.43243,     0.43343,     0.43443,     0.43544,     0.43644,     0.43744,     0.43844,     0.43944,     0.44044,     0.44144,     0.44244,     0.44344,     0.44444,     0.44545,     0.44645,     0.44745,     0.44845,     0.44945,     0.45045,     0.45145,     0.45245,     0.45345,     0.45445,     0.45546,\n",
       "           0.45646,     0.45746,     0.45846,     0.45946,     0.46046,     0.46146,     0.46246,     0.46346,     0.46446,     0.46547,     0.46647,     0.46747,     0.46847,     0.46947,     0.47047,     0.47147,     0.47247,     0.47347,     0.47447,     0.47548,     0.47648,     0.47748,     0.47848,     0.47948,\n",
       "           0.48048,     0.48148,     0.48248,     0.48348,     0.48448,     0.48549,     0.48649,     0.48749,     0.48849,     0.48949,     0.49049,     0.49149,     0.49249,     0.49349,     0.49449,      0.4955,      0.4965,      0.4975,      0.4985,      0.4995,      0.5005,      0.5015,      0.5025,      0.5035,\n",
       "            0.5045,     0.50551,     0.50651,     0.50751,     0.50851,     0.50951,     0.51051,     0.51151,     0.51251,     0.51351,     0.51451,     0.51552,     0.51652,     0.51752,     0.51852,     0.51952,     0.52052,     0.52152,     0.52252,     0.52352,     0.52452,     0.52553,     0.52653,     0.52753,\n",
       "           0.52853,     0.52953,     0.53053,     0.53153,     0.53253,     0.53353,     0.53453,     0.53554,     0.53654,     0.53754,     0.53854,     0.53954,     0.54054,     0.54154,     0.54254,     0.54354,     0.54454,     0.54555,     0.54655,     0.54755,     0.54855,     0.54955,     0.55055,     0.55155,\n",
       "           0.55255,     0.55355,     0.55455,     0.55556,     0.55656,     0.55756,     0.55856,     0.55956,     0.56056,     0.56156,     0.56256,     0.56356,     0.56456,     0.56557,     0.56657,     0.56757,     0.56857,     0.56957,     0.57057,     0.57157,     0.57257,     0.57357,     0.57457,     0.57558,\n",
       "           0.57658,     0.57758,     0.57858,     0.57958,     0.58058,     0.58158,     0.58258,     0.58358,     0.58458,     0.58559,     0.58659,     0.58759,     0.58859,     0.58959,     0.59059,     0.59159,     0.59259,     0.59359,     0.59459,      0.5956,      0.5966,      0.5976,      0.5986,      0.5996,\n",
       "            0.6006,      0.6016,      0.6026,      0.6036,      0.6046,     0.60561,     0.60661,     0.60761,     0.60861,     0.60961,     0.61061,     0.61161,     0.61261,     0.61361,     0.61461,     0.61562,     0.61662,     0.61762,     0.61862,     0.61962,     0.62062,     0.62162,     0.62262,     0.62362,\n",
       "           0.62462,     0.62563,     0.62663,     0.62763,     0.62863,     0.62963,     0.63063,     0.63163,     0.63263,     0.63363,     0.63463,     0.63564,     0.63664,     0.63764,     0.63864,     0.63964,     0.64064,     0.64164,     0.64264,     0.64364,     0.64464,     0.64565,     0.64665,     0.64765,\n",
       "           0.64865,     0.64965,     0.65065,     0.65165,     0.65265,     0.65365,     0.65465,     0.65566,     0.65666,     0.65766,     0.65866,     0.65966,     0.66066,     0.66166,     0.66266,     0.66366,     0.66466,     0.66567,     0.66667,     0.66767,     0.66867,     0.66967,     0.67067,     0.67167,\n",
       "           0.67267,     0.67367,     0.67467,     0.67568,     0.67668,     0.67768,     0.67868,     0.67968,     0.68068,     0.68168,     0.68268,     0.68368,     0.68468,     0.68569,     0.68669,     0.68769,     0.68869,     0.68969,     0.69069,     0.69169,     0.69269,     0.69369,     0.69469,      0.6957,\n",
       "            0.6967,      0.6977,      0.6987,      0.6997,      0.7007,      0.7017,      0.7027,      0.7037,      0.7047,     0.70571,     0.70671,     0.70771,     0.70871,     0.70971,     0.71071,     0.71171,     0.71271,     0.71371,     0.71471,     0.71572,     0.71672,     0.71772,     0.71872,     0.71972,\n",
       "           0.72072,     0.72172,     0.72272,     0.72372,     0.72472,     0.72573,     0.72673,     0.72773,     0.72873,     0.72973,     0.73073,     0.73173,     0.73273,     0.73373,     0.73473,     0.73574,     0.73674,     0.73774,     0.73874,     0.73974,     0.74074,     0.74174,     0.74274,     0.74374,\n",
       "           0.74474,     0.74575,     0.74675,     0.74775,     0.74875,     0.74975,     0.75075,     0.75175,     0.75275,     0.75375,     0.75475,     0.75576,     0.75676,     0.75776,     0.75876,     0.75976,     0.76076,     0.76176,     0.76276,     0.76376,     0.76476,     0.76577,     0.76677,     0.76777,\n",
       "           0.76877,     0.76977,     0.77077,     0.77177,     0.77277,     0.77377,     0.77477,     0.77578,     0.77678,     0.77778,     0.77878,     0.77978,     0.78078,     0.78178,     0.78278,     0.78378,     0.78478,     0.78579,     0.78679,     0.78779,     0.78879,     0.78979,     0.79079,     0.79179,\n",
       "           0.79279,     0.79379,     0.79479,      0.7958,      0.7968,      0.7978,      0.7988,      0.7998,      0.8008,      0.8018,      0.8028,      0.8038,      0.8048,     0.80581,     0.80681,     0.80781,     0.80881,     0.80981,     0.81081,     0.81181,     0.81281,     0.81381,     0.81481,     0.81582,\n",
       "           0.81682,     0.81782,     0.81882,     0.81982,     0.82082,     0.82182,     0.82282,     0.82382,     0.82482,     0.82583,     0.82683,     0.82783,     0.82883,     0.82983,     0.83083,     0.83183,     0.83283,     0.83383,     0.83483,     0.83584,     0.83684,     0.83784,     0.83884,     0.83984,\n",
       "           0.84084,     0.84184,     0.84284,     0.84384,     0.84484,     0.84585,     0.84685,     0.84785,     0.84885,     0.84985,     0.85085,     0.85185,     0.85285,     0.85385,     0.85485,     0.85586,     0.85686,     0.85786,     0.85886,     0.85986,     0.86086,     0.86186,     0.86286,     0.86386,\n",
       "           0.86486,     0.86587,     0.86687,     0.86787,     0.86887,     0.86987,     0.87087,     0.87187,     0.87287,     0.87387,     0.87487,     0.87588,     0.87688,     0.87788,     0.87888,     0.87988,     0.88088,     0.88188,     0.88288,     0.88388,     0.88488,     0.88589,     0.88689,     0.88789,\n",
       "           0.88889,     0.88989,     0.89089,     0.89189,     0.89289,     0.89389,     0.89489,      0.8959,      0.8969,      0.8979,      0.8989,      0.8999,      0.9009,      0.9019,      0.9029,      0.9039,      0.9049,     0.90591,     0.90691,     0.90791,     0.90891,     0.90991,     0.91091,     0.91191,\n",
       "           0.91291,     0.91391,     0.91491,     0.91592,     0.91692,     0.91792,     0.91892,     0.91992,     0.92092,     0.92192,     0.92292,     0.92392,     0.92492,     0.92593,     0.92693,     0.92793,     0.92893,     0.92993,     0.93093,     0.93193,     0.93293,     0.93393,     0.93493,     0.93594,\n",
       "           0.93694,     0.93794,     0.93894,     0.93994,     0.94094,     0.94194,     0.94294,     0.94394,     0.94494,     0.94595,     0.94695,     0.94795,     0.94895,     0.94995,     0.95095,     0.95195,     0.95295,     0.95395,     0.95495,     0.95596,     0.95696,     0.95796,     0.95896,     0.95996,\n",
       "           0.96096,     0.96196,     0.96296,     0.96396,     0.96496,     0.96597,     0.96697,     0.96797,     0.96897,     0.96997,     0.97097,     0.97197,     0.97297,     0.97397,     0.97497,     0.97598,     0.97698,     0.97798,     0.97898,     0.97998,     0.98098,     0.98198,     0.98298,     0.98398,\n",
       "           0.98498,     0.98599,     0.98699,     0.98799,     0.98899,     0.98999,     0.99099,     0.99199,     0.99299,     0.99399,     0.99499,       0.996,       0.997,       0.998,       0.999,           1]), array([[   0.014808,    0.014808,    0.026137,    0.035824,    0.045211,    0.056175,    0.064641,    0.072007,     0.08133,    0.089771,    0.099338,     0.10949,     0.12064,     0.13143,     0.13979,     0.14689,     0.15336,     0.16472,      0.1675,     0.17459,     0.18018,       0.191,     0.18849,\n",
       "            0.18979,     0.19476,     0.19832,     0.20292,     0.20746,      0.2082,     0.20979,     0.21379,     0.21469,     0.22283,     0.21573,     0.22053,     0.21755,     0.22116,     0.22626,     0.22831,     0.23074,      0.2365,     0.23834,     0.23902,     0.24338,     0.24188,     0.24011,\n",
       "            0.23431,     0.23676,     0.23275,     0.23664,     0.23936,     0.24146,     0.24256,     0.23724,     0.24114,     0.23699,     0.24045,     0.24379,     0.24443,     0.24671,     0.25061,     0.25411,      0.2426,     0.23733,      0.2423,     0.24483,     0.24086,     0.24382,      0.2465,\n",
       "            0.25005,     0.25122,     0.25468,        0.26,     0.26218,     0.26514,       0.267,     0.26831,     0.26959,     0.27187,     0.27345,     0.27483,     0.27585,     0.27717,     0.28118,     0.28243,     0.28314,     0.27265,     0.27491,     0.27598,     0.27659,     0.27719,     0.27786,\n",
       "            0.28403,     0.28855,     0.28958,     0.29202,     0.29273,     0.29343,     0.29631,     0.29739,     0.29845,       0.299,     0.29952,     0.30004,     0.30055,     0.30097,     0.30134,      0.3017,     0.30206,     0.30242,     0.30277,     0.30326,     0.30411,     0.30495,     0.30434,\n",
       "            0.30243,     0.30053,     0.29862,     0.29671,      0.2948,     0.29289,     0.29308,     0.29417,     0.29693,     0.29719,     0.29744,      0.2977,     0.29796,     0.29821,     0.29847,     0.29872,     0.29897,     0.29926,     0.30015,     0.30104,     0.30178,     0.30231,     0.30283,\n",
       "            0.30335,     0.30386,      0.3042,     0.30447,     0.30474,     0.30501,     0.30528,     0.30555,     0.30581,     0.30608,     0.30634,     0.30678,     0.30734,     0.30789,     0.30844,     0.30898,     0.30944,     0.30989,     0.31035,     0.31079,     0.31124,     0.31167,     0.31208,\n",
       "            0.31249,      0.3129,      0.3133,      0.3137,     0.31682,     0.31805,     0.31925,     0.32238,     0.32274,      0.3231,     0.32346,     0.32382,     0.32417,     0.32452,     0.32494,     0.32556,     0.32616,     0.32677,     0.32736,     0.32693,     0.32586,     0.32479,     0.32372,\n",
       "            0.32265,     0.32157,      0.3205,     0.31943,     0.31835,     0.31727,      0.3162,     0.31512,     0.31404,      0.3131,     0.31375,      0.3144,     0.31504,     0.31567,     0.31594,     0.31612,     0.31629,     0.31647,     0.31665,     0.31683,       0.317,     0.31718,     0.31735,\n",
       "            0.31753,      0.3177,     0.31787,     0.31804,     0.31822,     0.31839,     0.31856,     0.31932,     0.32019,     0.32104,     0.32149,     0.32159,      0.3217,      0.3218,     0.32191,     0.32201,     0.32211,     0.32222,     0.32232,     0.32242,     0.32253,     0.32263,     0.32273,\n",
       "            0.32283,     0.32294,     0.32304,     0.32314,     0.32324,     0.32334,     0.32344,     0.32354,     0.32364,     0.32374,     0.32384,     0.32394,     0.32404,     0.32414,     0.32424,       0.323,      0.3126,      0.3086,     0.30785,     0.30711,     0.30636,     0.30562,     0.30487,\n",
       "            0.30413,     0.30338,     0.30263,     0.30189,     0.30114,     0.30039,     0.29964,     0.29889,     0.29814,     0.29739,     0.29664,     0.29589,     0.29513,     0.29438,     0.29363,      0.2934,      0.2932,       0.293,     0.29281,     0.29261,     0.29242,     0.29222,     0.29203,\n",
       "            0.29183,     0.29163,     0.29144,     0.29124,     0.29105,     0.29085,     0.29065,     0.29046,     0.29026,     0.29007,     0.28987,     0.28967,     0.28948,     0.28928,     0.28908,     0.28889,     0.28869,      0.2885,      0.2883,      0.2881,     0.28791,     0.28771,     0.28751,\n",
       "            0.28732,     0.28712,     0.28692,     0.28673,     0.28653,     0.28633,     0.28614,     0.28594,     0.28574,     0.28555,     0.28535,     0.28515,     0.28495,     0.28476,     0.28456,     0.28436,     0.28417,     0.28397,     0.28377,     0.28357,     0.28338,     0.28318,     0.28298,\n",
       "            0.28279,     0.28259,     0.28239,     0.28219,       0.282,      0.2818,      0.2816,      0.2814,      0.2812,     0.28101,     0.28081,     0.28061,     0.28041,     0.28022,     0.28002,     0.27982,     0.27962,     0.27942,     0.27923,     0.27903,     0.27883,     0.27863,     0.27843,\n",
       "            0.27824,     0.27804,     0.27784,     0.27731,     0.27662,     0.27594,     0.27525,     0.27457,     0.27389,      0.2732,     0.27252,     0.27183,     0.27114,     0.27046,     0.26977,     0.26908,     0.26839,      0.2677,     0.26702,     0.26633,     0.26564,     0.26495,     0.26426,\n",
       "            0.26357,     0.26287,     0.26218,     0.26162,      0.2614,     0.26118,     0.26095,     0.26073,     0.26051,     0.26029,     0.26007,     0.25984,     0.25962,      0.2594,     0.25918,     0.25896,     0.25873,     0.25851,     0.25829,     0.25807,     0.25784,     0.25762,      0.2574,\n",
       "            0.25718,     0.25695,     0.25673,     0.25651,     0.25628,     0.25606,     0.25584,     0.25562,     0.25539,     0.25517,     0.25495,     0.25472,      0.2545,     0.25428,     0.25405,     0.25383,     0.25361,     0.25338,     0.25316,     0.25294,     0.25271,     0.25249,     0.25227,\n",
       "            0.25204,     0.25182,     0.25159,     0.25137,     0.25115,     0.25092,      0.2507,     0.25048,     0.25025,     0.25003,      0.2498,     0.24958,     0.24936,     0.24913,     0.24891,     0.24868,     0.24846,     0.24823,     0.24801,     0.24779,     0.24756,     0.24734,     0.24711,\n",
       "            0.24689,     0.24666,     0.24644,     0.24621,     0.24599,     0.24576,     0.24554,     0.24531,     0.24499,     0.24466,     0.24432,     0.24399,     0.24365,     0.24332,     0.24298,     0.24264,     0.24231,     0.24197,     0.24164,      0.2413,     0.24096,     0.24063,     0.24029,\n",
       "            0.23995,     0.23962,     0.23928,     0.23894,     0.23861,     0.23827,     0.23793,     0.23759,     0.23726,     0.23692,     0.23658,     0.23624,     0.23591,     0.23557,     0.23523,     0.23489,     0.23455,     0.23422,     0.23388,     0.23354,      0.2332,     0.23286,     0.23252,\n",
       "            0.23218,     0.23185,     0.23151,     0.23117,     0.23083,     0.23049,     0.23015,     0.22981,     0.22947,     0.22913,     0.22879,     0.22861,     0.22872,     0.22884,     0.22895,     0.22906,     0.22917,     0.22928,     0.22939,      0.2295,      0.2296,     0.22971,     0.22982,\n",
       "            0.22993,     0.23003,     0.23014,     0.23024,     0.23034,     0.23045,     0.23055,     0.23065,     0.23076,     0.22888,     0.22668,     0.22449,     0.22229,     0.22009,     0.21788,     0.21567,     0.21354,     0.21277,     0.21199,     0.21122,     0.21044,     0.20966,     0.20889,\n",
       "            0.20811,     0.20733,     0.20655,     0.20577,     0.20499,     0.20421,     0.20343,     0.20265,     0.20186,     0.20108,      0.2003,     0.19952,     0.19873,     0.19795,     0.19716,     0.19637,      0.1963,     0.19664,     0.19698,     0.19731,     0.19763,     0.19795,     0.19812,\n",
       "            0.19825,     0.19838,     0.19851,     0.19864,     0.19877,     0.19889,     0.19901,     0.19914,     0.19926,     0.19938,      0.1995,     0.19962,     0.19973,     0.19985,     0.19996,     0.19947,     0.19868,      0.1979,     0.19711,     0.19632,     0.19553,     0.19474,     0.19395,\n",
       "            0.19316,     0.19237,     0.19158,     0.19078,     0.18999,      0.1892,      0.1884,     0.18761,     0.18681,     0.18601,     0.18522,     0.18442,     0.18362,     0.18282,     0.18202,     0.18034,     0.17835,     0.17636,     0.17436,     0.17236,     0.17035,     0.16835,     0.16634,\n",
       "            0.16432,     0.16301,     0.16248,     0.16194,     0.16141,     0.16087,     0.16033,      0.1598,     0.15926,     0.15873,     0.15819,     0.15765,     0.15711,     0.15658,     0.15604,      0.1555,     0.15496,     0.15442,     0.15388,     0.15335,     0.15281,     0.15227,     0.15173,\n",
       "            0.15119,     0.15064,      0.1501,     0.14956,     0.14902,     0.14848,     0.14794,      0.1474,     0.14685,     0.14631,     0.14577,     0.14522,     0.14468,     0.14417,     0.14374,      0.1433,     0.14286,     0.14243,     0.14199,     0.14155,     0.14111,     0.14068,     0.14024,\n",
       "             0.1398,     0.13936,     0.13892,     0.13848,     0.13805,     0.13761,     0.13717,     0.13673,     0.13629,     0.13585,     0.13541,     0.13497,     0.13453,     0.13409,     0.13365,     0.13321,     0.13277,     0.13232,     0.13188,     0.13144,       0.131,     0.13056,     0.13012,\n",
       "            0.12967,     0.12923,     0.12879,     0.12835,      0.1279,     0.12746,     0.12702,     0.12657,     0.12613,     0.12569,     0.12524,      0.1248,     0.12436,     0.12392,     0.12348,     0.12303,     0.12259,     0.12215,     0.12171,     0.12127,     0.12082,     0.12038,     0.11994,\n",
       "             0.1195,     0.11905,     0.11861,     0.11817,     0.11772,     0.11728,     0.11684,     0.11639,     0.11595,      0.1155,     0.11506,     0.11461,     0.11417,     0.11372,     0.11328,     0.11283,     0.11239,     0.11194,      0.1115,     0.11105,      0.1106,     0.11016,     0.10971,\n",
       "            0.10926,     0.10882,     0.10837,     0.10792,     0.10747,     0.10703,     0.10658,     0.10613,     0.10568,     0.10524,     0.10489,     0.10453,     0.10418,     0.10383,     0.10347,     0.10312,     0.10276,     0.10241,     0.10206,      0.1017,     0.10135,     0.10099,     0.10064,\n",
       "            0.10028,    0.099929,    0.099574,     0.09922,    0.098864,    0.098509,    0.098154,    0.097799,    0.097443,    0.097088,    0.096732,    0.096376,     0.09602,    0.095664,    0.095308,    0.094952,    0.094596,    0.094239,    0.093883,    0.093526,    0.093169,    0.092812,    0.092455,\n",
       "           0.092098,    0.091741,    0.091384,    0.091026,    0.090669,    0.090311,    0.089953,    0.089596,    0.089238,     0.08888,    0.088521,    0.088163,    0.087805,    0.087446,    0.087087,    0.086729,     0.08637,    0.086011,    0.085652,    0.085292,    0.084929,    0.084562,    0.084194,\n",
       "           0.083827,    0.083459,    0.083091,    0.082723,    0.082355,    0.081987,    0.081619,     0.08125,    0.080882,    0.080513,    0.080145,    0.079776,    0.079407,    0.079038,    0.078669,      0.0783,    0.077931,    0.077561,    0.077192,    0.076822,    0.076452,    0.076083,    0.075713,\n",
       "           0.075343,    0.074973,    0.074602,    0.074232,    0.073861,    0.073491,     0.07312,    0.072749,    0.072379,    0.072008,    0.071636,    0.071265,    0.070894,    0.070522,    0.070151,    0.069779,    0.069407,    0.069035,    0.068663,    0.068291,    0.067919,    0.067547,    0.067174,\n",
       "           0.066801,    0.066429,    0.066056,    0.065683,     0.06531,    0.064937,    0.064563,    0.064531,    0.064548,    0.064565,    0.064582,    0.064599,    0.064615,    0.064631,    0.064647,    0.064663,    0.064678,    0.064694,    0.064709,    0.064724,    0.064739,    0.064754,    0.064768,\n",
       "           0.064783,    0.064797,    0.064811,    0.064825,    0.064839,    0.064853,    0.064866,    0.064879,    0.064893,    0.064906,    0.064919,    0.064932,    0.064944,    0.064957,    0.064969,    0.064982,    0.064994,    0.065006,    0.065018,     0.06503,    0.065041,    0.065053,    0.065065,\n",
       "           0.065076,    0.065087,    0.065098,    0.065109,     0.06512,    0.065131,    0.065142,    0.065153,    0.065163,    0.065174,    0.065184,    0.065194,    0.065204,    0.065214,    0.064812,    0.064237,    0.063661,    0.063085,    0.062509,    0.061933,    0.061356,    0.060778,    0.060201,\n",
       "           0.059623,    0.059044,    0.058466,    0.057887,    0.057307,    0.056728,    0.056147,    0.055567,    0.054986,    0.054405,    0.053824,    0.053242,     0.05266,    0.052077,    0.051494,    0.050911,    0.050328,    0.049744,    0.049159,    0.048575,     0.04799,    0.047405,    0.046819,\n",
       "           0.046233,    0.045647,     0.04506,    0.044473,    0.043908,    0.043507,    0.043106,    0.042705,    0.042304,    0.041903,    0.041501,      0.0411,    0.040698,    0.040296,    0.039894,    0.039491,    0.039089,    0.038686,    0.038283,     0.03788,    0.037477,    0.037074,     0.03667,\n",
       "           0.036266,    0.035863,    0.035459,    0.035054,     0.03465,    0.034246,    0.033841,    0.033436,    0.033031,    0.032626,    0.032221,    0.031815,    0.031409,    0.031004,    0.030598,    0.030191,    0.029785,    0.029379,    0.028972,    0.028565,    0.028158,    0.027751,    0.027343,\n",
       "           0.026936,    0.026528,     0.02612,    0.025712,    0.025304,    0.024896,    0.024487,    0.024079,     0.02367,    0.023261,    0.022852,    0.022442,           0,           0,           0,           0,           0,           0,           0,           0,           0,           0,           0,\n",
       "                  0,           0,           0,           0,           0,           0,           0,           0,           0,           0,           0]]), 'Confidence', 'F1'], [array([          0,    0.001001,    0.002002,    0.003003,    0.004004,    0.005005,    0.006006,    0.007007,    0.008008,    0.009009,     0.01001,    0.011011,    0.012012,    0.013013,    0.014014,    0.015015,    0.016016,    0.017017,    0.018018,    0.019019,     0.02002,    0.021021,    0.022022,    0.023023,\n",
       "          0.024024,    0.025025,    0.026026,    0.027027,    0.028028,    0.029029,     0.03003,    0.031031,    0.032032,    0.033033,    0.034034,    0.035035,    0.036036,    0.037037,    0.038038,    0.039039,     0.04004,    0.041041,    0.042042,    0.043043,    0.044044,    0.045045,    0.046046,    0.047047,\n",
       "          0.048048,    0.049049,     0.05005,    0.051051,    0.052052,    0.053053,    0.054054,    0.055055,    0.056056,    0.057057,    0.058058,    0.059059,     0.06006,    0.061061,    0.062062,    0.063063,    0.064064,    0.065065,    0.066066,    0.067067,    0.068068,    0.069069,     0.07007,    0.071071,\n",
       "          0.072072,    0.073073,    0.074074,    0.075075,    0.076076,    0.077077,    0.078078,    0.079079,     0.08008,    0.081081,    0.082082,    0.083083,    0.084084,    0.085085,    0.086086,    0.087087,    0.088088,    0.089089,     0.09009,    0.091091,    0.092092,    0.093093,    0.094094,    0.095095,\n",
       "          0.096096,    0.097097,    0.098098,    0.099099,      0.1001,      0.1011,      0.1021,      0.1031,      0.1041,     0.10511,     0.10611,     0.10711,     0.10811,     0.10911,     0.11011,     0.11111,     0.11211,     0.11311,     0.11411,     0.11512,     0.11612,     0.11712,     0.11812,     0.11912,\n",
       "           0.12012,     0.12112,     0.12212,     0.12312,     0.12412,     0.12513,     0.12613,     0.12713,     0.12813,     0.12913,     0.13013,     0.13113,     0.13213,     0.13313,     0.13413,     0.13514,     0.13614,     0.13714,     0.13814,     0.13914,     0.14014,     0.14114,     0.14214,     0.14314,\n",
       "           0.14414,     0.14515,     0.14615,     0.14715,     0.14815,     0.14915,     0.15015,     0.15115,     0.15215,     0.15315,     0.15415,     0.15516,     0.15616,     0.15716,     0.15816,     0.15916,     0.16016,     0.16116,     0.16216,     0.16316,     0.16416,     0.16517,     0.16617,     0.16717,\n",
       "           0.16817,     0.16917,     0.17017,     0.17117,     0.17217,     0.17317,     0.17417,     0.17518,     0.17618,     0.17718,     0.17818,     0.17918,     0.18018,     0.18118,     0.18218,     0.18318,     0.18418,     0.18519,     0.18619,     0.18719,     0.18819,     0.18919,     0.19019,     0.19119,\n",
       "           0.19219,     0.19319,     0.19419,      0.1952,      0.1962,      0.1972,      0.1982,      0.1992,      0.2002,      0.2012,      0.2022,      0.2032,      0.2042,     0.20521,     0.20621,     0.20721,     0.20821,     0.20921,     0.21021,     0.21121,     0.21221,     0.21321,     0.21421,     0.21522,\n",
       "           0.21622,     0.21722,     0.21822,     0.21922,     0.22022,     0.22122,     0.22222,     0.22322,     0.22422,     0.22523,     0.22623,     0.22723,     0.22823,     0.22923,     0.23023,     0.23123,     0.23223,     0.23323,     0.23423,     0.23524,     0.23624,     0.23724,     0.23824,     0.23924,\n",
       "           0.24024,     0.24124,     0.24224,     0.24324,     0.24424,     0.24525,     0.24625,     0.24725,     0.24825,     0.24925,     0.25025,     0.25125,     0.25225,     0.25325,     0.25425,     0.25526,     0.25626,     0.25726,     0.25826,     0.25926,     0.26026,     0.26126,     0.26226,     0.26326,\n",
       "           0.26426,     0.26527,     0.26627,     0.26727,     0.26827,     0.26927,     0.27027,     0.27127,     0.27227,     0.27327,     0.27427,     0.27528,     0.27628,     0.27728,     0.27828,     0.27928,     0.28028,     0.28128,     0.28228,     0.28328,     0.28428,     0.28529,     0.28629,     0.28729,\n",
       "           0.28829,     0.28929,     0.29029,     0.29129,     0.29229,     0.29329,     0.29429,      0.2953,      0.2963,      0.2973,      0.2983,      0.2993,      0.3003,      0.3013,      0.3023,      0.3033,      0.3043,     0.30531,     0.30631,     0.30731,     0.30831,     0.30931,     0.31031,     0.31131,\n",
       "           0.31231,     0.31331,     0.31431,     0.31532,     0.31632,     0.31732,     0.31832,     0.31932,     0.32032,     0.32132,     0.32232,     0.32332,     0.32432,     0.32533,     0.32633,     0.32733,     0.32833,     0.32933,     0.33033,     0.33133,     0.33233,     0.33333,     0.33433,     0.33534,\n",
       "           0.33634,     0.33734,     0.33834,     0.33934,     0.34034,     0.34134,     0.34234,     0.34334,     0.34434,     0.34535,     0.34635,     0.34735,     0.34835,     0.34935,     0.35035,     0.35135,     0.35235,     0.35335,     0.35435,     0.35536,     0.35636,     0.35736,     0.35836,     0.35936,\n",
       "           0.36036,     0.36136,     0.36236,     0.36336,     0.36436,     0.36537,     0.36637,     0.36737,     0.36837,     0.36937,     0.37037,     0.37137,     0.37237,     0.37337,     0.37437,     0.37538,     0.37638,     0.37738,     0.37838,     0.37938,     0.38038,     0.38138,     0.38238,     0.38338,\n",
       "           0.38438,     0.38539,     0.38639,     0.38739,     0.38839,     0.38939,     0.39039,     0.39139,     0.39239,     0.39339,     0.39439,      0.3954,      0.3964,      0.3974,      0.3984,      0.3994,      0.4004,      0.4014,      0.4024,      0.4034,      0.4044,     0.40541,     0.40641,     0.40741,\n",
       "           0.40841,     0.40941,     0.41041,     0.41141,     0.41241,     0.41341,     0.41441,     0.41542,     0.41642,     0.41742,     0.41842,     0.41942,     0.42042,     0.42142,     0.42242,     0.42342,     0.42442,     0.42543,     0.42643,     0.42743,     0.42843,     0.42943,     0.43043,     0.43143,\n",
       "           0.43243,     0.43343,     0.43443,     0.43544,     0.43644,     0.43744,     0.43844,     0.43944,     0.44044,     0.44144,     0.44244,     0.44344,     0.44444,     0.44545,     0.44645,     0.44745,     0.44845,     0.44945,     0.45045,     0.45145,     0.45245,     0.45345,     0.45445,     0.45546,\n",
       "           0.45646,     0.45746,     0.45846,     0.45946,     0.46046,     0.46146,     0.46246,     0.46346,     0.46446,     0.46547,     0.46647,     0.46747,     0.46847,     0.46947,     0.47047,     0.47147,     0.47247,     0.47347,     0.47447,     0.47548,     0.47648,     0.47748,     0.47848,     0.47948,\n",
       "           0.48048,     0.48148,     0.48248,     0.48348,     0.48448,     0.48549,     0.48649,     0.48749,     0.48849,     0.48949,     0.49049,     0.49149,     0.49249,     0.49349,     0.49449,      0.4955,      0.4965,      0.4975,      0.4985,      0.4995,      0.5005,      0.5015,      0.5025,      0.5035,\n",
       "            0.5045,     0.50551,     0.50651,     0.50751,     0.50851,     0.50951,     0.51051,     0.51151,     0.51251,     0.51351,     0.51451,     0.51552,     0.51652,     0.51752,     0.51852,     0.51952,     0.52052,     0.52152,     0.52252,     0.52352,     0.52452,     0.52553,     0.52653,     0.52753,\n",
       "           0.52853,     0.52953,     0.53053,     0.53153,     0.53253,     0.53353,     0.53453,     0.53554,     0.53654,     0.53754,     0.53854,     0.53954,     0.54054,     0.54154,     0.54254,     0.54354,     0.54454,     0.54555,     0.54655,     0.54755,     0.54855,     0.54955,     0.55055,     0.55155,\n",
       "           0.55255,     0.55355,     0.55455,     0.55556,     0.55656,     0.55756,     0.55856,     0.55956,     0.56056,     0.56156,     0.56256,     0.56356,     0.56456,     0.56557,     0.56657,     0.56757,     0.56857,     0.56957,     0.57057,     0.57157,     0.57257,     0.57357,     0.57457,     0.57558,\n",
       "           0.57658,     0.57758,     0.57858,     0.57958,     0.58058,     0.58158,     0.58258,     0.58358,     0.58458,     0.58559,     0.58659,     0.58759,     0.58859,     0.58959,     0.59059,     0.59159,     0.59259,     0.59359,     0.59459,      0.5956,      0.5966,      0.5976,      0.5986,      0.5996,\n",
       "            0.6006,      0.6016,      0.6026,      0.6036,      0.6046,     0.60561,     0.60661,     0.60761,     0.60861,     0.60961,     0.61061,     0.61161,     0.61261,     0.61361,     0.61461,     0.61562,     0.61662,     0.61762,     0.61862,     0.61962,     0.62062,     0.62162,     0.62262,     0.62362,\n",
       "           0.62462,     0.62563,     0.62663,     0.62763,     0.62863,     0.62963,     0.63063,     0.63163,     0.63263,     0.63363,     0.63463,     0.63564,     0.63664,     0.63764,     0.63864,     0.63964,     0.64064,     0.64164,     0.64264,     0.64364,     0.64464,     0.64565,     0.64665,     0.64765,\n",
       "           0.64865,     0.64965,     0.65065,     0.65165,     0.65265,     0.65365,     0.65465,     0.65566,     0.65666,     0.65766,     0.65866,     0.65966,     0.66066,     0.66166,     0.66266,     0.66366,     0.66466,     0.66567,     0.66667,     0.66767,     0.66867,     0.66967,     0.67067,     0.67167,\n",
       "           0.67267,     0.67367,     0.67467,     0.67568,     0.67668,     0.67768,     0.67868,     0.67968,     0.68068,     0.68168,     0.68268,     0.68368,     0.68468,     0.68569,     0.68669,     0.68769,     0.68869,     0.68969,     0.69069,     0.69169,     0.69269,     0.69369,     0.69469,      0.6957,\n",
       "            0.6967,      0.6977,      0.6987,      0.6997,      0.7007,      0.7017,      0.7027,      0.7037,      0.7047,     0.70571,     0.70671,     0.70771,     0.70871,     0.70971,     0.71071,     0.71171,     0.71271,     0.71371,     0.71471,     0.71572,     0.71672,     0.71772,     0.71872,     0.71972,\n",
       "           0.72072,     0.72172,     0.72272,     0.72372,     0.72472,     0.72573,     0.72673,     0.72773,     0.72873,     0.72973,     0.73073,     0.73173,     0.73273,     0.73373,     0.73473,     0.73574,     0.73674,     0.73774,     0.73874,     0.73974,     0.74074,     0.74174,     0.74274,     0.74374,\n",
       "           0.74474,     0.74575,     0.74675,     0.74775,     0.74875,     0.74975,     0.75075,     0.75175,     0.75275,     0.75375,     0.75475,     0.75576,     0.75676,     0.75776,     0.75876,     0.75976,     0.76076,     0.76176,     0.76276,     0.76376,     0.76476,     0.76577,     0.76677,     0.76777,\n",
       "           0.76877,     0.76977,     0.77077,     0.77177,     0.77277,     0.77377,     0.77477,     0.77578,     0.77678,     0.77778,     0.77878,     0.77978,     0.78078,     0.78178,     0.78278,     0.78378,     0.78478,     0.78579,     0.78679,     0.78779,     0.78879,     0.78979,     0.79079,     0.79179,\n",
       "           0.79279,     0.79379,     0.79479,      0.7958,      0.7968,      0.7978,      0.7988,      0.7998,      0.8008,      0.8018,      0.8028,      0.8038,      0.8048,     0.80581,     0.80681,     0.80781,     0.80881,     0.80981,     0.81081,     0.81181,     0.81281,     0.81381,     0.81481,     0.81582,\n",
       "           0.81682,     0.81782,     0.81882,     0.81982,     0.82082,     0.82182,     0.82282,     0.82382,     0.82482,     0.82583,     0.82683,     0.82783,     0.82883,     0.82983,     0.83083,     0.83183,     0.83283,     0.83383,     0.83483,     0.83584,     0.83684,     0.83784,     0.83884,     0.83984,\n",
       "           0.84084,     0.84184,     0.84284,     0.84384,     0.84484,     0.84585,     0.84685,     0.84785,     0.84885,     0.84985,     0.85085,     0.85185,     0.85285,     0.85385,     0.85485,     0.85586,     0.85686,     0.85786,     0.85886,     0.85986,     0.86086,     0.86186,     0.86286,     0.86386,\n",
       "           0.86486,     0.86587,     0.86687,     0.86787,     0.86887,     0.86987,     0.87087,     0.87187,     0.87287,     0.87387,     0.87487,     0.87588,     0.87688,     0.87788,     0.87888,     0.87988,     0.88088,     0.88188,     0.88288,     0.88388,     0.88488,     0.88589,     0.88689,     0.88789,\n",
       "           0.88889,     0.88989,     0.89089,     0.89189,     0.89289,     0.89389,     0.89489,      0.8959,      0.8969,      0.8979,      0.8989,      0.8999,      0.9009,      0.9019,      0.9029,      0.9039,      0.9049,     0.90591,     0.90691,     0.90791,     0.90891,     0.90991,     0.91091,     0.91191,\n",
       "           0.91291,     0.91391,     0.91491,     0.91592,     0.91692,     0.91792,     0.91892,     0.91992,     0.92092,     0.92192,     0.92292,     0.92392,     0.92492,     0.92593,     0.92693,     0.92793,     0.92893,     0.92993,     0.93093,     0.93193,     0.93293,     0.93393,     0.93493,     0.93594,\n",
       "           0.93694,     0.93794,     0.93894,     0.93994,     0.94094,     0.94194,     0.94294,     0.94394,     0.94494,     0.94595,     0.94695,     0.94795,     0.94895,     0.94995,     0.95095,     0.95195,     0.95295,     0.95395,     0.95495,     0.95596,     0.95696,     0.95796,     0.95896,     0.95996,\n",
       "           0.96096,     0.96196,     0.96296,     0.96396,     0.96496,     0.96597,     0.96697,     0.96797,     0.96897,     0.96997,     0.97097,     0.97197,     0.97297,     0.97397,     0.97497,     0.97598,     0.97698,     0.97798,     0.97898,     0.97998,     0.98098,     0.98198,     0.98298,     0.98398,\n",
       "           0.98498,     0.98599,     0.98699,     0.98799,     0.98899,     0.98999,     0.99099,     0.99199,     0.99299,     0.99399,     0.99499,       0.996,       0.997,       0.998,       0.999,           1]), array([[  0.0074634,   0.0074634,    0.013264,    0.018301,    0.023255,    0.029113,    0.033748,     0.03784,    0.043102,    0.047977,     0.05362,    0.059765,    0.066594,    0.073376,     0.07881,    0.084007,    0.088527,    0.096186,    0.098773,     0.10415,     0.10911,     0.11714,     0.11709,\n",
       "            0.11951,     0.12432,     0.12816,     0.13308,     0.13822,     0.14158,      0.1446,     0.14843,     0.15109,     0.15928,     0.15626,     0.16138,     0.16061,     0.16457,     0.17028,     0.17262,      0.1754,     0.18215,     0.18434,     0.18515,     0.19071,     0.19232,     0.19414,\n",
       "            0.19086,     0.19414,     0.19343,     0.19887,     0.20274,     0.20577,     0.20736,     0.20533,     0.21333,     0.21138,     0.21695,     0.22244,     0.22352,     0.22736,     0.23407,     0.24142,     0.23186,     0.22823,      0.2376,     0.24674,     0.24596,     0.25223,     0.25803,\n",
       "            0.26592,     0.26859,     0.27663,     0.28951,     0.29497,     0.30257,     0.30746,     0.31095,      0.3144,     0.32069,      0.3251,     0.32903,     0.33197,     0.33583,     0.34784,      0.3517,     0.35391,     0.34656,     0.35397,     0.35755,     0.35959,     0.36164,      0.3639,\n",
       "            0.38588,     0.40303,     0.40708,     0.41685,     0.41976,     0.42267,     0.43485,     0.43951,     0.44417,     0.44664,     0.44897,     0.45131,     0.45364,     0.45557,     0.45723,      0.4589,     0.46057,     0.46223,      0.4639,     0.46621,     0.47025,     0.47428,      0.4752,\n",
       "            0.47333,     0.47146,     0.46959,     0.46772,     0.46585,     0.46398,     0.46732,      0.4729,     0.48746,     0.48886,     0.49026,     0.49166,     0.49306,     0.49447,     0.49587,     0.49727,     0.49867,     0.50026,      0.5053,     0.51034,     0.51465,     0.51773,     0.52081,\n",
       "            0.52388,     0.52696,     0.52899,     0.53064,     0.53229,     0.53394,     0.53558,     0.53723,     0.53888,     0.54053,     0.54218,     0.54494,     0.54848,     0.55202,     0.55556,     0.55906,     0.56207,     0.56509,     0.56811,     0.57113,     0.57415,     0.57708,     0.57992,\n",
       "            0.58276,      0.5856,     0.58843,     0.59127,     0.61408,     0.62338,     0.63269,     0.65801,     0.66105,      0.6641,     0.66714,     0.67019,     0.67324,     0.67628,     0.67992,     0.68534,     0.69076,     0.69619,     0.70161,     0.70319,     0.70234,      0.7015,     0.70066,\n",
       "            0.69982,     0.69898,     0.69814,     0.69729,     0.69645,     0.69561,     0.69477,     0.69393,     0.69308,     0.69281,      0.6993,     0.70579,     0.71228,     0.71877,     0.72152,      0.7234,     0.72528,     0.72715,     0.72903,     0.73091,     0.73279,     0.73467,     0.73654,\n",
       "            0.73842,      0.7403,     0.74218,     0.74406,     0.74593,     0.74781,     0.74969,     0.75826,     0.76817,     0.77807,     0.78329,     0.78454,     0.78579,     0.78704,     0.78829,     0.78955,      0.7908,     0.79205,      0.7933,     0.79455,     0.79581,     0.79706,     0.79831,\n",
       "            0.79956,     0.80081,     0.80207,     0.80332,     0.80457,     0.80582,     0.80707,     0.80833,     0.80958,     0.81083,     0.81208,     0.81333,     0.81459,     0.81584,     0.81709,     0.81742,     0.81151,     0.80922,     0.80876,      0.8083,     0.80784,     0.80738,     0.80692,\n",
       "            0.80646,       0.806,     0.80554,     0.80508,     0.80462,     0.80417,     0.80371,     0.80325,     0.80279,     0.80233,     0.80187,     0.80141,     0.80095,     0.80049,     0.80003,     0.79988,     0.79975,     0.79962,     0.79948,     0.79935,     0.79922,     0.79909,     0.79896,\n",
       "            0.79883,      0.7987,     0.79857,     0.79843,      0.7983,     0.79817,     0.79804,     0.79791,     0.79778,     0.79765,     0.79752,     0.79739,     0.79725,     0.79712,     0.79699,     0.79686,     0.79673,      0.7966,     0.79647,     0.79634,      0.7962,     0.79607,     0.79594,\n",
       "            0.79581,     0.79568,     0.79555,     0.79542,     0.79529,     0.79516,     0.79502,     0.79489,     0.79476,     0.79463,      0.7945,     0.79437,     0.79424,     0.79411,     0.79397,     0.79384,     0.79371,     0.79358,     0.79345,     0.79332,     0.79319,     0.79306,     0.79292,\n",
       "            0.79279,     0.79266,     0.79253,      0.7924,     0.79227,     0.79214,     0.79201,     0.79188,     0.79174,     0.79161,     0.79148,     0.79135,     0.79122,     0.79109,     0.79096,     0.79083,     0.79069,     0.79056,     0.79043,      0.7903,     0.79017,     0.79004,     0.78991,\n",
       "            0.78978,     0.78965,     0.78951,     0.78913,     0.78863,     0.78813,     0.78763,     0.78713,     0.78663,     0.78613,     0.78563,     0.78513,     0.78463,     0.78413,     0.78363,     0.78313,     0.78263,     0.78213,     0.78164,     0.78114,     0.78064,     0.78014,     0.77964,\n",
       "            0.77914,     0.77864,     0.77814,     0.77773,     0.77755,     0.77737,     0.77719,     0.77702,     0.77684,     0.77666,     0.77648,      0.7763,     0.77613,     0.77595,     0.77577,     0.77559,     0.77541,     0.77524,     0.77506,     0.77488,      0.7747,     0.77452,     0.77435,\n",
       "            0.77417,     0.77399,     0.77381,     0.77363,     0.77345,     0.77328,      0.7731,     0.77292,     0.77274,     0.77256,     0.77239,     0.77221,     0.77203,     0.77185,     0.77167,      0.7715,     0.77132,     0.77114,     0.77096,     0.77078,     0.77061,     0.77043,     0.77025,\n",
       "            0.77007,     0.76989,     0.76972,     0.76954,     0.76936,     0.76918,       0.769,     0.76883,     0.76865,     0.76847,     0.76829,     0.76811,     0.76794,     0.76776,     0.76758,      0.7674,     0.76722,     0.76704,     0.76687,     0.76669,     0.76651,     0.76633,     0.76615,\n",
       "            0.76598,      0.7658,     0.76562,     0.76544,     0.76526,     0.76509,     0.76491,     0.76473,     0.76445,     0.76415,     0.76386,     0.76356,     0.76326,     0.76296,     0.76267,     0.76237,     0.76207,     0.76178,     0.76148,     0.76118,     0.76088,     0.76059,     0.76029,\n",
       "            0.75999,      0.7597,      0.7594,      0.7591,     0.75881,     0.75851,     0.75821,     0.75791,     0.75762,     0.75732,     0.75702,     0.75673,     0.75643,     0.75613,     0.75584,     0.75554,     0.75524,     0.75494,     0.75465,     0.75435,     0.75405,     0.75376,     0.75346,\n",
       "            0.75316,     0.75287,     0.75257,     0.75227,     0.75197,     0.75168,     0.75138,     0.75108,     0.75079,     0.75049,     0.75019,     0.75086,      0.7533,     0.75574,     0.75818,     0.76062,     0.76307,     0.76551,     0.76795,     0.77039,     0.77283,     0.77527,     0.77771,\n",
       "            0.78015,     0.78259,     0.78503,     0.78747,     0.78991,     0.79235,     0.79479,     0.79723,     0.79967,     0.79841,     0.79658,     0.79475,     0.79292,     0.79109,     0.78926,     0.78743,     0.78567,     0.78493,      0.7842,     0.78347,     0.78273,       0.782,     0.78126,\n",
       "            0.78053,     0.77979,     0.77906,     0.77832,     0.77759,     0.77685,     0.77612,     0.77538,     0.77465,     0.77392,     0.77318,     0.77245,     0.77171,     0.77098,     0.77024,     0.76951,     0.77605,       0.787,     0.79796,     0.80891,     0.81986,     0.83081,     0.83695,\n",
       "            0.84166,     0.84637,     0.85107,     0.85578,     0.86049,     0.86519,      0.8699,     0.87461,     0.87931,     0.88402,     0.88872,     0.89343,     0.89814,     0.90284,     0.90755,     0.90882,     0.90843,     0.90803,     0.90763,     0.90724,     0.90684,     0.90645,     0.90605,\n",
       "            0.90565,     0.90526,     0.90486,     0.90446,     0.90407,     0.90367,     0.90327,     0.90288,     0.90248,     0.90208,     0.90169,     0.90129,     0.90089,      0.9005,      0.9001,     0.89911,     0.89791,     0.89671,     0.89551,     0.89431,     0.89311,     0.89191,     0.89071,\n",
       "            0.88951,      0.8887,      0.8883,     0.88791,     0.88751,     0.88712,     0.88672,     0.88633,     0.88593,     0.88554,     0.88514,     0.88475,     0.88435,     0.88395,     0.88356,     0.88316,     0.88277,     0.88237,     0.88198,     0.88158,     0.88119,     0.88079,      0.8804,\n",
       "               0.88,      0.8796,     0.87921,     0.87881,     0.87842,     0.87802,     0.87763,     0.87723,     0.87684,     0.87644,     0.87605,     0.87565,     0.87525,     0.87485,     0.87445,     0.87404,     0.87363,     0.87323,     0.87282,     0.87241,     0.87201,      0.8716,     0.87119,\n",
       "            0.87079,     0.87038,     0.86997,     0.86957,     0.86916,     0.86875,     0.86835,     0.86794,     0.86753,     0.86713,     0.86672,     0.86631,     0.86591,      0.8655,     0.86509,     0.86469,     0.86428,     0.86387,     0.86347,     0.86306,     0.86265,     0.86225,     0.86184,\n",
       "            0.86143,     0.86103,     0.86062,     0.86021,      0.8598,      0.8594,     0.85899,     0.85858,     0.85818,     0.85777,     0.85736,      0.8569,     0.85636,     0.85583,     0.85529,     0.85475,     0.85422,     0.85368,     0.85314,     0.85261,     0.85207,     0.85153,       0.851,\n",
       "            0.85046,     0.84993,     0.84939,     0.84885,     0.84832,     0.84778,     0.84724,     0.84671,     0.84617,     0.84563,      0.8451,     0.84456,     0.84403,     0.84349,     0.84295,     0.84242,     0.84188,     0.84134,     0.84081,     0.84027,     0.83973,      0.8392,     0.83866,\n",
       "            0.83813,     0.83759,     0.83705,     0.83652,     0.83598,     0.83544,     0.83491,     0.83437,     0.83383,     0.83329,     0.83271,     0.83212,     0.83153,     0.83094,     0.83035,     0.82976,     0.82917,     0.82858,     0.82799,      0.8274,     0.82681,     0.82623,     0.82564,\n",
       "            0.82505,     0.82446,     0.82387,     0.82328,     0.82269,      0.8221,     0.82151,     0.82092,     0.82033,     0.81975,     0.81916,     0.81857,     0.81798,     0.81739,      0.8168,     0.81621,     0.81562,     0.81503,     0.81444,     0.81385,     0.81326,     0.81268,     0.81209,\n",
       "             0.8115,     0.81091,     0.81032,     0.80973,     0.80914,     0.80855,     0.80796,     0.80737,     0.80678,      0.8062,     0.80561,     0.80502,     0.80443,     0.80384,     0.80325,     0.80266,     0.80207,     0.80148,     0.80089,      0.8003,     0.79957,     0.79867,     0.79777,\n",
       "            0.79687,     0.79597,     0.79507,     0.79417,     0.79327,     0.79237,     0.79147,     0.79057,     0.78968,     0.78878,     0.78788,     0.78698,     0.78608,     0.78518,     0.78428,     0.78338,     0.78248,     0.78158,     0.78068,     0.77979,     0.77889,     0.77799,     0.77709,\n",
       "            0.77619,     0.77529,     0.77439,     0.77349,     0.77259,     0.77169,     0.77079,     0.76989,       0.769,      0.7681,      0.7672,      0.7663,      0.7654,      0.7645,      0.7636,      0.7627,      0.7618,      0.7609,        0.76,      0.7591,     0.75821,     0.75731,     0.75641,\n",
       "            0.75551,     0.75461,     0.75371,     0.75281,     0.75191,     0.75101,     0.75011,     0.75411,     0.75881,     0.76351,     0.76822,     0.77292,     0.77762,     0.78232,     0.78702,     0.79173,     0.79643,     0.80113,     0.80583,     0.81053,     0.81523,     0.81994,     0.82464,\n",
       "            0.82934,     0.83404,     0.83874,     0.84345,     0.84815,     0.85285,     0.85755,     0.86225,     0.86696,     0.87166,     0.87636,     0.88106,     0.88576,     0.89047,     0.89517,     0.89987,     0.90457,     0.90927,     0.91398,     0.91868,     0.92338,     0.92808,     0.93278,\n",
       "            0.93749,     0.94219,     0.94689,     0.95159,     0.95629,       0.961,      0.9657,      0.9704,      0.9751,      0.9798,     0.98451,     0.98921,     0.99391,     0.99861,           1,           1,           1,           1,           1,           1,           1,           1,           1,\n",
       "                  1,           1,           1,           1,           1,           1,           1,           1,           1,           1,           1,           1,           1,           1,           1,           1,           1,           1,           1,           1,           1,           1,           1,\n",
       "                  1,           1,           1,           1,           1,           1,           1,           1,           1,           1,           1,           1,           1,           1,           1,           1,           1,           1,           1,           1,           1,           1,           1,\n",
       "                  1,           1,           1,           1,           1,           1,           1,           1,           1,           1,           1,           1,           1,           1,           1,           1,           1,           1,           1,           1,           1,           1,           1,\n",
       "                  1,           1,           1,           1,           1,           1,           1,           1,           1,           1,           1,           1,           1,           1,           1,           1,           1,           1,           1,           1,           1,           1,           1,\n",
       "                  1,           1,           1,           1,           1,           1,           1,           1,           1,           1,           1]]), 'Confidence', 'Precision'], [array([          0,    0.001001,    0.002002,    0.003003,    0.004004,    0.005005,    0.006006,    0.007007,    0.008008,    0.009009,     0.01001,    0.011011,    0.012012,    0.013013,    0.014014,    0.015015,    0.016016,    0.017017,    0.018018,    0.019019,     0.02002,    0.021021,    0.022022,    0.023023,\n",
       "          0.024024,    0.025025,    0.026026,    0.027027,    0.028028,    0.029029,     0.03003,    0.031031,    0.032032,    0.033033,    0.034034,    0.035035,    0.036036,    0.037037,    0.038038,    0.039039,     0.04004,    0.041041,    0.042042,    0.043043,    0.044044,    0.045045,    0.046046,    0.047047,\n",
       "          0.048048,    0.049049,     0.05005,    0.051051,    0.052052,    0.053053,    0.054054,    0.055055,    0.056056,    0.057057,    0.058058,    0.059059,     0.06006,    0.061061,    0.062062,    0.063063,    0.064064,    0.065065,    0.066066,    0.067067,    0.068068,    0.069069,     0.07007,    0.071071,\n",
       "          0.072072,    0.073073,    0.074074,    0.075075,    0.076076,    0.077077,    0.078078,    0.079079,     0.08008,    0.081081,    0.082082,    0.083083,    0.084084,    0.085085,    0.086086,    0.087087,    0.088088,    0.089089,     0.09009,    0.091091,    0.092092,    0.093093,    0.094094,    0.095095,\n",
       "          0.096096,    0.097097,    0.098098,    0.099099,      0.1001,      0.1011,      0.1021,      0.1031,      0.1041,     0.10511,     0.10611,     0.10711,     0.10811,     0.10911,     0.11011,     0.11111,     0.11211,     0.11311,     0.11411,     0.11512,     0.11612,     0.11712,     0.11812,     0.11912,\n",
       "           0.12012,     0.12112,     0.12212,     0.12312,     0.12412,     0.12513,     0.12613,     0.12713,     0.12813,     0.12913,     0.13013,     0.13113,     0.13213,     0.13313,     0.13413,     0.13514,     0.13614,     0.13714,     0.13814,     0.13914,     0.14014,     0.14114,     0.14214,     0.14314,\n",
       "           0.14414,     0.14515,     0.14615,     0.14715,     0.14815,     0.14915,     0.15015,     0.15115,     0.15215,     0.15315,     0.15415,     0.15516,     0.15616,     0.15716,     0.15816,     0.15916,     0.16016,     0.16116,     0.16216,     0.16316,     0.16416,     0.16517,     0.16617,     0.16717,\n",
       "           0.16817,     0.16917,     0.17017,     0.17117,     0.17217,     0.17317,     0.17417,     0.17518,     0.17618,     0.17718,     0.17818,     0.17918,     0.18018,     0.18118,     0.18218,     0.18318,     0.18418,     0.18519,     0.18619,     0.18719,     0.18819,     0.18919,     0.19019,     0.19119,\n",
       "           0.19219,     0.19319,     0.19419,      0.1952,      0.1962,      0.1972,      0.1982,      0.1992,      0.2002,      0.2012,      0.2022,      0.2032,      0.2042,     0.20521,     0.20621,     0.20721,     0.20821,     0.20921,     0.21021,     0.21121,     0.21221,     0.21321,     0.21421,     0.21522,\n",
       "           0.21622,     0.21722,     0.21822,     0.21922,     0.22022,     0.22122,     0.22222,     0.22322,     0.22422,     0.22523,     0.22623,     0.22723,     0.22823,     0.22923,     0.23023,     0.23123,     0.23223,     0.23323,     0.23423,     0.23524,     0.23624,     0.23724,     0.23824,     0.23924,\n",
       "           0.24024,     0.24124,     0.24224,     0.24324,     0.24424,     0.24525,     0.24625,     0.24725,     0.24825,     0.24925,     0.25025,     0.25125,     0.25225,     0.25325,     0.25425,     0.25526,     0.25626,     0.25726,     0.25826,     0.25926,     0.26026,     0.26126,     0.26226,     0.26326,\n",
       "           0.26426,     0.26527,     0.26627,     0.26727,     0.26827,     0.26927,     0.27027,     0.27127,     0.27227,     0.27327,     0.27427,     0.27528,     0.27628,     0.27728,     0.27828,     0.27928,     0.28028,     0.28128,     0.28228,     0.28328,     0.28428,     0.28529,     0.28629,     0.28729,\n",
       "           0.28829,     0.28929,     0.29029,     0.29129,     0.29229,     0.29329,     0.29429,      0.2953,      0.2963,      0.2973,      0.2983,      0.2993,      0.3003,      0.3013,      0.3023,      0.3033,      0.3043,     0.30531,     0.30631,     0.30731,     0.30831,     0.30931,     0.31031,     0.31131,\n",
       "           0.31231,     0.31331,     0.31431,     0.31532,     0.31632,     0.31732,     0.31832,     0.31932,     0.32032,     0.32132,     0.32232,     0.32332,     0.32432,     0.32533,     0.32633,     0.32733,     0.32833,     0.32933,     0.33033,     0.33133,     0.33233,     0.33333,     0.33433,     0.33534,\n",
       "           0.33634,     0.33734,     0.33834,     0.33934,     0.34034,     0.34134,     0.34234,     0.34334,     0.34434,     0.34535,     0.34635,     0.34735,     0.34835,     0.34935,     0.35035,     0.35135,     0.35235,     0.35335,     0.35435,     0.35536,     0.35636,     0.35736,     0.35836,     0.35936,\n",
       "           0.36036,     0.36136,     0.36236,     0.36336,     0.36436,     0.36537,     0.36637,     0.36737,     0.36837,     0.36937,     0.37037,     0.37137,     0.37237,     0.37337,     0.37437,     0.37538,     0.37638,     0.37738,     0.37838,     0.37938,     0.38038,     0.38138,     0.38238,     0.38338,\n",
       "           0.38438,     0.38539,     0.38639,     0.38739,     0.38839,     0.38939,     0.39039,     0.39139,     0.39239,     0.39339,     0.39439,      0.3954,      0.3964,      0.3974,      0.3984,      0.3994,      0.4004,      0.4014,      0.4024,      0.4034,      0.4044,     0.40541,     0.40641,     0.40741,\n",
       "           0.40841,     0.40941,     0.41041,     0.41141,     0.41241,     0.41341,     0.41441,     0.41542,     0.41642,     0.41742,     0.41842,     0.41942,     0.42042,     0.42142,     0.42242,     0.42342,     0.42442,     0.42543,     0.42643,     0.42743,     0.42843,     0.42943,     0.43043,     0.43143,\n",
       "           0.43243,     0.43343,     0.43443,     0.43544,     0.43644,     0.43744,     0.43844,     0.43944,     0.44044,     0.44144,     0.44244,     0.44344,     0.44444,     0.44545,     0.44645,     0.44745,     0.44845,     0.44945,     0.45045,     0.45145,     0.45245,     0.45345,     0.45445,     0.45546,\n",
       "           0.45646,     0.45746,     0.45846,     0.45946,     0.46046,     0.46146,     0.46246,     0.46346,     0.46446,     0.46547,     0.46647,     0.46747,     0.46847,     0.46947,     0.47047,     0.47147,     0.47247,     0.47347,     0.47447,     0.47548,     0.47648,     0.47748,     0.47848,     0.47948,\n",
       "           0.48048,     0.48148,     0.48248,     0.48348,     0.48448,     0.48549,     0.48649,     0.48749,     0.48849,     0.48949,     0.49049,     0.49149,     0.49249,     0.49349,     0.49449,      0.4955,      0.4965,      0.4975,      0.4985,      0.4995,      0.5005,      0.5015,      0.5025,      0.5035,\n",
       "            0.5045,     0.50551,     0.50651,     0.50751,     0.50851,     0.50951,     0.51051,     0.51151,     0.51251,     0.51351,     0.51451,     0.51552,     0.51652,     0.51752,     0.51852,     0.51952,     0.52052,     0.52152,     0.52252,     0.52352,     0.52452,     0.52553,     0.52653,     0.52753,\n",
       "           0.52853,     0.52953,     0.53053,     0.53153,     0.53253,     0.53353,     0.53453,     0.53554,     0.53654,     0.53754,     0.53854,     0.53954,     0.54054,     0.54154,     0.54254,     0.54354,     0.54454,     0.54555,     0.54655,     0.54755,     0.54855,     0.54955,     0.55055,     0.55155,\n",
       "           0.55255,     0.55355,     0.55455,     0.55556,     0.55656,     0.55756,     0.55856,     0.55956,     0.56056,     0.56156,     0.56256,     0.56356,     0.56456,     0.56557,     0.56657,     0.56757,     0.56857,     0.56957,     0.57057,     0.57157,     0.57257,     0.57357,     0.57457,     0.57558,\n",
       "           0.57658,     0.57758,     0.57858,     0.57958,     0.58058,     0.58158,     0.58258,     0.58358,     0.58458,     0.58559,     0.58659,     0.58759,     0.58859,     0.58959,     0.59059,     0.59159,     0.59259,     0.59359,     0.59459,      0.5956,      0.5966,      0.5976,      0.5986,      0.5996,\n",
       "            0.6006,      0.6016,      0.6026,      0.6036,      0.6046,     0.60561,     0.60661,     0.60761,     0.60861,     0.60961,     0.61061,     0.61161,     0.61261,     0.61361,     0.61461,     0.61562,     0.61662,     0.61762,     0.61862,     0.61962,     0.62062,     0.62162,     0.62262,     0.62362,\n",
       "           0.62462,     0.62563,     0.62663,     0.62763,     0.62863,     0.62963,     0.63063,     0.63163,     0.63263,     0.63363,     0.63463,     0.63564,     0.63664,     0.63764,     0.63864,     0.63964,     0.64064,     0.64164,     0.64264,     0.64364,     0.64464,     0.64565,     0.64665,     0.64765,\n",
       "           0.64865,     0.64965,     0.65065,     0.65165,     0.65265,     0.65365,     0.65465,     0.65566,     0.65666,     0.65766,     0.65866,     0.65966,     0.66066,     0.66166,     0.66266,     0.66366,     0.66466,     0.66567,     0.66667,     0.66767,     0.66867,     0.66967,     0.67067,     0.67167,\n",
       "           0.67267,     0.67367,     0.67467,     0.67568,     0.67668,     0.67768,     0.67868,     0.67968,     0.68068,     0.68168,     0.68268,     0.68368,     0.68468,     0.68569,     0.68669,     0.68769,     0.68869,     0.68969,     0.69069,     0.69169,     0.69269,     0.69369,     0.69469,      0.6957,\n",
       "            0.6967,      0.6977,      0.6987,      0.6997,      0.7007,      0.7017,      0.7027,      0.7037,      0.7047,     0.70571,     0.70671,     0.70771,     0.70871,     0.70971,     0.71071,     0.71171,     0.71271,     0.71371,     0.71471,     0.71572,     0.71672,     0.71772,     0.71872,     0.71972,\n",
       "           0.72072,     0.72172,     0.72272,     0.72372,     0.72472,     0.72573,     0.72673,     0.72773,     0.72873,     0.72973,     0.73073,     0.73173,     0.73273,     0.73373,     0.73473,     0.73574,     0.73674,     0.73774,     0.73874,     0.73974,     0.74074,     0.74174,     0.74274,     0.74374,\n",
       "           0.74474,     0.74575,     0.74675,     0.74775,     0.74875,     0.74975,     0.75075,     0.75175,     0.75275,     0.75375,     0.75475,     0.75576,     0.75676,     0.75776,     0.75876,     0.75976,     0.76076,     0.76176,     0.76276,     0.76376,     0.76476,     0.76577,     0.76677,     0.76777,\n",
       "           0.76877,     0.76977,     0.77077,     0.77177,     0.77277,     0.77377,     0.77477,     0.77578,     0.77678,     0.77778,     0.77878,     0.77978,     0.78078,     0.78178,     0.78278,     0.78378,     0.78478,     0.78579,     0.78679,     0.78779,     0.78879,     0.78979,     0.79079,     0.79179,\n",
       "           0.79279,     0.79379,     0.79479,      0.7958,      0.7968,      0.7978,      0.7988,      0.7998,      0.8008,      0.8018,      0.8028,      0.8038,      0.8048,     0.80581,     0.80681,     0.80781,     0.80881,     0.80981,     0.81081,     0.81181,     0.81281,     0.81381,     0.81481,     0.81582,\n",
       "           0.81682,     0.81782,     0.81882,     0.81982,     0.82082,     0.82182,     0.82282,     0.82382,     0.82482,     0.82583,     0.82683,     0.82783,     0.82883,     0.82983,     0.83083,     0.83183,     0.83283,     0.83383,     0.83483,     0.83584,     0.83684,     0.83784,     0.83884,     0.83984,\n",
       "           0.84084,     0.84184,     0.84284,     0.84384,     0.84484,     0.84585,     0.84685,     0.84785,     0.84885,     0.84985,     0.85085,     0.85185,     0.85285,     0.85385,     0.85485,     0.85586,     0.85686,     0.85786,     0.85886,     0.85986,     0.86086,     0.86186,     0.86286,     0.86386,\n",
       "           0.86486,     0.86587,     0.86687,     0.86787,     0.86887,     0.86987,     0.87087,     0.87187,     0.87287,     0.87387,     0.87487,     0.87588,     0.87688,     0.87788,     0.87888,     0.87988,     0.88088,     0.88188,     0.88288,     0.88388,     0.88488,     0.88589,     0.88689,     0.88789,\n",
       "           0.88889,     0.88989,     0.89089,     0.89189,     0.89289,     0.89389,     0.89489,      0.8959,      0.8969,      0.8979,      0.8989,      0.8999,      0.9009,      0.9019,      0.9029,      0.9039,      0.9049,     0.90591,     0.90691,     0.90791,     0.90891,     0.90991,     0.91091,     0.91191,\n",
       "           0.91291,     0.91391,     0.91491,     0.91592,     0.91692,     0.91792,     0.91892,     0.91992,     0.92092,     0.92192,     0.92292,     0.92392,     0.92492,     0.92593,     0.92693,     0.92793,     0.92893,     0.92993,     0.93093,     0.93193,     0.93293,     0.93393,     0.93493,     0.93594,\n",
       "           0.93694,     0.93794,     0.93894,     0.93994,     0.94094,     0.94194,     0.94294,     0.94394,     0.94494,     0.94595,     0.94695,     0.94795,     0.94895,     0.94995,     0.95095,     0.95195,     0.95295,     0.95395,     0.95495,     0.95596,     0.95696,     0.95796,     0.95896,     0.95996,\n",
       "           0.96096,     0.96196,     0.96296,     0.96396,     0.96496,     0.96597,     0.96697,     0.96797,     0.96897,     0.96997,     0.97097,     0.97197,     0.97297,     0.97397,     0.97497,     0.97598,     0.97698,     0.97798,     0.97898,     0.97998,     0.98098,     0.98198,     0.98298,     0.98398,\n",
       "           0.98498,     0.98599,     0.98699,     0.98799,     0.98899,     0.98999,     0.99099,     0.99199,     0.99299,     0.99399,     0.99499,       0.996,       0.997,       0.998,       0.999,           1]), array([[    0.93258,     0.93258,     0.88764,      0.8427,     0.80899,     0.79775,     0.76404,     0.74157,      0.7191,     0.69663,     0.67416,     0.65169,     0.64045,     0.62921,     0.61798,     0.58427,     0.57303,     0.57303,     0.55056,     0.53933,     0.51685,     0.51685,     0.48315,\n",
       "            0.46067,     0.44944,      0.4382,     0.42697,     0.41573,     0.39326,     0.38202,     0.38202,     0.37079,     0.37079,     0.34831,     0.34812,     0.33708,     0.33708,     0.33708,     0.33708,     0.33708,     0.33708,     0.33708,     0.33708,     0.33627,     0.32584,     0.31461,\n",
       "            0.30337,     0.30337,     0.29213,     0.29213,     0.29213,     0.29213,     0.29213,      0.2809,      0.2773,     0.26966,     0.26966,     0.26966,     0.26966,     0.26966,     0.26966,     0.26821,     0.25439,     0.24719,     0.24719,     0.24294,     0.23596,     0.23596,     0.23596,\n",
       "            0.23596,     0.23596,     0.23596,     0.23596,     0.23596,     0.23596,     0.23596,     0.23596,     0.23596,     0.23596,     0.23596,     0.23596,     0.23596,     0.23596,     0.23596,     0.23596,     0.23596,     0.22472,     0.22472,     0.22472,     0.22472,     0.22472,     0.22472,\n",
       "            0.22472,     0.22472,     0.22472,     0.22472,     0.22472,     0.22472,     0.22472,     0.22472,     0.22472,     0.22472,     0.22472,     0.22472,     0.22472,     0.22472,     0.22472,     0.22472,     0.22472,     0.22472,     0.22472,     0.22472,     0.22472,     0.22472,     0.22385,\n",
       "            0.22221,     0.22056,     0.21892,     0.21727,     0.21563,     0.21398,     0.21348,     0.21348,     0.21348,     0.21348,     0.21348,     0.21348,     0.21348,     0.21348,     0.21348,     0.21348,     0.21348,     0.21348,     0.21348,     0.21348,     0.21348,     0.21348,     0.21348,\n",
       "            0.21348,     0.21348,     0.21348,     0.21348,     0.21348,     0.21348,     0.21348,     0.21348,     0.21348,     0.21348,     0.21348,     0.21348,     0.21348,     0.21348,     0.21348,     0.21348,     0.21348,     0.21348,     0.21348,     0.21348,     0.21348,     0.21348,     0.21348,\n",
       "            0.21348,     0.21348,     0.21348,     0.21348,     0.21348,     0.21348,     0.21348,     0.21348,     0.21348,     0.21348,     0.21348,     0.21348,     0.21348,     0.21348,     0.21348,     0.21348,     0.21348,     0.21348,     0.21348,     0.21297,     0.21214,     0.21131,     0.21048,\n",
       "            0.20965,     0.20882,     0.20799,     0.20716,     0.20633,      0.2055,     0.20467,     0.20384,     0.20301,     0.20225,     0.20225,     0.20225,     0.20225,     0.20225,     0.20225,     0.20225,     0.20225,     0.20225,     0.20225,     0.20225,     0.20225,     0.20225,     0.20225,\n",
       "            0.20225,     0.20225,     0.20225,     0.20225,     0.20225,     0.20225,     0.20225,     0.20225,     0.20225,     0.20225,     0.20225,     0.20225,     0.20225,     0.20225,     0.20225,     0.20225,     0.20225,     0.20225,     0.20225,     0.20225,     0.20225,     0.20225,     0.20225,\n",
       "            0.20225,     0.20225,     0.20225,     0.20225,     0.20225,     0.20225,     0.20225,     0.20225,     0.20225,     0.20225,     0.20225,     0.20225,     0.20225,     0.20225,     0.20225,     0.20126,     0.19359,     0.19065,     0.19011,     0.18957,     0.18903,     0.18848,     0.18794,\n",
       "             0.1874,     0.18686,     0.18632,     0.18577,     0.18523,     0.18469,     0.18415,     0.18361,     0.18306,     0.18252,     0.18198,     0.18144,      0.1809,     0.18035,     0.17981,     0.17964,      0.1795,     0.17936,     0.17922,     0.17908,     0.17894,      0.1788,     0.17866,\n",
       "            0.17852,     0.17838,     0.17824,      0.1781,     0.17796,     0.17782,     0.17768,     0.17754,      0.1774,     0.17726,     0.17712,     0.17698,     0.17684,      0.1767,     0.17656,     0.17642,     0.17628,     0.17614,       0.176,     0.17586,     0.17572,     0.17558,     0.17544,\n",
       "             0.1753,     0.17516,     0.17502,     0.17488,     0.17474,      0.1746,     0.17446,     0.17432,     0.17418,     0.17404,      0.1739,     0.17376,     0.17362,     0.17348,     0.17334,      0.1732,     0.17306,     0.17292,     0.17278,     0.17264,      0.1725,     0.17236,     0.17222,\n",
       "            0.17208,     0.17194,      0.1718,     0.17166,     0.17152,     0.17138,     0.17124,      0.1711,     0.17096,     0.17082,     0.17068,     0.17054,      0.1704,     0.17026,     0.17012,     0.16998,     0.16984,      0.1697,     0.16956,     0.16942,     0.16928,     0.16914,       0.169,\n",
       "            0.16886,     0.16872,     0.16858,     0.16821,     0.16773,     0.16725,     0.16677,     0.16629,     0.16581,     0.16533,     0.16485,     0.16437,     0.16389,     0.16341,     0.16293,     0.16245,     0.16197,     0.16149,     0.16101,     0.16053,     0.16005,     0.15957,     0.15909,\n",
       "            0.15861,     0.15813,     0.15765,     0.15726,     0.15711,     0.15695,      0.1568,     0.15665,      0.1565,     0.15634,     0.15619,     0.15604,     0.15588,     0.15573,     0.15558,     0.15542,     0.15527,     0.15512,     0.15497,     0.15481,     0.15466,     0.15451,     0.15435,\n",
       "             0.1542,     0.15405,     0.15389,     0.15374,     0.15359,     0.15343,     0.15328,     0.15313,     0.15298,     0.15282,     0.15267,     0.15252,     0.15236,     0.15221,     0.15206,      0.1519,     0.15175,      0.1516,     0.15144,     0.15129,     0.15114,     0.15099,     0.15083,\n",
       "            0.15068,     0.15053,     0.15037,     0.15022,     0.15007,     0.14991,     0.14976,     0.14961,     0.14946,      0.1493,     0.14915,       0.149,     0.14884,     0.14869,     0.14854,     0.14838,     0.14823,     0.14808,     0.14792,     0.14777,     0.14762,     0.14747,     0.14731,\n",
       "            0.14716,     0.14701,     0.14685,      0.1467,     0.14655,     0.14639,     0.14624,     0.14609,     0.14587,     0.14564,     0.14542,     0.14519,     0.14496,     0.14474,     0.14451,     0.14428,     0.14406,     0.14383,      0.1436,     0.14337,     0.14315,     0.14292,     0.14269,\n",
       "            0.14247,     0.14224,     0.14201,     0.14179,     0.14156,     0.14133,     0.14111,     0.14088,     0.14065,     0.14042,      0.1402,     0.13997,     0.13974,     0.13952,     0.13929,     0.13906,     0.13884,     0.13861,     0.13838,     0.13816,     0.13793,      0.1377,     0.13747,\n",
       "            0.13725,     0.13702,     0.13679,     0.13657,     0.13634,     0.13611,     0.13589,     0.13566,     0.13543,     0.13521,     0.13498,     0.13483,     0.13483,     0.13483,     0.13483,     0.13483,     0.13483,     0.13483,     0.13483,     0.13483,     0.13483,     0.13483,     0.13483,\n",
       "            0.13483,     0.13483,     0.13483,     0.13483,     0.13483,     0.13483,     0.13483,     0.13483,     0.13483,     0.13358,     0.13214,     0.13071,     0.12927,     0.12783,     0.12639,     0.12495,     0.12356,     0.12306,     0.12256,     0.12206,     0.12156,     0.12106,     0.12056,\n",
       "            0.12006,     0.11956,     0.11906,     0.11856,     0.11806,     0.11756,     0.11706,     0.11655,     0.11605,     0.11555,     0.11505,     0.11455,     0.11405,     0.11355,     0.11305,     0.11255,     0.11236,     0.11236,     0.11236,     0.11236,     0.11236,     0.11236,     0.11236,\n",
       "            0.11236,     0.11236,     0.11236,     0.11236,     0.11236,     0.11236,     0.11236,     0.11236,     0.11236,     0.11236,     0.11236,     0.11236,     0.11236,     0.11236,     0.11236,     0.11203,     0.11154,     0.11105,     0.11056,     0.11007,     0.10958,     0.10909,      0.1086,\n",
       "            0.10811,     0.10762,     0.10713,     0.10664,     0.10615,     0.10566,     0.10517,     0.10468,     0.10419,      0.1037,     0.10321,     0.10272,     0.10223,     0.10174,     0.10125,     0.10022,    0.099007,    0.097794,    0.096582,     0.09537,    0.094157,    0.092945,    0.091733,\n",
       "            0.09052,    0.089735,    0.089415,    0.089095,    0.088775,    0.088455,    0.088135,    0.087815,    0.087495,    0.087175,    0.086855,    0.086536,    0.086216,    0.085896,    0.085576,    0.085256,    0.084936,    0.084616,    0.084296,    0.083976,    0.083656,    0.083336,    0.083016,\n",
       "           0.082696,    0.082377,    0.082057,    0.081737,    0.081417,    0.081097,    0.080777,    0.080457,    0.080137,    0.079817,    0.079497,    0.079177,    0.078857,     0.07856,    0.078304,    0.078048,    0.077793,    0.077537,    0.077281,    0.077025,    0.076769,    0.076513,    0.076257,\n",
       "           0.076001,    0.075745,    0.075489,    0.075233,    0.074977,    0.074721,    0.074465,    0.074209,    0.073953,    0.073698,    0.073442,    0.073186,     0.07293,    0.072674,    0.072418,    0.072162,    0.071906,     0.07165,    0.071394,    0.071138,    0.070882,    0.070626,     0.07037,\n",
       "           0.070114,    0.069858,    0.069603,    0.069347,    0.069091,    0.068835,    0.068579,    0.068323,    0.068067,    0.067811,    0.067555,      0.0673,    0.067047,    0.066794,    0.066541,    0.066288,    0.066035,    0.065782,    0.065529,    0.065275,    0.065022,    0.064769,    0.064516,\n",
       "           0.064263,     0.06401,    0.063757,    0.063504,     0.06325,    0.062997,    0.062744,    0.062491,    0.062238,    0.061985,    0.061732,    0.061479,    0.061225,    0.060972,    0.060719,    0.060466,    0.060213,     0.05996,    0.059707,    0.059454,      0.0592,    0.058947,    0.058694,\n",
       "           0.058441,    0.058188,    0.057935,    0.057682,    0.057429,    0.057175,    0.056922,    0.056669,    0.056416,    0.056167,    0.055968,    0.055769,    0.055571,    0.055372,    0.055174,    0.054975,    0.054777,    0.054578,    0.054379,    0.054181,    0.053982,    0.053784,    0.053585,\n",
       "           0.053387,    0.053188,    0.052989,    0.052791,    0.052592,    0.052394,    0.052195,    0.051997,    0.051798,    0.051599,    0.051401,    0.051202,    0.051004,    0.050805,    0.050607,    0.050408,    0.050209,    0.050011,    0.049812,    0.049614,    0.049415,    0.049217,    0.049018,\n",
       "           0.048819,    0.048621,    0.048422,    0.048224,    0.048025,    0.047827,    0.047628,    0.047429,    0.047231,    0.047032,    0.046834,    0.046635,    0.046437,    0.046238,    0.046039,    0.045841,    0.045642,    0.045444,    0.045245,    0.045047,    0.044846,    0.044644,    0.044442,\n",
       "            0.04424,    0.044038,    0.043836,    0.043634,    0.043432,     0.04323,    0.043028,    0.042826,    0.042624,    0.042422,     0.04222,    0.042018,    0.041816,    0.041613,    0.041411,    0.041209,    0.041007,    0.040805,    0.040603,    0.040401,    0.040199,    0.039997,    0.039795,\n",
       "           0.039593,    0.039391,    0.039189,    0.038987,    0.038785,    0.038583,    0.038381,    0.038179,    0.037976,    0.037774,    0.037572,     0.03737,    0.037168,    0.036966,    0.036764,    0.036562,     0.03636,    0.036158,    0.035956,    0.035754,    0.035552,     0.03535,    0.035148,\n",
       "           0.034946,    0.034744,    0.034542,    0.034339,    0.034137,    0.033935,    0.033733,    0.033708,    0.033708,    0.033708,    0.033708,    0.033708,    0.033708,    0.033708,    0.033708,    0.033708,    0.033708,    0.033708,    0.033708,    0.033708,    0.033708,    0.033708,    0.033708,\n",
       "           0.033708,    0.033708,    0.033708,    0.033708,    0.033708,    0.033708,    0.033708,    0.033708,    0.033708,    0.033708,    0.033708,    0.033708,    0.033708,    0.033708,    0.033708,    0.033708,    0.033708,    0.033708,    0.033708,    0.033708,    0.033708,    0.033708,    0.033708,\n",
       "           0.033708,    0.033708,    0.033708,    0.033708,    0.033708,    0.033708,    0.033708,    0.033708,    0.033708,    0.033708,    0.033708,    0.033708,    0.033708,    0.033708,    0.033491,    0.033184,    0.032877,     0.03257,    0.032263,    0.031956,    0.031649,    0.031342,    0.031034,\n",
       "           0.030727,     0.03042,    0.030113,    0.029806,    0.029499,    0.029192,    0.028885,    0.028577,     0.02827,    0.027963,    0.027656,    0.027349,    0.027042,    0.026735,    0.026428,    0.026121,    0.025813,    0.025506,    0.025199,    0.024892,    0.024585,    0.024278,    0.023971,\n",
       "           0.023664,    0.023356,    0.023049,    0.022742,    0.022447,    0.022237,    0.022028,    0.021819,    0.021609,      0.0214,     0.02119,    0.020981,    0.020772,    0.020562,    0.020353,    0.020143,    0.019934,    0.019725,    0.019515,    0.019306,    0.019096,    0.018887,    0.018678,\n",
       "           0.018468,    0.018259,    0.018049,     0.01784,    0.017631,    0.017421,    0.017212,    0.017002,    0.016793,    0.016583,    0.016374,    0.016165,    0.015955,    0.015746,    0.015536,    0.015327,    0.015118,    0.014908,    0.014699,    0.014489,     0.01428,    0.014071,    0.013861,\n",
       "           0.013652,    0.013442,    0.013233,    0.013024,    0.012814,    0.012605,    0.012395,    0.012186,    0.011977,    0.011767,    0.011558,    0.011348,           0,           0,           0,           0,           0,           0,           0,           0,           0,           0,           0,\n",
       "                  0,           0,           0,           0,           0,           0,           0,           0,           0,           0,           0]]), 'Confidence', 'Recall']]\n",
       "fitness: 0.18842119539542748\n",
       "keys: ['metrics/precision(B)', 'metrics/recall(B)', 'metrics/mAP50(B)', 'metrics/mAP50-95(B)']\n",
       "maps: array([    0.18006])\n",
       "names: {0: 'gun'}\n",
       "plot: True\n",
       "results_dict: {'metrics/precision(B)': 0.7233984366045435, 'metrics/recall(B)': 0.20224719101123595, 'metrics/mAP50(B)': 0.2636832745875849, 'metrics/mAP50-95(B)': 0.1800587421518544, 'fitness': 0.18842119539542748}\n",
       "save_dir: PosixPath('runs/detect/train11')\n",
       "speed: {'preprocess': 0.08590156967575485, 'inference': 0.5230345167555251, 'loss': 0.00022123525808523365, 'postprocess': 0.8743346274436057}\n",
       "task: 'detect'"
      ]
     },
     "execution_count": 6,
     "metadata": {},
     "output_type": "execute_result"
    }
   ],
   "source": [
    "model.train(data=\"data.yaml\", \n",
    "            epochs=100)"
   ]
  }
 ],
 "metadata": {
  "kernelspec": {
   "display_name": "louis",
   "language": "python",
   "name": "python3"
  },
  "language_info": {
   "codemirror_mode": {
    "name": "ipython",
    "version": 3
   },
   "file_extension": ".py",
   "mimetype": "text/x-python",
   "name": "python",
   "nbconvert_exporter": "python",
   "pygments_lexer": "ipython3",
   "version": "3.10.14"
  }
 },
 "nbformat": 4,
 "nbformat_minor": 2
}
